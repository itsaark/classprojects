{
 "cells": [
  {
   "cell_type": "code",
   "execution_count": 96,
   "metadata": {},
   "outputs": [],
   "source": [
    "import pandas as pd\n",
    "import numpy as np\n",
    "import sklearn\n",
    "from matplotlib.pyplot import imshow, show\n",
    "import matplotlib\n",
    "import matplotlib.pyplot as plt\n",
    "from sklearn.model_selection import train_test_split\n",
    "from sklearn.metrics import classification_report, confusion_matrix, accuracy_score\n",
    "from sklearn import preprocessing\n",
    "from PIL import Image\n",
    "from IPython.display import display\n",
    "%matplotlib inline"
   ]
  },
  {
   "cell_type": "code",
   "execution_count": null,
   "metadata": {},
   "outputs": [],
   "source": []
  },
  {
   "cell_type": "markdown",
   "metadata": {},
   "source": [
    "##### Importing dataset"
   ]
  },
  {
   "cell_type": "code",
   "execution_count": 97,
   "metadata": {},
   "outputs": [],
   "source": [
    "train_data = np.genfromtxt(\"optdigits/optdigits.train\", delimiter=',')\n",
    "X_train = train_data[:,:-1]\n",
    "y_train = train_data[:,-1]\n",
    "\n",
    "test_data = np.genfromtxt(\"optdigits/optdigits.test\", delimiter=',')\n",
    "X_test = test_data[:,:-1]\n",
    "y_test = test_data[:,-1]"
   ]
  },
  {
   "cell_type": "code",
   "execution_count": 98,
   "metadata": {},
   "outputs": [],
   "source": [
    "from copy import deepcopy\n",
    "from collections import defaultdict\n",
    "import random\n",
    "\n",
    "def min_dist(centroids, point):\n",
    "    dist = np.array([np.inf]*10)\n",
    "    for i,c in enumerate(centroids):\n",
    "        dist[i]= np.linalg.norm(point-c)\n",
    "    return np.argmin(dist)\n",
    "\n",
    "def avg_mse(centroids,clusters):\n",
    "    c_means = []\n",
    "    for i,c in enumerate(clusters):\n",
    "        t_dist = 0\n",
    "        for p in c:\n",
    "            t_dist += np.linalg.norm(p[:-1]-centroids[i])**2\n",
    "        c_means.append(t_dist/len(c))\n",
    "    return np.mean(c_means)\n",
    "\n",
    "def k_means():\n",
    "    \n",
    "    centroids = []\n",
    "    new_centroids = np.zeros([10,64])\n",
    "    rand_index = random.sample(range(0, len(X_train)), 10)\n",
    "    \n",
    "    for i in range(10):\n",
    "        new_centroids[i] = X_train[rand_index[i]]\n",
    "        \n",
    "    c_out = 0\n",
    "    while np.array_equal(new_centroids, centroids) != True:\n",
    "        clusters = [list() for i in range(10)]\n",
    "        centroids = new_centroids\n",
    "        new_centroids = np.zeros([10,64])\n",
    "        \n",
    "        for i in range(len(X_train)):\n",
    "            cluster = min_dist(centroids, X_train[i])\n",
    "            clusters[cluster].append(train_data[i])\n",
    "        \n",
    "        for i,c in enumerate(clusters):\n",
    "            c = np.asarray(c)\n",
    "            new_point = np.mean(c[:,:-1],axis=0)\n",
    "            new_centroids[i] = new_point\n",
    "            \n",
    "    a_mse = avg_mse(centroids, clusters)\n",
    "    return a_mse, centroids, clusters\n"
   ]
  },
  {
   "cell_type": "markdown",
   "metadata": {},
   "source": [
    "##### 5 Runs"
   ]
  },
  {
   "cell_type": "code",
   "execution_count": 99,
   "metadata": {},
   "outputs": [],
   "source": [
    "a_mse = np.inf\n",
    "cal_centroids = None\n",
    "clusters = None\n",
    "for i in range(5):\n",
    "    a_m,cens,clus = k_means()\n",
    "    if a_m > a_mse:\n",
    "        continue\n",
    "    a_mse, cal_centroids, clusters = a_m, cens, clus\n"
   ]
  },
  {
   "cell_type": "markdown",
   "metadata": {},
   "source": [
    "##### Classifying test data"
   ]
  },
  {
   "cell_type": "code",
   "execution_count": 100,
   "metadata": {},
   "outputs": [],
   "source": [
    "centroid_class = {}\n",
    "for i,c in enumerate(clusters):\n",
    "    c = np.asarray(c)\n",
    "    c = c[:,-1]\n",
    "    unique, counts = np.unique(c, return_counts=True)\n",
    "    labels = []\n",
    "    for j in range(len(unique)):\n",
    "        labels.append((counts[j],unique[j]))\n",
    "    labels.sort()\n",
    "    _,label = labels.pop()\n",
    "    centroid_class[i] = int(label)"
   ]
  },
  {
   "cell_type": "code",
   "execution_count": 101,
   "metadata": {},
   "outputs": [
    {
     "name": "stdout",
     "output_type": "stream",
     "text": [
      "Accuracy: 0.7924318308291597\n"
     ]
    }
   ],
   "source": [
    "predicted = []\n",
    "for i in range(len(X_test)):\n",
    "    c_index = min_dist(cal_centroids, X_test[i])\n",
    "    predicted.append(centroid_class[c_index])\n",
    "print(f\"Accuracy: {accuracy_score(y_test,predicted)}\")"
   ]
  },
  {
   "cell_type": "markdown",
   "metadata": {},
   "source": [
    "##### Confusion matrix"
   ]
  },
  {
   "cell_type": "code",
   "execution_count": 102,
   "metadata": {},
   "outputs": [
    {
     "name": "stdout",
     "output_type": "stream",
     "text": [
      "[[176   0   0   0   2   0   0   0   0   0]\n",
      " [  0 156  21   1   0   1   3   0   0   0]\n",
      " [  1   4 149   9   0   0   0   4  10   0]\n",
      " [  0   1   0 163   0   2   0  10   7   0]\n",
      " [  0   9   0   0 160   0   0   7   5   0]\n",
      " [  0   1   0  31   1 148   1   0   0   0]\n",
      " [  1   4   0   0   0   0 175   0   1   0]\n",
      " [  0   8   0   0   1   1   0 166   3   0]\n",
      " [  0  29   1  10   0   1   1   1 131   0]\n",
      " [  0  26   0 145   0   3   0   3   3   0]]\n"
     ]
    }
   ],
   "source": [
    "print(confusion_matrix(y_test,predicted))"
   ]
  },
  {
   "cell_type": "markdown",
   "metadata": {},
   "source": [
    "##### Visualization"
   ]
  },
  {
   "cell_type": "code",
   "execution_count": 103,
   "metadata": {},
   "outputs": [
    {
     "name": "stdout",
     "output_type": "stream",
     "text": [
      "Number  5\n"
     ]
    },
    {
     "data": {
      "image/png": "[encoded data removed]",
      "text/plain": [
       "<Figure size 432x288 with 1 Axes>"
      ]
     },
     "metadata": {},
     "output_type": "display_data"
    },
    {
     "name": "stdout",
     "output_type": "stream",
     "text": [
      "Number  6\n"
     ]
    },
    {
     "data": {
      "image/png": "[encoded data removed]",
      "text/plain": [
       "<Figure size 432x288 with 1 Axes>"
      ]
     },
     "metadata": {},
     "output_type": "display_data"
    },
    {
     "name": "stdout",
     "output_type": "stream",
     "text": [
      "Number  2\n"
     ]
    },
    {
     "data": {
      "image/png": "[encoded data removed]",
      "text/plain": [
       "<Figure size 432x288 with 1 Axes>"
      ]
     },
     "metadata": {},
     "output_type": "display_data"
    },
    {
     "name": "stdout",
     "output_type": "stream",
     "text": [
      "Number  3\n"
     ]
    },
    {
     "data": {
      "image/png": "[encoded data removed]",
      "text/plain": [
       "<Figure size 432x288 with 1 Axes>"
      ]
     },
     "metadata": {},
     "output_type": "display_data"
    },
    {
     "name": "stdout",
     "output_type": "stream",
     "text": [
      "Number  8\n"
     ]
    },
    {
     "data": {
      "image/png": "[encoded data removed]",
      "text/plain": [
       "<Figure size 432x288 with 1 Axes>"
      ]
     },
     "metadata": {},
     "output_type": "display_data"
    },
    {
     "name": "stdout",
     "output_type": "stream",
     "text": [
      "Number  0\n"
     ]
    },
    {
     "data": {
      "image/png": "[encoded data removed]",
      "text/plain": [
       "<Figure size 432x288 with 1 Axes>"
      ]
     },
     "metadata": {},
     "output_type": "display_data"
    },
    {
     "name": "stdout",
     "output_type": "stream",
     "text": [
      "Number  7\n"
     ]
    },
    {
     "data": {
      "image/png": "[encoded data removed]",
      "text/plain": [
       "<Figure size 432x288 with 1 Axes>"
      ]
     },
     "metadata": {},
     "output_type": "display_data"
    },
    {
     "name": "stdout",
     "output_type": "stream",
     "text": [
      "Number  1\n"
     ]
    },
    {
     "data": {
      "image/png": "[encoded data removed]",
      "text/plain": [
       "<Figure size 432x288 with 1 Axes>"
      ]
     },
     "metadata": {},
     "output_type": "display_data"
    },
    {
     "name": "stdout",
     "output_type": "stream",
     "text": [
      "Number  1\n"
     ]
    },
    {
     "data": {
      "image/png": "[encoded data removed]",
      "text/plain": [
       "<Figure size 432x288 with 1 Axes>"
      ]
     },
     "metadata": {},
     "output_type": "display_data"
    },
    {
     "name": "stdout",
     "output_type": "stream",
     "text": [
      "Number  4\n"
     ]
    },
    {
     "data": {
      "image/png": "[encoded data removed]",
      "text/plain": [
       "<Figure size 432x288 with 1 Axes>"
      ]
     },
     "metadata": {},
     "output_type": "display_data"
    }
   ],
   "source": [
    "for i,c in enumerate(cal_centroids):\n",
    "    c = np.asarray(c)\n",
    "    c.resize((8,8))\n",
    "    plt.imshow(c, cmap='gray')\n",
    "    print(\"Number \", centroid_class[i])\n",
    "    show()"
   ]
  },
  {
   "cell_type": "markdown",
   "metadata": {},
   "source": [
    "##### Mean sq separation"
   ]
  },
  {
   "cell_type": "code",
   "execution_count": 104,
   "metadata": {},
   "outputs": [],
   "source": [
    "def mss(centroids, k):\n",
    "    d = 0\n",
    "    for i,c in enumerate(centroids):\n",
    "        for j in range(i+1, len(centroids)):\n",
    "            d += np.linalg.norm(centroids[i]-centroids[j])**2\n",
    "    return d/(k*(k-1)/2)"
   ]
  },
  {
   "cell_type": "code",
   "execution_count": 105,
   "metadata": {},
   "outputs": [
    {
     "name": "stdout",
     "output_type": "stream",
     "text": [
      "1263.3846404444118\n"
     ]
    }
   ],
   "source": [
    "print(mss(cal_centroids, 10))"
   ]
  },
  {
   "cell_type": "markdown",
   "metadata": {},
   "source": [
    "##### Mean entropy"
   ]
  },
  {
   "cell_type": "code",
   "execution_count": 106,
   "metadata": {},
   "outputs": [],
   "source": [
    "def m_entropy(clusters):\n",
    "    result = 0\n",
    "    total = 0\n",
    "    for cl in clusters:\n",
    "        entropy = 0\n",
    "        cl = np.asarray(cl)\n",
    "        cl = cl[:,-1]\n",
    "        _, counts = np.unique(cl, return_counts=True)\n",
    "        for c in counts:\n",
    "            entropy -= c/np.sum(counts) * np.log(c/np.sum(counts))\n",
    "        result += len(cl) * entropy\n",
    "        total += len(cl)\n",
    "    return result/total"
   ]
  },
  {
   "cell_type": "code",
   "execution_count": 107,
   "metadata": {},
   "outputs": [
    {
     "name": "stdout",
     "output_type": "stream",
     "text": [
      "0.5586002287417595\n"
     ]
    }
   ],
   "source": [
    "print(m_entropy(clusters))"
   ]
  },
  {
   "cell_type": "markdown",
   "metadata": {},
   "source": [
    "##### Discussion"
   ]
  },
  {
   "cell_type": "markdown",
   "metadata": {},
   "source": [
    "I got an overall accuracy of `79%`. I got MSS of `1263.38` which seems to be okay. And I got an entropy of `0.55`. The clusters I got do look like their associated digits."
   ]
  },
  {
   "cell_type": "markdown",
   "metadata": {},
   "source": [
    "##### Experiment 2"
   ]
  },
  {
   "cell_type": "code",
   "execution_count": 108,
   "metadata": {},
   "outputs": [],
   "source": [
    "def min_dist(centroids, point):\n",
    "    dist = np.array([np.inf]*30)\n",
    "    for i,c in enumerate(centroids):\n",
    "        dist[i]= np.linalg.norm(point-c)\n",
    "    return np.argmin(dist)\n",
    "\n",
    "\n",
    "def k_means_30():\n",
    "    \n",
    "    centroids = []\n",
    "    new_centroids = np.zeros([30,64])\n",
    "    rand_index = random.sample(range(0, len(X_train)), 30)\n",
    "    \n",
    "    for i in range(30):\n",
    "        new_centroids[i] = X_train[rand_index[i]]\n",
    "        \n",
    "    c_out = 0\n",
    "    while np.array_equal(new_centroids, centroids) != True:\n",
    "        clusters = [list() for i in range(30)]\n",
    "        centroids = new_centroids\n",
    "        new_centroids = np.zeros([30,64])\n",
    "        \n",
    "        for i in range(len(X_train)):\n",
    "            cluster = min_dist(centroids, X_train[i])\n",
    "            clusters[cluster].append(train_data[i])\n",
    "        \n",
    "        for i,c in enumerate(clusters):\n",
    "            c = np.asarray(c)\n",
    "            new_point = np.mean(c[:,:-1],axis=0)\n",
    "            new_centroids[i] = new_point\n",
    "            \n",
    "    a_mse = avg_mse(centroids, clusters)\n",
    "    return a_mse, centroids, clusters\n"
   ]
  },
  {
   "cell_type": "markdown",
   "metadata": {},
   "source": [
    "##### 5 runs"
   ]
  },
  {
   "cell_type": "code",
   "execution_count": 109,
   "metadata": {},
   "outputs": [],
   "source": [
    "a_mse = np.inf\n",
    "cal_centroids = None\n",
    "clusters = None\n",
    "for i in range(5):\n",
    "    a_m,cens,clus = k_means_30()\n",
    "    if a_m > a_mse:\n",
    "        continue\n",
    "    a_mse, cal_centroids, clusters = a_m, cens, clus\n"
   ]
  },
  {
   "cell_type": "markdown",
   "metadata": {},
   "source": [
    "##### Classifying test data"
   ]
  },
  {
   "cell_type": "code",
   "execution_count": 110,
   "metadata": {},
   "outputs": [],
   "source": [
    "centroid_class = {}\n",
    "for i,c in enumerate(clusters):\n",
    "    c = np.asarray(c)\n",
    "    c = c[:,-1]\n",
    "    unique, counts = np.unique(c, return_counts=True)\n",
    "    labels = []\n",
    "    for j in range(len(unique)):\n",
    "        labels.append((counts[j],unique[j]))\n",
    "    labels.sort()\n",
    "    _,label = labels.pop()\n",
    "    centroid_class[i] = int(label)"
   ]
  },
  {
   "cell_type": "code",
   "execution_count": 111,
   "metadata": {},
   "outputs": [
    {
     "name": "stdout",
     "output_type": "stream",
     "text": [
      "Accuracy: 0.9348914858096828\n"
     ]
    }
   ],
   "source": [
    "predicted = []\n",
    "for i in range(len(X_test)):\n",
    "    c_index = min_dist(cal_centroids, X_test[i])\n",
    "    predicted.append(centroid_class[c_index])\n",
    "print(f\"Accuracy: {accuracy_score(y_test,predicted)}\")"
   ]
  },
  {
   "cell_type": "markdown",
   "metadata": {},
   "source": [
    "##### Confusion matrix"
   ]
  },
  {
   "cell_type": "code",
   "execution_count": 112,
   "metadata": {},
   "outputs": [
    {
     "name": "stdout",
     "output_type": "stream",
     "text": [
      "[[177   0   0   0   1   0   0   0   0   0]\n",
      " [  0 171   0   0   0   1   0   0   7   3]\n",
      " [  1   2 169   1   0   0   0   2   0   2]\n",
      " [  0   0   1 167   0   1   0   6   5   3]\n",
      " [  0   6   0   0 171   0   1   2   1   0]\n",
      " [  0   0   0   0   1 176   0   0   0   5]\n",
      " [  2   1   0   0   0   0 175   0   3   0]\n",
      " [  0   0   0   0   0   0   0 173   1   5]\n",
      " [  0  15   0   5   0   1   0   1 145   7]\n",
      " [  0   2   0   5   0   4   0   5   8 156]]\n"
     ]
    }
   ],
   "source": [
    "print(confusion_matrix(y_test,predicted))"
   ]
  },
  {
   "cell_type": "markdown",
   "metadata": {},
   "source": [
    "##### Visualization"
   ]
  },
  {
   "cell_type": "code",
   "execution_count": 113,
   "metadata": {},
   "outputs": [
    {
     "name": "stdout",
     "output_type": "stream",
     "text": [
      "Number  0\n"
     ]
    },
    {
     "data": {
      "image/png": "[encoded data removed]",
      "text/plain": [
       "<Figure size 432x288 with 1 Axes>"
      ]
     },
     "metadata": {},
     "output_type": "display_data"
    },
    {
     "name": "stdout",
     "output_type": "stream",
     "text": [
      "Number  1\n"
     ]
    },
    {
     "data": {
      "image/png": "[encoded data removed]",
      "text/plain": [
       "<Figure size 432x288 with 1 Axes>"
      ]
     },
     "metadata": {},
     "output_type": "display_data"
    },
    {
     "name": "stdout",
     "output_type": "stream",
     "text": [
      "Number  4\n"
     ]
    },
    {
     "data": {
      "image/png": "[encoded data removed]",
      "text/plain": [
       "<Figure size 432x288 with 1 Axes>"
      ]
     },
     "metadata": {},
     "output_type": "display_data"
    },
    {
     "name": "stdout",
     "output_type": "stream",
     "text": [
      "Number  7\n"
     ]
    },
    {
     "data": {
      "image/png": "[encoded data removed]",
      "text/plain": [
       "<Figure size 432x288 with 1 Axes>"
      ]
     },
     "metadata": {},
     "output_type": "display_data"
    },
    {
     "name": "stdout",
     "output_type": "stream",
     "text": [
      "Number  7\n"
     ]
    },
    {
     "data": {
      "image/png": "[encoded data removed]",
      "text/plain": [
       "<Figure size 432x288 with 1 Axes>"
      ]
     },
     "metadata": {},
     "output_type": "display_data"
    },
    {
     "name": "stdout",
     "output_type": "stream",
     "text": [
      "Number  9\n"
     ]
    },
    {
     "data": {
      "image/png": "[encoded data removed]",
      "text/plain": [
       "<Figure size 432x288 with 1 Axes>"
      ]
     },
     "metadata": {},
     "output_type": "display_data"
    },
    {
     "name": "stdout",
     "output_type": "stream",
     "text": [
      "Number  8\n"
     ]
    },
    {
     "data": {
      "image/png": "[encoded data removed]",
      "text/plain": [
       "<Figure size 432x288 with 1 Axes>"
      ]
     },
     "metadata": {},
     "output_type": "display_data"
    },
    {
     "name": "stdout",
     "output_type": "stream",
     "text": [
      "Number  6\n"
     ]
    },
    {
     "data": {
      "image/png": "[encoded data removed]",
      "text/plain": [
       "<Figure size 432x288 with 1 Axes>"
      ]
     },
     "metadata": {},
     "output_type": "display_data"
    },
    {
     "name": "stdout",
     "output_type": "stream",
     "text": [
      "Number  8\n"
     ]
    },
    {
     "data": {
      "image/png": "[encoded data removed]",
      "text/plain": [
       "<Figure size 432x288 with 1 Axes>"
      ]
     },
     "metadata": {},
     "output_type": "display_data"
    },
    {
     "name": "stdout",
     "output_type": "stream",
     "text": [
      "Number  5\n"
     ]
    },
    {
     "data": {
      "image/png": "[encoded data removed]",
      "text/plain": [
       "<Figure size 432x288 with 1 Axes>"
      ]
     },
     "metadata": {},
     "output_type": "display_data"
    },
    {
     "name": "stdout",
     "output_type": "stream",
     "text": [
      "Number  5\n"
     ]
    },
    {
     "data": {
      "image/png": "[encoded data removed]",
      "text/plain": [
       "<Figure size 432x288 with 1 Axes>"
      ]
     },
     "metadata": {},
     "output_type": "display_data"
    },
    {
     "name": "stdout",
     "output_type": "stream",
     "text": [
      "Number  6\n"
     ]
    },
    {
     "data": {
      "image/png": "[encoded data removed]",
      "text/plain": [
       "<Figure size 432x288 with 1 Axes>"
      ]
     },
     "metadata": {},
     "output_type": "display_data"
    },
    {
     "name": "stdout",
     "output_type": "stream",
     "text": [
      "Number  3\n"
     ]
    },
    {
     "data": {
      "image/png": "[encoded data removed]",
      "text/plain": [
       "<Figure size 432x288 with 1 Axes>"
      ]
     },
     "metadata": {},
     "output_type": "display_data"
    },
    {
     "name": "stdout",
     "output_type": "stream",
     "text": [
      "Number  2\n"
     ]
    },
    {
     "data": {
      "image/png": "[encoded data removed]",
      "text/plain": [
       "<Figure size 432x288 with 1 Axes>"
      ]
     },
     "metadata": {},
     "output_type": "display_data"
    },
    {
     "name": "stdout",
     "output_type": "stream",
     "text": [
      "Number  0\n"
     ]
    },
    {
     "data": {
      "image/png": "[encoded data removed]",
      "text/plain": [
       "<Figure size 432x288 with 1 Axes>"
      ]
     },
     "metadata": {},
     "output_type": "display_data"
    },
    {
     "name": "stdout",
     "output_type": "stream",
     "text": [
      "Number  7\n"
     ]
    },
    {
     "data": {
      "image/png": "[encoded data removed]",
      "text/plain": [
       "<Figure size 432x288 with 1 Axes>"
      ]
     },
     "metadata": {},
     "output_type": "display_data"
    },
    {
     "name": "stdout",
     "output_type": "stream",
     "text": [
      "Number  5\n"
     ]
    },
    {
     "data": {
      "image/png": "[encoded data removed]",
      "text/plain": [
       "<Figure size 432x288 with 1 Axes>"
      ]
     },
     "metadata": {},
     "output_type": "display_data"
    },
    {
     "name": "stdout",
     "output_type": "stream",
     "text": [
      "Number  0\n"
     ]
    },
    {
     "data": {
      "image/png": "[encoded data removed]",
      "text/plain": [
       "<Figure size 432x288 with 1 Axes>"
      ]
     },
     "metadata": {},
     "output_type": "display_data"
    },
    {
     "name": "stdout",
     "output_type": "stream",
     "text": [
      "Number  6\n"
     ]
    },
    {
     "data": {
      "image/png": "[encoded data removed]",
      "text/plain": [
       "<Figure size 432x288 with 1 Axes>"
      ]
     },
     "metadata": {},
     "output_type": "display_data"
    },
    {
     "name": "stdout",
     "output_type": "stream",
     "text": [
      "Number  2\n"
     ]
    },
    {
     "data": {
      "image/png": "[encoded data removed]",
      "text/plain": [
       "<Figure size 432x288 with 1 Axes>"
      ]
     },
     "metadata": {},
     "output_type": "display_data"
    },
    {
     "name": "stdout",
     "output_type": "stream",
     "text": [
      "Number  1\n"
     ]
    },
    {
     "data": {
      "image/png": "[encoded data removed]",
      "text/plain": [
       "<Figure size 432x288 with 1 Axes>"
      ]
     },
     "metadata": {},
     "output_type": "display_data"
    },
    {
     "name": "stdout",
     "output_type": "stream",
     "text": [
      "Number  7\n"
     ]
    },
    {
     "data": {
      "image/png": "[encoded data removed]",
      "text/plain": [
       "<Figure size 432x288 with 1 Axes>"
      ]
     },
     "metadata": {},
     "output_type": "display_data"
    },
    {
     "name": "stdout",
     "output_type": "stream",
     "text": [
      "Number  4\n"
     ]
    },
    {
     "data": {
      "image/png": "[encoded data removed]",
      "text/plain": [
       "<Figure size 432x288 with 1 Axes>"
      ]
     },
     "metadata": {},
     "output_type": "display_data"
    },
    {
     "name": "stdout",
     "output_type": "stream",
     "text": [
      "Number  1\n"
     ]
    },
    {
     "data": {
      "image/png": "[encoded data removed]",
      "text/plain": [
       "<Figure size 432x288 with 1 Axes>"
      ]
     },
     "metadata": {},
     "output_type": "display_data"
    },
    {
     "name": "stdout",
     "output_type": "stream",
     "text": [
      "Number  8\n"
     ]
    },
    {
     "data": {
      "image/png": "[encoded data removed]",
      "text/plain": [
       "<Figure size 432x288 with 1 Axes>"
      ]
     },
     "metadata": {},
     "output_type": "display_data"
    },
    {
     "name": "stdout",
     "output_type": "stream",
     "text": [
      "Number  9\n"
     ]
    },
    {
     "data": {
      "image/png": "[encoded data removed]",
      "text/plain": [
       "<Figure size 432x288 with 1 Axes>"
      ]
     },
     "metadata": {},
     "output_type": "display_data"
    },
    {
     "name": "stdout",
     "output_type": "stream",
     "text": [
      "Number  2\n"
     ]
    },
    {
     "data": {
      "image/png": "[encoded data removed]",
      "text/plain": [
       "<Figure size 432x288 with 1 Axes>"
      ]
     },
     "metadata": {},
     "output_type": "display_data"
    },
    {
     "name": "stdout",
     "output_type": "stream",
     "text": [
      "Number  3\n"
     ]
    },
    {
     "data": {
      "image/png": "[encoded data removed]",
      "text/plain": [
       "<Figure size 432x288 with 1 Axes>"
      ]
     },
     "metadata": {},
     "output_type": "display_data"
    },
    {
     "name": "stdout",
     "output_type": "stream",
     "text": [
      "Number  4\n"
     ]
    },
    {
     "data": {
      "image/png": "[encoded data removed]",
      "text/plain": [
       "<Figure size 432x288 with 1 Axes>"
      ]
     },
     "metadata": {},
     "output_type": "display_data"
    },
    {
     "name": "stdout",
     "output_type": "stream",
     "text": [
      "Number  3\n"
     ]
    },
    {
     "data": {
      "image/png": "[encoded data removed]",
      "text/plain": [
       "<Figure size 432x288 with 1 Axes>"
      ]
     },
     "metadata": {},
     "output_type": "display_data"
    }
   ],
   "source": [
    "for i,c in enumerate(cal_centroids):\n",
    "    c = np.asarray(c)\n",
    "    c.resize((8,8))\n",
    "    print(\"Number \", centroid_class[i])\n",
    "    plt.imshow(c, cmap='gray')\n",
    "    show()"
   ]
  },
  {
   "cell_type": "markdown",
   "metadata": {},
   "source": [
    "##### Mean sq separation"
   ]
  },
  {
   "cell_type": "code",
   "execution_count": 114,
   "metadata": {},
   "outputs": [
    {
     "name": "stdout",
     "output_type": "stream",
     "text": [
      "1537.5293169646352\n"
     ]
    }
   ],
   "source": [
    "print(mss(cal_centroids, 30))"
   ]
  },
  {
   "cell_type": "markdown",
   "metadata": {},
   "source": [
    "##### Mean entropy"
   ]
  },
  {
   "cell_type": "code",
   "execution_count": 115,
   "metadata": {},
   "outputs": [
    {
     "name": "stdout",
     "output_type": "stream",
     "text": [
      "0.23252236367040377\n"
     ]
    }
   ],
   "source": [
    "print(m_entropy(clusters))"
   ]
  },
  {
   "cell_type": "markdown",
   "metadata": {},
   "source": [
    "##### Discussion"
   ]
  },
  {
   "cell_type": "markdown",
   "metadata": {},
   "source": [
    "With k = 30, I got an accuracy of `93%` which is significantly higher than the previous experiment. With k = 30, I got MSS of `1537.52` which is again greater than experiment 1 which is a good indicator for good classifier. I got an entropy of `0.232` which is lower than experiment1. The visualized pixels look a little closer to their associated values compared to experiment 1. "
   ]
  },
  {
   "cell_type": "markdown",
   "metadata": {},
   "source": [
    "##### Instructions of how to run the program"
   ]
  },
  {
   "cell_type": "markdown",
   "metadata": {},
   "source": [
    "I have written two separate functions for computing K means one for 10 and another for 30. I could have written just one function for both, but due to lack of time and I'm rushing through this homework, and I apologize for that. You can simply click on the run button on your Jupyter notebook to run the program. "
   ]
  },
  {
   "cell_type": "code",
   "execution_count": null,
   "metadata": {},
   "outputs": [],
   "source": []
  }
 ],
 "metadata": {
  "kernelspec": {
   "display_name": "Python 3",
   "language": "python",
   "name": "python3"
  },
  "language_info": {
   "codemirror_mode": {
    "name": "ipython",
    "version": 3
   },
   "file_extension": ".py",
   "mimetype": "text/x-python",
   "name": "python",
   "nbconvert_exporter": "python",
   "pygments_lexer": "ipython3",
   "version": "3.6.4"
  }
 },
 "nbformat": 4,
 "nbformat_minor": 2
}
