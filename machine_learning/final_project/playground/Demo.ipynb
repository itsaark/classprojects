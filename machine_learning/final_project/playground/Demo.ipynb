{
 "cells": [
  {
   "cell_type": "code",
   "execution_count": 1,
   "metadata": {},
   "outputs": [
    {
     "name": "stdout",
     "output_type": "stream",
     "text": [
      "Loading Birds dataset in `dataset.py`: descriptions_per_img=10, encoding_dim=1024, incl_stopwords=True\n",
      "Loading images...\n",
      "done!\n",
      "Loading txt descriptions...\n",
      "done!\n",
      "Training word embeddings...\n",
      "done!\n",
      "Creating text encodings...\n",
      "done!\n"
     ]
    }
   ],
   "source": [
    "from dataset import Birds\n",
    "from nltk.corpus import stopwords\n",
    "from nltk import word_tokenize\n",
    "\n",
    "bird = Birds()\n",
    "stopwords = set(stopwords.words('english'))"
   ]
  },
  {
   "cell_type": "code",
   "execution_count": 2,
   "metadata": {},
   "outputs": [],
   "source": [
    "import argparse\n",
    "\n",
    "import time\n",
    "import random\n",
    "import numpy as np\n",
    "import torch\n",
    "import torch.nn as nn\n",
    "import torch.nn.parallel\n",
    "import torch.backends.cudnn as cudnn\n",
    "import torch.optim as optim\n",
    "import torch.utils.data\n",
    "from torch.utils.data import Dataset\n",
    "import torchvision.datasets as dset\n",
    "import torchvision.transforms as transforms\n",
    "import torchvision.utils as vutils\n",
    "\n",
    "\n",
    "from models import Concat, Discriminator, Generator\n",
    "\n",
    "%load_ext autoreload\n",
    "%autoreload 2"
   ]
  },
  {
   "cell_type": "code",
   "execution_count": 3,
   "metadata": {},
   "outputs": [],
   "source": [
    "\n",
    "\n",
    "def weights_init(m):\n",
    "    classname = m.__class__.__name__\n",
    "    if classname.find('Conv') != -1:\n",
    "        m.weight.data.normal_(0.0, 0.02)\n",
    "    elif classname.find('BatchNorm') != -1:\n",
    "        m.weight.data.normal_(1.0, 0.02)\n",
    "        m.bias.data.fill_(0)\n",
    "        \n",
    "# class demoData(Dataset):\n",
    "    \n",
    "#     def __init__(self):\n",
    "#         self.bird = Birds()\n",
    "    \n",
    "#     def __len__(self):\n",
    "#         return 1\n",
    "\n",
    "#     def __getitem__(self,i):\n",
    "#         embedding_avg = np.empty(self.bird.encoding_dim)\n",
    "#         for word in self.sen.split():\n",
    "#             if word in stopwords or word not in self.bird.embeddings:\n",
    "#                 continue\n",
    "#             embedding_avg += self.bird.embeddings[word]\n",
    "#         embedding_avg /= len(sen.split())\n",
    "#         real_embedding = torch.from_numpy(embedding_avg)\n",
    "#         return real_embedding\n",
    "    \n",
    "#     def input(self, sen):\n",
    "#         self.sen =  sen"
   ]
  },
  {
   "cell_type": "code",
   "execution_count": null,
   "metadata": {},
   "outputs": [],
   "source": []
  },
  {
   "cell_type": "code",
   "execution_count": 12,
   "metadata": {},
   "outputs": [
    {
     "name": "stderr",
     "output_type": "stream",
     "text": [
      "/anaconda3/lib/python3.6/site-packages/ipykernel_launcher.py:11: DeprecationWarning: Call to deprecated `__contains__` (Method will be removed in 4.0.0, use self.wv.__contains__() instead).\n",
      "  # This is added back by InteractiveShellApp.init_path()\n",
      "/anaconda3/lib/python3.6/site-packages/ipykernel_launcher.py:13: DeprecationWarning: Call to deprecated `__getitem__` (Method will be removed in 4.0.0, use self.wv.__getitem__() instead).\n",
      "  del sys.path[0]\n"
     ]
    }
   ],
   "source": [
    "#opt = parser.parse_args()\n",
    "\n",
    "device = torch.device(\"cpu\")\n",
    "ngpu = 0 # num gpus\n",
    "nz = 227\n",
    "\n",
    "sen = \"the bird has brown wings and crown and has a short beak.\"\n",
    "real_emb = None\n",
    "embedding_avg = np.empty(bird.encoding_dim)\n",
    "for word in word_tokenize(sen):\n",
    "    if word in stopwords or word not in bird.embeddings:\n",
    "        continue\n",
    "    embedding_avg += bird.embeddings[word]\n",
    "embedding_avg /= len(word_tokenize(sen))\n",
    "real_emb = torch.from_numpy(embedding_avg)\n",
    "\n",
    "#demosen.input(sen)\n",
    "\n",
    "# for i, (real_image, real_embedding, wrong_embedding) in enumerate(demosen, 0):\n",
    "#     real_emb = real_embedding\n",
    "#     if i == 4:\n",
    "#         break\n",
    "real_emb = real_emb.to(device)\n",
    "netG = Generator(ngpu)\n",
    "netG.apply(weights_init)\n",
    "netG.load_state_dict(torch.load(\"netG_epoch_99.pth\", map_location='cpu'))\n",
    "\n",
    "optimizerG = optim.Adam(netG.parameters(), lr=0.0002, betas=(0.5, 0.999))\n",
    "\n",
    "# noise = torch.randn(128, nz, 1, 1, device=device)\n",
    "# fake = netG(real_emb, noise)\n",
    "fixed_noise = torch.randn(128, nz, 1, 1, device=device)\n",
    "netG.zero_grad()\n",
    "#optimizerG.step()\n",
    "netG.eval()\n",
    "fake = netG(real_emb.float(), fixed_noise)\n",
    "vutils.save_image(fake.detach(),'%s/fake_%03dwith_zerograd.png' % ('.', 90),normalize=True)\n",
    "#print(\"done\")"
   ]
  },
  {
   "cell_type": "code",
   "execution_count": null,
   "metadata": {},
   "outputs": [],
   "source": []
  },
  {
   "cell_type": "code",
   "execution_count": null,
   "metadata": {},
   "outputs": [],
   "source": []
  }
 ],
 "metadata": {
  "kernelspec": {
   "display_name": "Python 3",
   "language": "python",
   "name": "python3"
  },
  "language_info": {
   "codemirror_mode": {
    "name": "ipython",
    "version": 3
   },
   "file_extension": ".py",
   "mimetype": "text/x-python",
   "name": "python",
   "nbconvert_exporter": "python",
   "pygments_lexer": "ipython3",
   "version": "3.6.4"
  }
 },
 "nbformat": 4,
 "nbformat_minor": 2
}
