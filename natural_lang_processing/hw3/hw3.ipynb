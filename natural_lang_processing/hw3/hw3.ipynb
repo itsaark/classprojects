{
 "cells": [
  {
   "cell_type": "markdown",
   "metadata": {},
   "source": [
    "# Homework 3: RNNs\n",
    "\n",
    "In this assignment, you will use PyTorch and RNNs to solve two NLP problems:\n",
    "\n",
    "1. Language identification\n",
    "2. Language modeling\n",
    "\n",
    "In the first, you will train a classifier to distinguish between English and Spanish sentences, and will essentially be creating a working version of the classifier demonstrated at the end of the PyTorch walkthrough from week 3's lecture. In the second you will train a neural language model to generate new British place names. For the second part, you will find Chapter 17 of the Goldberg text to be a useful reference.\n",
    "\n",
    "**Note:** The networks that you will be training in this assignment are relatively simple, and the amounts of data are relatively small. That said, _**they will take time to train**_. On my laptop, the various networks take on the order of ≈5 minutes to train. Make sure not to wait until the last minute to do this assignment, as you will need to do a fair bit of experimentation and tinkering, and you won't want to find yourself running out of time."
   ]
  },
  {
   "cell_type": "markdown",
   "metadata": {},
   "source": [
    "## Part 0: Setup\n",
    "\n",
    "In addition to Jupyter and `nose`, you will need to have `pytorch`, `numpy`, `pandas`, and Scikit-Learn installed for this assignment. As in HW2, most of your actual coding will take place in the `hw3_utils` module, and we will use unit tests to verify that things are working appropriately."
   ]
  },
  {
   "cell_type": "code",
   "execution_count": 6,
   "metadata": {},
   "outputs": [],
   "source": [
    "import nose\n",
    "import torch\n",
    "import pandas as pd\n",
    "import numpy as np\n",
    "import sklearn\n",
    "import matplotlib\n",
    "import matplotlib.pyplot as plt\n",
    "%matplotlib inline\n",
    "\n",
    "import sys\n",
    "from importlib import reload"
   ]
  },
  {
   "cell_type": "markdown",
   "metadata": {},
   "source": [
    "One other important thing to do is to set the random number generation seed. This will ensure deterministic results: each time you re-run the notebook, you should get the same random numbers. This is vital for ensuring reproducible results."
   ]
  },
  {
   "cell_type": "code",
   "execution_count": 7,
   "metadata": {},
   "outputs": [],
   "source": [
    "np.random.seed(42);\n",
    "torch.manual_seed(42);"
   ]
  },
  {
   "cell_type": "markdown",
   "metadata": {},
   "source": [
    "As before, let's check and see what versions of the libraries you've got installed:"
   ]
  },
  {
   "cell_type": "code",
   "execution_count": 8,
   "metadata": {
    "scrolled": true
   },
   "outputs": [
    {
     "name": "stdout",
     "output_type": "stream",
     "text": [
      "My library versions:\n",
      "PyTorch: 1.0.0\n",
      "Pandas: 0.23.0\n",
      "Numpy: 1.16.0\n",
      "matplotlib: 3.0.0\n",
      "nose: 1.3.7\n",
      "sklearn: 0.19.1\n"
     ]
    }
   ],
   "source": [
    "print(\"My library versions:\")\n",
    "print(f\"PyTorch: {torch.__version__}\")\n",
    "print(f\"Pandas: {pd.__version__}\")\n",
    "print(f\"Numpy: {np.__version__}\")\n",
    "print(f\"matplotlib: {matplotlib.__version__}\")\n",
    "print(f\"nose: {nose.__version__}\")\n",
    "print(f\"sklearn: {sklearn.__version__}\")"
   ]
  },
  {
   "cell_type": "markdown",
   "metadata": {},
   "source": [
    "And we can run our tests as before:"
   ]
  },
  {
   "cell_type": "code",
   "execution_count": 9,
   "metadata": {
    "scrolled": false
   },
   "outputs": [
    {
     "name": "stdout",
     "output_type": "stream",
     "text": [
      ".\n",
      "----------------------------------------------------------------------\n",
      "Ran 1 test in 0.001s\n",
      "\n",
      "OK\n"
     ]
    }
   ],
   "source": [
    "! nosetests tests/test_environment.py"
   ]
  },
  {
   "cell_type": "markdown",
   "metadata": {},
   "source": [
    "## Part 1: Preprocessing\n",
    "\n",
    "### Vocabulary construction\n",
    "\n",
    "As in the last part of HW2, we will be representing our input as numeric vectors. As such, we need a way to map tokens (characters, in the case of this assignment) to numeric indices. `hw3_utils.vocab` will contain functions to do this sort of transformation. The first such function will be `build_vocab`, and will take as input a corpus of sentences and as output produce mapping dictionaries. `vocab` includes special `BOS_SYM` and `EOS_SYM` symbols, to represent the beginning and end of string, respectively- make sure that the vocabularies that your implementation builds includes these characters.\n",
    "\n",
    "* **Deliverable 1.1:** Complete the `vocab.build_vocab()` function\n",
    "* **Test:** `nosetests tests/test_vocab.py:test_d1_1_char_vocab`\n",
    "\n",
    "_Hint_: Remember that you can split a string into its sequence of characters using the `list` function. For _this_ assignment, you may ignore issues of Unicode decomposition and normalization, but in \"real life\" you would absolutely need to worry about such things!"
   ]
  },
  {
   "cell_type": "code",
   "execution_count": 10,
   "metadata": {},
   "outputs": [],
   "source": [
    "from hw3_utils import vocab\n",
    "reload(vocab);"
   ]
  },
  {
   "cell_type": "code",
   "execution_count": 11,
   "metadata": {},
   "outputs": [],
   "source": [
    "tiny_corpus = [\"This is a sentence.\", \"This is another sentence.\", \"Here is a third.\"]\n",
    "c2i, i2c = vocab.build_vocab(tiny_corpus)"
   ]
  },
  {
   "cell_type": "code",
   "execution_count": 12,
   "metadata": {},
   "outputs": [
    {
     "data": {
      "text/plain": [
       "True"
      ]
     },
     "execution_count": 12,
     "metadata": {},
     "output_type": "execute_result"
    }
   ],
   "source": [
    "\"T\" == i2c[c2i[\"T\"]]"
   ]
  },
  {
   "cell_type": "code",
   "execution_count": 13,
   "metadata": {},
   "outputs": [
    {
     "name": "stdout",
     "output_type": "stream",
     "text": [
      ".\r\n",
      "----------------------------------------------------------------------\r\n",
      "Ran 1 test in 0.001s\r\n",
      "\r\n",
      "OK\r\n"
     ]
    }
   ],
   "source": [
    "!nosetests tests/test_vocab.py:test_d1_1_char_vocab"
   ]
  },
  {
   "cell_type": "markdown",
   "metadata": {},
   "source": [
    "### Sentence representation\n",
    "\n",
    "In addition to a character inventory, we'll need a way to convert a sentence into a list of indicies. Ordinarily, one would need to worry about how to handle missing vocabulary entries (i.e., OOV words or symbols); _for this assignment_, we are ignoring this problem.\n",
    "\n",
    "* **Deliverable 1.2:** Complete the `vocab.sentence_to_vector()` function\n",
    "* **Test:** `nosetests tests/test_vocab.py:test_d1_2_sentence_vector`"
   ]
  },
  {
   "cell_type": "code",
   "execution_count": 14,
   "metadata": {},
   "outputs": [],
   "source": [
    "reload(vocab);"
   ]
  },
  {
   "cell_type": "code",
   "execution_count": 15,
   "metadata": {},
   "outputs": [
    {
     "name": "stdout",
     "output_type": "stream",
     "text": [
      "[2, 11, 3, 13, 15, 3, 13, 15, 16, 15, 13, 5, 14, 8, 5, 14, 0, 5, 7]\n"
     ]
    }
   ],
   "source": [
    "s = \"This is a sentence.\"\n",
    "s_vec = vocab.sentence_to_vector(s, c2i)\n",
    "print(s_vec)"
   ]
  },
  {
   "cell_type": "code",
   "execution_count": 16,
   "metadata": {
    "scrolled": true
   },
   "outputs": [
    {
     "data": {
      "text/plain": [
       "['T',\n",
       " 'h',\n",
       " 'i',\n",
       " 's',\n",
       " ' ',\n",
       " 'i',\n",
       " 's',\n",
       " ' ',\n",
       " 'a',\n",
       " ' ',\n",
       " 's',\n",
       " 'e',\n",
       " 'n',\n",
       " 't',\n",
       " 'e',\n",
       " 'n',\n",
       " 'c',\n",
       " 'e',\n",
       " '.']"
      ]
     },
     "execution_count": 16,
     "metadata": {},
     "output_type": "execute_result"
    }
   ],
   "source": [
    "[i2c[c] for c in s_vec]"
   ]
  },
  {
   "cell_type": "code",
   "execution_count": 17,
   "metadata": {},
   "outputs": [
    {
     "name": "stdout",
     "output_type": "stream",
     "text": [
      ".\r\n",
      "----------------------------------------------------------------------\r\n",
      "Ran 1 test in 0.000s\r\n",
      "\r\n",
      "OK\r\n"
     ]
    }
   ],
   "source": [
    "!nosetests tests/test_vocab.py:test_d1_2_sentence_vector"
   ]
  },
  {
   "cell_type": "markdown",
   "metadata": {},
   "source": [
    "PyTorch wants its input as `torch.Tensor` objects, not as Python `list`s, so we'll need to write one more short function to do that conversion. We'll want our tensors to be of size $(1,n)$, where $n$ is the length of the sentence in characters.\n",
    "\n",
    "* **Deliverable 1.3:** Complete the `sentence_to_tensor()` function\n",
    "* **Test:** `nosetests tests/test_vocab.py:test_d1_3_sentence_tensor`"
   ]
  },
  {
   "cell_type": "code",
   "execution_count": 18,
   "metadata": {},
   "outputs": [],
   "source": [
    "reload(vocab);"
   ]
  },
  {
   "cell_type": "code",
   "execution_count": 19,
   "metadata": {
    "scrolled": true
   },
   "outputs": [
    {
     "name": "stdout",
     "output_type": "stream",
     "text": [
      "tensor([[ 2, 11,  3, 13, 15,  3, 13, 15, 16, 15, 13,  5, 14,  8,  5, 14,  0,  5,\n",
      "          7]])\n",
      "torch.Size([1, 19])\n"
     ]
    }
   ],
   "source": [
    "s = \"This is a sentence.\"\n",
    "s_tens = vocab.sentence_to_tensor(s, c2i)\n",
    "print(s_tens)\n",
    "print(s_tens.size())"
   ]
  },
  {
   "cell_type": "code",
   "execution_count": 20,
   "metadata": {},
   "outputs": [
    {
     "name": "stdout",
     "output_type": "stream",
     "text": [
      ".\r\n",
      "----------------------------------------------------------------------\r\n",
      "Ran 1 test in 0.001s\r\n",
      "\r\n",
      "OK\r\n"
     ]
    }
   ],
   "source": [
    "!nosetests tests/test_vocab.py:test_d1_3_sentence_tensor"
   ]
  },
  {
   "cell_type": "markdown",
   "metadata": {},
   "source": [
    "### Label lookup table\n",
    "\n",
    "Just as we need to be able to represent characters as indices, we also need to be able to map _labels_ to indicies. The logic for this is very similar to what we did before for characters, but without the tokenization step.\n",
    "\n",
    "* **Deliverable 1.4:** Complete the `vocab.build_label_vocab()` function\n",
    "* **Test:** `nosetests tests/test_vocab.py:test_d1_4_label_vocab`"
   ]
  },
  {
   "cell_type": "code",
   "execution_count": 21,
   "metadata": {},
   "outputs": [],
   "source": [
    "reload(vocab);"
   ]
  },
  {
   "cell_type": "code",
   "execution_count": 22,
   "metadata": {},
   "outputs": [],
   "source": [
    "labels = [\"eng\",\"eng\",\"spa\",\"eng\",\"deu\"]\n",
    "l2i, i2l = vocab.build_label_vocab(labels)"
   ]
  },
  {
   "cell_type": "code",
   "execution_count": 23,
   "metadata": {},
   "outputs": [
    {
     "data": {
      "text/plain": [
       "0"
      ]
     },
     "execution_count": 23,
     "metadata": {},
     "output_type": "execute_result"
    }
   ],
   "source": [
    "l2i['spa']"
   ]
  },
  {
   "cell_type": "code",
   "execution_count": 24,
   "metadata": {},
   "outputs": [
    {
     "data": {
      "text/plain": [
       "'deu'"
      ]
     },
     "execution_count": 24,
     "metadata": {},
     "output_type": "execute_result"
    }
   ],
   "source": [
    "i2l[2]"
   ]
  },
  {
   "cell_type": "code",
   "execution_count": 25,
   "metadata": {
    "scrolled": true
   },
   "outputs": [
    {
     "data": {
      "text/plain": [
       "[1, 1, 0, 1, 2]"
      ]
     },
     "execution_count": 25,
     "metadata": {},
     "output_type": "execute_result"
    }
   ],
   "source": [
    "[l2i[l] for l in labels]"
   ]
  },
  {
   "cell_type": "code",
   "execution_count": 26,
   "metadata": {},
   "outputs": [
    {
     "name": "stdout",
     "output_type": "stream",
     "text": [
      ".\r\n",
      "----------------------------------------------------------------------\r\n",
      "Ran 1 test in 0.000s\r\n",
      "\r\n",
      "OK\r\n"
     ]
    }
   ],
   "source": [
    "!nosetests tests/test_vocab.py:test_d1_4_label_vocab"
   ]
  },
  {
   "cell_type": "markdown",
   "metadata": {},
   "source": [
    "## Part 2: Language identification\n",
    "\n",
    "Language identification is often one of the first steps of an NLP pipeline, and is a foundational task in NLP. _[Automatic Language Identification in Texts: A Survey](https://arxiv.org/pdf/1804.08186.pdf)_, by Jauhiainen et al., gives an excellent overview of the task and its rich history in our field, and I would _strongly_ recommend taking a few minutes to read it before beginning this part of the assignment.\n",
    "\n",
    "Formally, we can craft language ID as a classification problem, given text sample $x$ and language $l \\in L$, we want to find: \n",
    "\n",
    "$$ \\operatorname*{argmax}_{l} P(l | x ) $$\n",
    "\n",
    "This can be done in a variety of ways. One common (and well-performing) technique is to use trigram character frequencies, or other character-level features (writing system, etc.); some approaches rely on or incorporate word-level features. The difficulty of the task depends on a number of factors:\n",
    "\n",
    "* How much training data one has from each language of interest (often an issue)\n",
    "* How similar the languages are to one another (Spanish and Italian are more difficult to differentiate than are English and Arabic)\n",
    "* How much [\"code-switching\"](https://en.wikipedia.org/wiki/Code-switching) is present in the language of interest\n",
    "\n",
    "The last point is a major one: many texts of interest (tweets, etc.) contain a mix of languages, which can cause trouble both at the time of _training_ a language identification system as well as at the time of _inference_ (i.e., when you're actually trying to _use_ your system). The problem can be compounded by mixed writing systems: due to limitations of text-entry systems, users of some non-Latin scripts often will often write e.g. Arabic using English orthography. Names of places, brands, individuals, etc. can also cause script-level code switching. Fortunately, for this assignment, you will not need to worry about this issue.\n",
    "\n",
    "We will be using [data](https://tatoeba.org/eng/downloads) from [Tatoeba](https://tatoeba.org), an online crowd-sourced language learning platform. Users collaboratively develop parallel corpora of sentences in a wide variety of languages. For this assignment, I have prepared two data sets based on Tatoeba's data:\n",
    "\n",
    "* [sentences_bilingual.csv](./data/sentences_bilingual.csv): 10,000 random English and 10,000 random Spanish sentences\n",
    "* [sentences_multilingual.csv](./data/sentences_multilingual.csv): 10,000 random sentences from each of English, Spanish, German, Italian, and French\n",
    "\n"
   ]
  },
  {
   "cell_type": "markdown",
   "metadata": {},
   "source": [
    "## Getting Started\n",
    "\n",
    "We'll begin with the bilingual (english/spanish) data:"
   ]
  },
  {
   "cell_type": "code",
   "execution_count": 27,
   "metadata": {},
   "outputs": [
    {
     "data": {
      "text/html": [
       "<div>\n",
       "<style scoped>\n",
       "    .dataframe tbody tr th:only-of-type {\n",
       "        vertical-align: middle;\n",
       "    }\n",
       "\n",
       "    .dataframe tbody tr th {\n",
       "        vertical-align: top;\n",
       "    }\n",
       "\n",
       "    .dataframe thead th {\n",
       "        text-align: right;\n",
       "    }\n",
       "</style>\n",
       "<table border=\"1\" class=\"dataframe\">\n",
       "  <thead>\n",
       "    <tr style=\"text-align: right;\">\n",
       "      <th></th>\n",
       "      <th>id</th>\n",
       "      <th>lang</th>\n",
       "      <th>sentence</th>\n",
       "    </tr>\n",
       "  </thead>\n",
       "  <tbody>\n",
       "    <tr>\n",
       "      <th>0</th>\n",
       "      <td>6733426</td>\n",
       "      <td>eng</td>\n",
       "      <td>Tom wasn't able to change anything.</td>\n",
       "    </tr>\n",
       "    <tr>\n",
       "      <th>1</th>\n",
       "      <td>256835</td>\n",
       "      <td>eng</td>\n",
       "      <td>I saw the sights of Kyoto during my vacation.</td>\n",
       "    </tr>\n",
       "    <tr>\n",
       "      <th>2</th>\n",
       "      <td>1404674</td>\n",
       "      <td>eng</td>\n",
       "      <td>And where are the aliens, the flying saucers, ...</td>\n",
       "    </tr>\n",
       "    <tr>\n",
       "      <th>3</th>\n",
       "      <td>4833334</td>\n",
       "      <td>eng</td>\n",
       "      <td>Is the water in the Black Sea actually black?</td>\n",
       "    </tr>\n",
       "    <tr>\n",
       "      <th>4</th>\n",
       "      <td>7241028</td>\n",
       "      <td>eng</td>\n",
       "      <td>I know a lot of people who don't eat meat.</td>\n",
       "    </tr>\n",
       "  </tbody>\n",
       "</table>\n",
       "</div>"
      ],
      "text/plain": [
       "        id lang                                           sentence\n",
       "0  6733426  eng                Tom wasn't able to change anything.\n",
       "1   256835  eng      I saw the sights of Kyoto during my vacation.\n",
       "2  1404674  eng  And where are the aliens, the flying saucers, ...\n",
       "3  4833334  eng      Is the water in the Black Sea actually black?\n",
       "4  7241028  eng         I know a lot of people who don't eat meat."
      ]
     },
     "execution_count": 27,
     "metadata": {},
     "output_type": "execute_result"
    }
   ],
   "source": [
    "bi_text = pd.read_csv(\"data/sentences_bilingual.csv\")\n",
    "bi_text.head()"
   ]
  },
  {
   "cell_type": "markdown",
   "metadata": {},
   "source": [
    "Step 1 is _always_ to look at your data. Verify how many entries we have, and of what languages:"
   ]
  },
  {
   "cell_type": "code",
   "execution_count": 28,
   "metadata": {},
   "outputs": [
    {
     "name": "stdout",
     "output_type": "stream",
     "text": [
      "Total entries: 20000\n"
     ]
    }
   ],
   "source": [
    "print(f\"Total entries: {len(bi_text)}\")"
   ]
  },
  {
   "cell_type": "code",
   "execution_count": 29,
   "metadata": {},
   "outputs": [
    {
     "data": {
      "text/html": [
       "<div>\n",
       "<style scoped>\n",
       "    .dataframe tbody tr th:only-of-type {\n",
       "        vertical-align: middle;\n",
       "    }\n",
       "\n",
       "    .dataframe tbody tr th {\n",
       "        vertical-align: top;\n",
       "    }\n",
       "\n",
       "    .dataframe thead th {\n",
       "        text-align: right;\n",
       "    }\n",
       "</style>\n",
       "<table border=\"1\" class=\"dataframe\">\n",
       "  <thead>\n",
       "    <tr style=\"text-align: right;\">\n",
       "      <th></th>\n",
       "      <th>id</th>\n",
       "      <th>sentence</th>\n",
       "    </tr>\n",
       "    <tr>\n",
       "      <th>lang</th>\n",
       "      <th></th>\n",
       "      <th></th>\n",
       "    </tr>\n",
       "  </thead>\n",
       "  <tbody>\n",
       "    <tr>\n",
       "      <th>eng</th>\n",
       "      <td>10000</td>\n",
       "      <td>10000</td>\n",
       "    </tr>\n",
       "    <tr>\n",
       "      <th>spa</th>\n",
       "      <td>10000</td>\n",
       "      <td>10000</td>\n",
       "    </tr>\n",
       "  </tbody>\n",
       "</table>\n",
       "</div>"
      ],
      "text/plain": [
       "         id  sentence\n",
       "lang                 \n",
       "eng   10000     10000\n",
       "spa   10000     10000"
      ]
     },
     "execution_count": 29,
     "metadata": {},
     "output_type": "execute_result"
    }
   ],
   "source": [
    "bi_text.groupby('lang').count()"
   ]
  },
  {
   "cell_type": "markdown",
   "metadata": {},
   "source": [
    "Now, build a character inventory/vocabulary for our data:"
   ]
  },
  {
   "cell_type": "code",
   "execution_count": 30,
   "metadata": {},
   "outputs": [],
   "source": [
    "c2i, i2c = vocab.build_vocab(bi_text.sentence.values)\n",
    "l2i, i2l = vocab.build_label_vocab(bi_text.lang.values)"
   ]
  },
  {
   "cell_type": "markdown",
   "metadata": {},
   "source": [
    "And now let's make a 80/20 training-test split:"
   ]
  },
  {
   "cell_type": "code",
   "execution_count": 31,
   "metadata": {},
   "outputs": [],
   "source": [
    "from sklearn.model_selection import train_test_split\n",
    "bi_text_train, bi_text_test = train_test_split(bi_text, test_size=0.2)"
   ]
  },
  {
   "cell_type": "markdown",
   "metadata": {},
   "source": [
    "What is the resulting class distribution?"
   ]
  },
  {
   "cell_type": "code",
   "execution_count": 32,
   "metadata": {},
   "outputs": [
    {
     "data": {
      "text/html": [
       "<div>\n",
       "<style scoped>\n",
       "    .dataframe tbody tr th:only-of-type {\n",
       "        vertical-align: middle;\n",
       "    }\n",
       "\n",
       "    .dataframe tbody tr th {\n",
       "        vertical-align: top;\n",
       "    }\n",
       "\n",
       "    .dataframe thead th {\n",
       "        text-align: right;\n",
       "    }\n",
       "</style>\n",
       "<table border=\"1\" class=\"dataframe\">\n",
       "  <thead>\n",
       "    <tr style=\"text-align: right;\">\n",
       "      <th></th>\n",
       "      <th>id</th>\n",
       "      <th>sentence</th>\n",
       "    </tr>\n",
       "    <tr>\n",
       "      <th>lang</th>\n",
       "      <th></th>\n",
       "      <th></th>\n",
       "    </tr>\n",
       "  </thead>\n",
       "  <tbody>\n",
       "    <tr>\n",
       "      <th>eng</th>\n",
       "      <td>7981</td>\n",
       "      <td>7981</td>\n",
       "    </tr>\n",
       "    <tr>\n",
       "      <th>spa</th>\n",
       "      <td>8019</td>\n",
       "      <td>8019</td>\n",
       "    </tr>\n",
       "  </tbody>\n",
       "</table>\n",
       "</div>"
      ],
      "text/plain": [
       "        id  sentence\n",
       "lang                \n",
       "eng   7981      7981\n",
       "spa   8019      8019"
      ]
     },
     "execution_count": 32,
     "metadata": {},
     "output_type": "execute_result"
    }
   ],
   "source": [
    "bi_text_train.groupby('lang').count()"
   ]
  },
  {
   "cell_type": "code",
   "execution_count": 33,
   "metadata": {},
   "outputs": [
    {
     "data": {
      "text/html": [
       "<div>\n",
       "<style scoped>\n",
       "    .dataframe tbody tr th:only-of-type {\n",
       "        vertical-align: middle;\n",
       "    }\n",
       "\n",
       "    .dataframe tbody tr th {\n",
       "        vertical-align: top;\n",
       "    }\n",
       "\n",
       "    .dataframe thead th {\n",
       "        text-align: right;\n",
       "    }\n",
       "</style>\n",
       "<table border=\"1\" class=\"dataframe\">\n",
       "  <thead>\n",
       "    <tr style=\"text-align: right;\">\n",
       "      <th></th>\n",
       "      <th>id</th>\n",
       "      <th>sentence</th>\n",
       "    </tr>\n",
       "    <tr>\n",
       "      <th>lang</th>\n",
       "      <th></th>\n",
       "      <th></th>\n",
       "    </tr>\n",
       "  </thead>\n",
       "  <tbody>\n",
       "    <tr>\n",
       "      <th>eng</th>\n",
       "      <td>2019</td>\n",
       "      <td>2019</td>\n",
       "    </tr>\n",
       "    <tr>\n",
       "      <th>spa</th>\n",
       "      <td>1981</td>\n",
       "      <td>1981</td>\n",
       "    </tr>\n",
       "  </tbody>\n",
       "</table>\n",
       "</div>"
      ],
      "text/plain": [
       "        id  sentence\n",
       "lang                \n",
       "eng   2019      2019\n",
       "spa   1981      1981"
      ]
     },
     "execution_count": 33,
     "metadata": {},
     "output_type": "execute_result"
    }
   ],
   "source": [
    "bi_text_test.groupby('lang').count()"
   ]
  },
  {
   "cell_type": "markdown",
   "metadata": {},
   "source": [
    "That's close enough to equal to be usable!"
   ]
  },
  {
   "cell_type": "markdown",
   "metadata": {},
   "source": [
    "## Building a model"
   ]
  },
  {
   "cell_type": "markdown",
   "metadata": {},
   "source": [
    "You should see that the data set is _balanced_ between two categories, English and Spanish.\n",
    "\n",
    "The classification model you will build will first project sparse character representations to a dense learned embedding representation (as in Goldberg 4.8), feed the result into an LSTM, and then use the LSTM's output as the input into a softmax classifier to predict the language of the input. Note that we want to use the _final_ LSTM output for classification. More formally:\n",
    "\n",
    "$$ \\hat{y} = \\operatorname*{softmax} \\mathbf{o}^{(n)} $$\n",
    "\n",
    "$$ \\mathbf{o} = \\mathbf{h} \\mathbf{W}_o^T + b_o $$\n",
    "\n",
    "$$ \\mathbf{h} = LSTM(\\mathbf{x})$$\n",
    "\n",
    "$$ \\mathbf{x}_{1:n} = \\mathbf{E}[w_1], ... , \\mathbf{E}[w_n] $$\n",
    "\n",
    "Where $\\mathbf{E}$ is an embedding layer, with its own learned weights, etc. We can use PyTorch's [`nn.Embedding`](https://pytorch.org/docs/stable/nn.html#embedding) layer class to take care of this part of our network- it takes as input a character index (just like the ones produced by our vocabulary function above). Similarly, we can use [`nn.LSTM`](https://pytorch.org/docs/stable/nn.html#lstm), [`nn.Linear`](https://pytorch.org/docs/stable/nn.html#linear), and [`nn.LogSoftmax`](https://pytorch.org/docs/stable/nn.html#logsoftmax) to create the rest of the layers.\n",
    "\n",
    "This architecture has several hyperparameters that you must specify:\n",
    "\n",
    "0. How many distinct characters do you need to represent ($n$)?\n",
    "1. How many dimensions to use for embedding (representing) the characters ($e$)?\n",
    "2. How many dimensions (hidden units) should the LSTM have ($h$)?\n",
    "3. How many layers should the LSTM have?\n",
    "3. How many output classes should the network have ($c$)?\n",
    "\n",
    "The dimensionality of the layers of the network should then be: $n \\times e$ for the embedding layer, $e \\times h$ for the LSTM, and $h \\times c$ for the output layer."
   ]
  },
  {
   "cell_type": "markdown",
   "metadata": {},
   "source": [
    "For this part of the assignment, I have done much of the work for you, and have provided a skeleton class with completed initialization functions. \n",
    "\n",
    "* **Deliverable 2.1:** Following the MLP example in the PyTorch walkthrough from Week 3, complete the `forward()` method in the `nn.Module` that is started for you in `hw3_utils.lang_id`. \n",
    "* **Test:** `nosetests tests/test_lang_id.py:test_d2_1_forward`\n",
    "\n",
    "\n",
    "\n",
    "_Note_: typically, PyTorch networks are trained using minibatch training (see Goldberg 5.2.8); for the sake of keeping this assignment simple, we will not be using the standard PyTorch batching behaviors. Instead, we will be batching \"manually\"- calling `.backward()` and updating our parameters after a configurable interval. This will make training take a little bit longer, but will make _your_ code simpler. As such, the shape of the input will be slightly different than PyTorch expects by default. You may need to experiment a bit!\n",
    "\n",
    "Also note that this is a \"many-to-one\" RNN architecture. Out of the box, `nn.LSTM` is set up for _many-to-many_ architectures where the input and output are synchronized- in other words, if you feed five time points _in_ to the LSTM (i.e., providing a $(1,5)$ input), you'll get a $(1,5)$ _output_ back. Since we only care about the _last_ timepoint's output for our classification problem, at some point you'll need to extract that value."
   ]
  },
  {
   "cell_type": "code",
   "execution_count": 34,
   "metadata": {},
   "outputs": [],
   "source": [
    "from hw3_utils import lang_id"
   ]
  },
  {
   "cell_type": "markdown",
   "metadata": {},
   "source": [
    "Here, I am initializing the model with 10 embedding dimensions, 20 hidden dimensions, a single LSTM layer, and two output classes (_`eng`_ and _`spa`_):"
   ]
  },
  {
   "cell_type": "code",
   "execution_count": 35,
   "metadata": {},
   "outputs": [],
   "source": [
    "reload(lang_id);\n",
    "reload(vocab);\n",
    "\n",
    "li = lang_id.LangID(\n",
    "    input_vocab_n=len(c2i), \n",
    "    embedding_dims=10,\n",
    "    hidden_dims=20,\n",
    "    lstm_layers=1,\n",
    "    output_class_n=2\n",
    ")"
   ]
  },
  {
   "cell_type": "markdown",
   "metadata": {},
   "source": [
    "Now that it's initialized, I can provide it with input and verify that the output is of the dimensionality I expect:"
   ]
  },
  {
   "cell_type": "code",
   "execution_count": 36,
   "metadata": {
    "scrolled": true
   },
   "outputs": [
    {
     "data": {
      "text/plain": [
       "tensor([-0.7115, -0.6751], grad_fn=<SelectBackward>)"
      ]
     },
     "execution_count": 36,
     "metadata": {},
     "output_type": "execute_result"
    }
   ],
   "source": [
    "li(vocab.sentence_to_tensor(\"this is a sentence\", c2i))"
   ]
  },
  {
   "cell_type": "code",
   "execution_count": 37,
   "metadata": {},
   "outputs": [
    {
     "data": {
      "text/plain": [
       "torch.Size([2])"
      ]
     },
     "execution_count": 37,
     "metadata": {},
     "output_type": "execute_result"
    }
   ],
   "source": [
    "li(vocab.sentence_to_tensor(\"this is a sentence\", c2i)).shape"
   ]
  },
  {
   "cell_type": "code",
   "execution_count": 38,
   "metadata": {},
   "outputs": [
    {
     "name": "stdout",
     "output_type": "stream",
     "text": [
      ".\r\n",
      "----------------------------------------------------------------------\r\n",
      "Ran 1 test in 0.093s\r\n",
      "\r\n",
      "OK\r\n"
     ]
    }
   ],
   "source": [
    "!nosetests tests/test_lang_id.py:test_d2_1_forward"
   ]
  },
  {
   "cell_type": "markdown",
   "metadata": {},
   "source": [
    "**Tip**: I recommend building up the `forward()` method one layer at a time, at each step of the way verifying that the output you are seeing is what you expect.\n",
    "\n",
    "That output is the raw log-probabilities associated with each class. This is not especially user-friendly, and makes evaluation a bit more difficult than we might care for. \n",
    "\n",
    "* **Deliverable 2.2:** Implement the `predict_one()` function in `hw3_utils.lang_id`.\n",
    "* **Test:** `nosetests tests/test_lang_id.py:test_d2_2_predict_one`"
   ]
  },
  {
   "cell_type": "code",
   "execution_count": 39,
   "metadata": {},
   "outputs": [],
   "source": [
    "reload(lang_id);"
   ]
  },
  {
   "cell_type": "code",
   "execution_count": 40,
   "metadata": {},
   "outputs": [
    {
     "data": {
      "text/plain": [
       "'eng'"
      ]
     },
     "execution_count": 40,
     "metadata": {},
     "output_type": "execute_result"
    }
   ],
   "source": [
    "lang_id.predict_one(li, \"this is a sentence\", c2i, i2l)"
   ]
  },
  {
   "cell_type": "code",
   "execution_count": 41,
   "metadata": {},
   "outputs": [
    {
     "name": "stdout",
     "output_type": "stream",
     "text": [
      ".\n",
      "----------------------------------------------------------------------\n",
      "Ran 1 test in 0.081s\n",
      "\n",
      "OK\n"
     ]
    }
   ],
   "source": [
    "!nosetests tests/test_lang_id.py:test_d2_2_predict_one"
   ]
  },
  {
   "cell_type": "markdown",
   "metadata": {},
   "source": [
    "## Training and evaluating model\n",
    "\n",
    "Next, we need to train and evaluate the model. I have provided a `train_model()` function to do the training for this model, in `hw3_utils.lang_id`. This part of the assignment features fewer automated tests, and involves a little bit more thinking and writing."
   ]
  },
  {
   "cell_type": "code",
   "execution_count": 113,
   "metadata": {},
   "outputs": [],
   "source": [
    "reload(lang_id);"
   ]
  },
  {
   "cell_type": "code",
   "execution_count": 114,
   "metadata": {},
   "outputs": [
    {
     "name": "stdout",
     "output_type": "stream",
     "text": [
      "0/16000 average per-item loss: 0.0006888401694595814\n",
      "1000/16000 average per-item loss: 0.2243460714817047\n",
      "2000/16000 average per-item loss: 0.23720872402191162\n",
      "3000/16000 average per-item loss: 0.23759843409061432\n",
      "4000/16000 average per-item loss: 0.2039703130722046\n",
      "5000/16000 average per-item loss: 0.23532581329345703\n",
      "6000/16000 average per-item loss: 0.15993553400039673\n",
      "7000/16000 average per-item loss: 0.2232811003923416\n",
      "8000/16000 average per-item loss: 0.14585284888744354\n",
      "9000/16000 average per-item loss: 0.15312175452709198\n",
      "10000/16000 average per-item loss: 0.14668287336826324\n",
      "11000/16000 average per-item loss: 0.13935953378677368\n",
      "12000/16000 average per-item loss: 0.14572973549365997\n",
      "13000/16000 average per-item loss: 0.16308416426181793\n",
      "14000/16000 average per-item loss: 0.15902109444141388\n",
      "15000/16000 average per-item loss: 0.1631738841533661\n"
     ]
    }
   ],
   "source": [
    "trained_model = lang_id.train_model(\n",
    "    model=li, \n",
    "    n_epochs=1,\n",
    "    training_data=bi_text_train,\n",
    "    c2i=c2i, i2c=i2c,\n",
    "    l2i=l2i, i2l=i2l\n",
    ")"
   ]
  },
  {
   "cell_type": "code",
   "execution_count": 115,
   "metadata": {},
   "outputs": [
    {
     "data": {
      "text/plain": [
       "tensor([-3.0065, -0.0507], grad_fn=<SelectBackward>)"
      ]
     },
     "execution_count": 115,
     "metadata": {},
     "output_type": "execute_result"
    }
   ],
   "source": [
    "trained_model(vocab.sentence_to_tensor(\"this is a sentence\", c2i))"
   ]
  },
  {
   "cell_type": "code",
   "execution_count": 116,
   "metadata": {
    "scrolled": true
   },
   "outputs": [
    {
     "data": {
      "text/plain": [
       "tensor([-0.0231, -3.7776], grad_fn=<SelectBackward>)"
      ]
     },
     "execution_count": 116,
     "metadata": {},
     "output_type": "execute_result"
    }
   ],
   "source": [
    "trained_model(vocab.sentence_to_tensor(\"quien estas\", c2i))"
   ]
  },
  {
   "cell_type": "markdown",
   "metadata": {},
   "source": [
    "Now that we've got a trained model, it's time to evaluate its performance. \n",
    "\n",
    "* **Deliverable 2.3:** Complete the `eval_acc()` function in `hw3_utils.lang_id`. Note that PyTorch `Tensor` objects have an `argmax()` function!\n",
    "* **Test:** `nosetests tests/test_lang_id.py:test_d2_3_eval_acc`"
   ]
  },
  {
   "cell_type": "code",
   "execution_count": 122,
   "metadata": {},
   "outputs": [
    {
     "name": "stdout",
     "output_type": "stream",
     "text": [
      "Accuracy: 0.9375\n"
     ]
    }
   ],
   "source": [
    "acc, y_hat = lang_id.eval_acc(trained_model, bi_text_test, c2i, i2c, l2i, i2l)\n",
    "print(f\"Accuracy: {acc}\")"
   ]
  },
  {
   "cell_type": "code",
   "execution_count": 123,
   "metadata": {},
   "outputs": [
    {
     "name": "stdout",
     "output_type": "stream",
     "text": [
      ".\r\n",
      "----------------------------------------------------------------------\r\n",
      "Ran 1 test in 6.665s\r\n",
      "\r\n",
      "OK\r\n"
     ]
    }
   ],
   "source": [
    "!nosetests tests/test_lang_id.py:test_d2_3_eval_acc"
   ]
  },
  {
   "cell_type": "markdown",
   "metadata": {},
   "source": [
    "And what if we run this on a new, _untrained_ model?"
   ]
  },
  {
   "cell_type": "code",
   "execution_count": 124,
   "metadata": {},
   "outputs": [
    {
     "name": "stdout",
     "output_type": "stream",
     "text": [
      "Accuracy: 0.505\n"
     ]
    }
   ],
   "source": [
    "untrained = lang_id.LangID(\n",
    "    input_vocab_n=len(c2i), \n",
    "    embedding_dims=10,\n",
    "    hidden_dims=20,\n",
    "    lstm_layers=1,\n",
    "    output_class_n=2\n",
    ")\n",
    "\n",
    "acc_untrained, y_hat_untrained = lang_id.eval_acc(untrained, bi_text_test, c2i, i2c, l2i, i2l)\n",
    "\n",
    "print(f\"Accuracy: {acc_untrained}\")"
   ]
  },
  {
   "cell_type": "markdown",
   "metadata": {},
   "source": [
    "As expected, an untrained model gets approximately chance performance.\n",
    "\n",
    "On our trained model, we were able to achieve ≈90% accuracy on held-out test data, which is very high accuracy! Let's investigate our hyperparameter settings: how small can we make our embedding and hidden dimensions before performance suffers?\n",
    "\n",
    "* **Deliverable 2.4:** Turn both the embedding dimensions and the hidden dimensions _waaaaay_ down, to 2 each, and retrain/re-evaluate the model. Save your evaluation results to a CSV file named \"deliverable_2.4.csv\" with three columns: the sentence itself, the _true_ label, and the _predicted_ label. Also produce a text file named \"deliverable_2.4.txt\" containing the observed evaluation accuracy and an explanation of what you observe. Why is the number what it is?"
   ]
  },
  {
   "cell_type": "code",
   "execution_count": 125,
   "metadata": {},
   "outputs": [
    {
     "name": "stdout",
     "output_type": "stream",
     "text": [
      "0/16000 average per-item loss: 0.008542902767658234\n",
      "1000/16000 average per-item loss: 0.6969394683837891\n",
      "2000/16000 average per-item loss: 0.6951727271080017\n",
      "3000/16000 average per-item loss: 0.7027149796485901\n",
      "4000/16000 average per-item loss: 0.6956417560577393\n",
      "5000/16000 average per-item loss: 0.6855576038360596\n",
      "6000/16000 average per-item loss: 0.6905822157859802\n",
      "7000/16000 average per-item loss: 0.6951261758804321\n",
      "8000/16000 average per-item loss: 0.6904613971710205\n",
      "9000/16000 average per-item loss: 0.690335750579834\n",
      "10000/16000 average per-item loss: 0.6891825795173645\n",
      "11000/16000 average per-item loss: 0.688647449016571\n",
      "12000/16000 average per-item loss: 0.69231116771698\n",
      "13000/16000 average per-item loss: 0.681308925151825\n",
      "14000/16000 average per-item loss: 0.6680842638015747\n",
      "15000/16000 average per-item loss: 0.6672831773757935\n"
     ]
    }
   ],
   "source": [
    "li = lang_id.LangID(\n",
    "    input_vocab_n=len(c2i), \n",
    "    embedding_dims=2,\n",
    "    hidden_dims=2,\n",
    "    lstm_layers=1,\n",
    "    output_class_n=2\n",
    ")\n",
    "trained_model = lang_id.train_model(\n",
    "    model=li, \n",
    "    n_epochs=1,\n",
    "    training_data=bi_text_train,\n",
    "    c2i=c2i, i2c=i2c,\n",
    "    l2i=l2i, i2l=i2l\n",
    ")"
   ]
  },
  {
   "cell_type": "code",
   "execution_count": 93,
   "metadata": {},
   "outputs": [
    {
     "ename": "NameError",
     "evalue": "name 'trained_model' is not defined",
     "output_type": "error",
     "traceback": [
      "\u001b[0;31m---------------------------------------------------------------------------\u001b[0m",
      "\u001b[0;31mNameError\u001b[0m                                 Traceback (most recent call last)",
      "\u001b[0;32m<ipython-input-93-d4b9bfad2cdf>\u001b[0m in \u001b[0;36m<module>\u001b[0;34m()\u001b[0m\n\u001b[0;32m----> 1\u001b[0;31m \u001b[0macc\u001b[0m\u001b[0;34m,\u001b[0m \u001b[0my_hat\u001b[0m \u001b[0;34m=\u001b[0m \u001b[0mlang_id\u001b[0m\u001b[0;34m.\u001b[0m\u001b[0meval_acc\u001b[0m\u001b[0;34m(\u001b[0m\u001b[0mtrained_model\u001b[0m\u001b[0;34m,\u001b[0m \u001b[0mbi_text_test\u001b[0m\u001b[0;34m,\u001b[0m \u001b[0mc2i\u001b[0m\u001b[0;34m,\u001b[0m \u001b[0mi2c\u001b[0m\u001b[0;34m,\u001b[0m \u001b[0ml2i\u001b[0m\u001b[0;34m,\u001b[0m \u001b[0mi2l\u001b[0m\u001b[0;34m)\u001b[0m\u001b[0;34m\u001b[0m\u001b[0m\n\u001b[0m\u001b[1;32m      2\u001b[0m \u001b[0mprint\u001b[0m\u001b[0;34m(\u001b[0m\u001b[0;34mf\"Accuracy: {acc}\"\u001b[0m\u001b[0;34m)\u001b[0m\u001b[0;34m\u001b[0m\u001b[0m\n",
      "\u001b[0;31mNameError\u001b[0m: name 'trained_model' is not defined"
     ]
    }
   ],
   "source": [
    "acc, y_hat = lang_id.eval_acc(trained_model, bi_text_test, c2i, i2c, l2i, i2l)\n",
    "print(f\"Accuracy: {acc}\")"
   ]
  },
  {
   "cell_type": "code",
   "execution_count": 137,
   "metadata": {},
   "outputs": [],
   "source": [
    "import csv\n",
    "\n",
    "\n",
    "with open('deliverable_2.4.csv', 'a') as csvFile:\n",
    "    writer = csv.writer(csvFile)\n",
    "    for i,s in enumerate(bi_text_test.sentence.values):\n",
    "        row = [s, bi_text_test.lang.values[i], y_hat[i]]\n",
    "        writer.writerow(row)\n",
    "\n",
    "csvFile.close()"
   ]
  },
  {
   "cell_type": "markdown",
   "metadata": {},
   "source": [
    "### Extending to multinomial classification\n",
    "\n",
    "Clearly, a simple LSTM classifier works very well for this binary classification problem, even for very low-dimensional networks. What if we try and do multi-class classification? Our model should, in theory, be adaptable to that case. How sensitive is it to our network dimensionality?"
   ]
  },
  {
   "cell_type": "code",
   "execution_count": 147,
   "metadata": {},
   "outputs": [
    {
     "data": {
      "text/html": [
       "<div>\n",
       "<style scoped>\n",
       "    .dataframe tbody tr th:only-of-type {\n",
       "        vertical-align: middle;\n",
       "    }\n",
       "\n",
       "    .dataframe tbody tr th {\n",
       "        vertical-align: top;\n",
       "    }\n",
       "\n",
       "    .dataframe thead th {\n",
       "        text-align: right;\n",
       "    }\n",
       "</style>\n",
       "<table border=\"1\" class=\"dataframe\">\n",
       "  <thead>\n",
       "    <tr style=\"text-align: right;\">\n",
       "      <th></th>\n",
       "      <th>id</th>\n",
       "      <th>sentence</th>\n",
       "    </tr>\n",
       "    <tr>\n",
       "      <th>lang</th>\n",
       "      <th></th>\n",
       "      <th></th>\n",
       "    </tr>\n",
       "  </thead>\n",
       "  <tbody>\n",
       "    <tr>\n",
       "      <th>deu</th>\n",
       "      <td>10000</td>\n",
       "      <td>10000</td>\n",
       "    </tr>\n",
       "    <tr>\n",
       "      <th>eng</th>\n",
       "      <td>10000</td>\n",
       "      <td>10000</td>\n",
       "    </tr>\n",
       "    <tr>\n",
       "      <th>fra</th>\n",
       "      <td>10000</td>\n",
       "      <td>10000</td>\n",
       "    </tr>\n",
       "    <tr>\n",
       "      <th>ita</th>\n",
       "      <td>10000</td>\n",
       "      <td>10000</td>\n",
       "    </tr>\n",
       "    <tr>\n",
       "      <th>spa</th>\n",
       "      <td>10000</td>\n",
       "      <td>10000</td>\n",
       "    </tr>\n",
       "  </tbody>\n",
       "</table>\n",
       "</div>"
      ],
      "text/plain": [
       "         id  sentence\n",
       "lang                 \n",
       "deu   10000     10000\n",
       "eng   10000     10000\n",
       "fra   10000     10000\n",
       "ita   10000     10000\n",
       "spa   10000     10000"
      ]
     },
     "execution_count": 147,
     "metadata": {},
     "output_type": "execute_result"
    }
   ],
   "source": [
    "multi_text = pd.read_csv(\"data/sentences_multilingual.csv\")\n",
    "multi_text_train, multi_text_test = train_test_split(multi_text, test_size=0.2)\n",
    "\n",
    "multi_text.groupby('lang').count()\n"
   ]
  },
  {
   "cell_type": "code",
   "execution_count": 148,
   "metadata": {},
   "outputs": [
    {
     "data": {
      "text/html": [
       "<div>\n",
       "<style scoped>\n",
       "    .dataframe tbody tr th:only-of-type {\n",
       "        vertical-align: middle;\n",
       "    }\n",
       "\n",
       "    .dataframe tbody tr th {\n",
       "        vertical-align: top;\n",
       "    }\n",
       "\n",
       "    .dataframe thead th {\n",
       "        text-align: right;\n",
       "    }\n",
       "</style>\n",
       "<table border=\"1\" class=\"dataframe\">\n",
       "  <thead>\n",
       "    <tr style=\"text-align: right;\">\n",
       "      <th></th>\n",
       "      <th>id</th>\n",
       "      <th>sentence</th>\n",
       "    </tr>\n",
       "    <tr>\n",
       "      <th>lang</th>\n",
       "      <th></th>\n",
       "      <th></th>\n",
       "    </tr>\n",
       "  </thead>\n",
       "  <tbody>\n",
       "    <tr>\n",
       "      <th>deu</th>\n",
       "      <td>7984</td>\n",
       "      <td>7984</td>\n",
       "    </tr>\n",
       "    <tr>\n",
       "      <th>eng</th>\n",
       "      <td>7965</td>\n",
       "      <td>7965</td>\n",
       "    </tr>\n",
       "    <tr>\n",
       "      <th>fra</th>\n",
       "      <td>8026</td>\n",
       "      <td>8026</td>\n",
       "    </tr>\n",
       "    <tr>\n",
       "      <th>ita</th>\n",
       "      <td>8002</td>\n",
       "      <td>8002</td>\n",
       "    </tr>\n",
       "    <tr>\n",
       "      <th>spa</th>\n",
       "      <td>8023</td>\n",
       "      <td>8023</td>\n",
       "    </tr>\n",
       "  </tbody>\n",
       "</table>\n",
       "</div>"
      ],
      "text/plain": [
       "        id  sentence\n",
       "lang                \n",
       "deu   7984      7984\n",
       "eng   7965      7965\n",
       "fra   8026      8026\n",
       "ita   8002      8002\n",
       "spa   8023      8023"
      ]
     },
     "execution_count": 148,
     "metadata": {},
     "output_type": "execute_result"
    }
   ],
   "source": [
    "multi_text_train.groupby('lang').count()"
   ]
  },
  {
   "cell_type": "code",
   "execution_count": 149,
   "metadata": {},
   "outputs": [],
   "source": [
    "c2i, i2c = vocab.build_vocab(multi_text.sentence.values)\n",
    "l2i, i2l = vocab.build_label_vocab(multi_text.lang.values)"
   ]
  },
  {
   "cell_type": "code",
   "execution_count": 141,
   "metadata": {
    "scrolled": true
   },
   "outputs": [
    {
     "name": "stdout",
     "output_type": "stream",
     "text": [
      "0/40000 average per-item loss: 0.015076127834618092\n",
      "1000/40000 average per-item loss: 1.5986831188201904\n",
      "2000/40000 average per-item loss: 1.6014474630355835\n",
      "3000/40000 average per-item loss: 1.581262230873108\n",
      "4000/40000 average per-item loss: 1.5677635669708252\n",
      "5000/40000 average per-item loss: 1.5651962757110596\n",
      "6000/40000 average per-item loss: 1.5561169385910034\n",
      "7000/40000 average per-item loss: 1.5450067520141602\n",
      "8000/40000 average per-item loss: 1.4866209030151367\n",
      "9000/40000 average per-item loss: 1.5289950370788574\n",
      "10000/40000 average per-item loss: 1.530856966972351\n",
      "11000/40000 average per-item loss: 1.4655945301055908\n",
      "12000/40000 average per-item loss: 1.4569896459579468\n",
      "13000/40000 average per-item loss: 1.2953541278839111\n",
      "14000/40000 average per-item loss: 1.295280933380127\n",
      "15000/40000 average per-item loss: 1.3843365907669067\n",
      "16000/40000 average per-item loss: 1.2826933860778809\n",
      "17000/40000 average per-item loss: 1.1819465160369873\n",
      "18000/40000 average per-item loss: 1.3624656200408936\n",
      "19000/40000 average per-item loss: 1.2783002853393555\n",
      "20000/40000 average per-item loss: 1.1927523612976074\n",
      "21000/40000 average per-item loss: 1.277722716331482\n",
      "22000/40000 average per-item loss: 1.2062013149261475\n",
      "23000/40000 average per-item loss: 1.1211516857147217\n",
      "24000/40000 average per-item loss: 1.0847026109695435\n",
      "25000/40000 average per-item loss: 1.0955954790115356\n",
      "26000/40000 average per-item loss: 1.1219606399536133\n",
      "27000/40000 average per-item loss: 0.9598949551582336\n",
      "28000/40000 average per-item loss: 1.057489037513733\n",
      "29000/40000 average per-item loss: 1.035569429397583\n",
      "30000/40000 average per-item loss: 1.0058380365371704\n",
      "31000/40000 average per-item loss: 0.938245415687561\n",
      "32000/40000 average per-item loss: 0.9830202460289001\n",
      "33000/40000 average per-item loss: 1.0057799816131592\n",
      "34000/40000 average per-item loss: 0.9437952637672424\n",
      "35000/40000 average per-item loss: 0.9388847947120667\n",
      "36000/40000 average per-item loss: 0.940376341342926\n",
      "37000/40000 average per-item loss: 0.9494642615318298\n",
      "38000/40000 average per-item loss: 0.9642192125320435\n",
      "39000/40000 average per-item loss: 0.7544195055961609\n",
      "done\n"
     ]
    }
   ],
   "source": [
    "multi_class = lang_id.LangID(\n",
    "    input_vocab_n=len(c2i), \n",
    "    embedding_dims=10,\n",
    "    hidden_dims=20,\n",
    "    lstm_layers=1,\n",
    "    output_class_n=5\n",
    ")\n",
    "\n",
    "lang_id.train_model(\n",
    "    model=multi_class, \n",
    "    n_epochs=1,\n",
    "    training_data=multi_text_train,\n",
    "    c2i=c2i, i2c=i2c,\n",
    "    l2i=l2i, i2l=i2l\n",
    ");\n",
    "\n",
    "print(\"done\")"
   ]
  },
  {
   "cell_type": "markdown",
   "metadata": {},
   "source": [
    "Now that it's trained, let's evaluate it as before:"
   ]
  },
  {
   "cell_type": "code",
   "execution_count": 142,
   "metadata": {},
   "outputs": [
    {
     "name": "stdout",
     "output_type": "stream",
     "text": [
      "Accuracy: 0.6542\n"
     ]
    }
   ],
   "source": [
    "acc_multi, y_hat_multi = lang_id.eval_acc(multi_class, multi_text_test, c2i, i2c, l2i, i2l)\n",
    "\n",
    "print(f\"Accuracy: {acc_multi}\")"
   ]
  },
  {
   "cell_type": "markdown",
   "metadata": {},
   "source": [
    "For 5-way classification, a single accuracy number is less useful than it is for binary classification. Scikit-Learn has some helpful classes for evaluating classifiers:"
   ]
  },
  {
   "cell_type": "code",
   "execution_count": 97,
   "metadata": {},
   "outputs": [],
   "source": [
    "from sklearn.metrics import classification_report, confusion_matrix"
   ]
  },
  {
   "cell_type": "markdown",
   "metadata": {},
   "source": [
    "The `classification_report` function will give us a per-class breakdown of our performance:"
   ]
  },
  {
   "cell_type": "code",
   "execution_count": 144,
   "metadata": {
    "scrolled": false
   },
   "outputs": [
    {
     "name": "stdout",
     "output_type": "stream",
     "text": [
      "             precision    recall  f1-score   support\n",
      "\n",
      "        deu       0.76      0.78      0.77      2006\n",
      "        eng       0.72      0.79      0.75      1976\n",
      "        fra       0.68      0.64      0.66      2051\n",
      "        ita       0.60      0.55      0.57      1988\n",
      "        spa       0.50      0.51      0.51      1979\n",
      "\n",
      "avg / total       0.65      0.65      0.65     10000\n",
      "\n"
     ]
    }
   ],
   "source": [
    "y_multi = multi_text_test.lang.values\n",
    "print(classification_report(y_multi, y_hat_multi))"
   ]
  },
  {
   "cell_type": "markdown",
   "metadata": {},
   "source": [
    "The `confusion_matrix` function will give us a raw confusion matrix; rows are \"truth\" and columns are \"predictions\"."
   ]
  },
  {
   "cell_type": "code",
   "execution_count": 145,
   "metadata": {},
   "outputs": [
    {
     "data": {
      "text/plain": [
       "array([[1558,  236,  167,   21,   24],\n",
       "       [ 189, 1557,   72,   49,  109],\n",
       "       [ 236,  143, 1309,   93,  270],\n",
       "       [  31,   94,  148, 1099,  616],\n",
       "       [  37,  121,  228,  574, 1019]])"
      ]
     },
     "execution_count": 145,
     "metadata": {},
     "output_type": "execute_result"
    }
   ],
   "source": [
    "cm = confusion_matrix(y_multi, y_hat_multi)\n",
    "cm"
   ]
  },
  {
   "cell_type": "markdown",
   "metadata": {},
   "source": [
    "The `lang_id` module has a method to make nicer-looking matrices:"
   ]
  },
  {
   "cell_type": "code",
   "execution_count": 146,
   "metadata": {},
   "outputs": [],
   "source": [
    "reload(lang_id);"
   ]
  },
  {
   "cell_type": "code",
   "execution_count": 147,
   "metadata": {
    "scrolled": true
   },
   "outputs": [
    {
     "data": {
      "image/png": "[encoded data removed]",
      "text/plain": [
       "<Figure size 432x288 with 2 Axes>"
      ]
     },
     "metadata": {},
     "output_type": "display_data"
    }
   ],
   "source": [
    "lang_id.pretty_conf_matrix(cm, ['deu','eng','fra','ita','spa'])"
   ]
  },
  {
   "cell_type": "markdown",
   "metadata": {},
   "source": [
    "* **Deliverable 2.5:** Interpret these results. Why is our classifier performing better on some languages than on others? Put your analysis in a file named `deliverable_2.5.txt`.\n",
    "\n",
    "From here, the rest of this section is up to you. Experiment with different numbers of embedding & hidden dimensions, hidden LSTM layers, etc., and see how high you can get your classification accuracy. Also try training for additional epochs. Does that help?\n",
    "\n",
    "* **Deliverable 2.6:** Describe at least two additional models that you trained and evaluated, along with their overall and per-class accuracies. What seemed to help the most? Put your discussion in a file named `deliverable_2.6.txt`."
   ]
  },
  {
   "cell_type": "code",
   "execution_count": 98,
   "metadata": {},
   "outputs": [
    {
     "name": "stdout",
     "output_type": "stream",
     "text": [
      "0/40000 average per-item loss: 0.017803587019443512\n",
      "1000/40000 average per-item loss: 1.6176012754440308\n",
      "2000/40000 average per-item loss: 1.6195448637008667\n",
      "3000/40000 average per-item loss: 1.6094096899032593\n",
      "4000/40000 average per-item loss: 1.5990208387374878\n",
      "5000/40000 average per-item loss: 1.5748869180679321\n",
      "6000/40000 average per-item loss: 1.5326803922653198\n",
      "7000/40000 average per-item loss: 1.5294543504714966\n",
      "8000/40000 average per-item loss: 1.471760869026184\n",
      "9000/40000 average per-item loss: 1.3486030101776123\n",
      "10000/40000 average per-item loss: 1.27962327003479\n",
      "11000/40000 average per-item loss: 1.2249219417572021\n",
      "12000/40000 average per-item loss: 1.2858517169952393\n",
      "13000/40000 average per-item loss: 1.1225385665893555\n",
      "14000/40000 average per-item loss: 1.0611099004745483\n",
      "15000/40000 average per-item loss: 0.9737956523895264\n",
      "16000/40000 average per-item loss: 0.9998188018798828\n",
      "17000/40000 average per-item loss: 0.9984406232833862\n",
      "18000/40000 average per-item loss: 0.9515456557273865\n",
      "19000/40000 average per-item loss: 0.9130332469940186\n",
      "20000/40000 average per-item loss: 0.8834517002105713\n",
      "21000/40000 average per-item loss: 0.8441944122314453\n",
      "22000/40000 average per-item loss: 0.8272653222084045\n",
      "23000/40000 average per-item loss: 0.8459064960479736\n",
      "24000/40000 average per-item loss: 0.8162698149681091\n",
      "25000/40000 average per-item loss: 0.7326400876045227\n",
      "26000/40000 average per-item loss: 0.8304508328437805\n",
      "27000/40000 average per-item loss: 0.6218450665473938\n",
      "28000/40000 average per-item loss: 0.652772843837738\n",
      "29000/40000 average per-item loss: 0.81153404712677\n",
      "30000/40000 average per-item loss: 0.7563313245773315\n",
      "31000/40000 average per-item loss: 0.5897307991981506\n",
      "32000/40000 average per-item loss: 0.6933239698410034\n",
      "33000/40000 average per-item loss: 0.7643840312957764\n",
      "34000/40000 average per-item loss: 0.707123875617981\n",
      "35000/40000 average per-item loss: 0.4869522750377655\n",
      "36000/40000 average per-item loss: 0.5177468657493591\n",
      "37000/40000 average per-item loss: 0.5994284152984619\n",
      "38000/40000 average per-item loss: 0.62005215883255\n",
      "39000/40000 average per-item loss: 0.5506432056427002\n",
      "0/40000 average per-item loss: 0.0009264636319130659\n",
      "1000/40000 average per-item loss: 0.5683500170707703\n",
      "2000/40000 average per-item loss: 0.6163566708564758\n",
      "3000/40000 average per-item loss: 0.581122875213623\n",
      "4000/40000 average per-item loss: 0.5207727551460266\n",
      "5000/40000 average per-item loss: 0.5314603447914124\n",
      "6000/40000 average per-item loss: 0.5276467800140381\n",
      "7000/40000 average per-item loss: 0.5368856191635132\n",
      "8000/40000 average per-item loss: 0.42879626154899597\n",
      "9000/40000 average per-item loss: 0.37011900544166565\n",
      "10000/40000 average per-item loss: 0.5359300971031189\n",
      "11000/40000 average per-item loss: 0.4744953513145447\n",
      "12000/40000 average per-item loss: 0.4744908809661865\n",
      "13000/40000 average per-item loss: 0.4705958962440491\n",
      "14000/40000 average per-item loss: 0.478811115026474\n",
      "15000/40000 average per-item loss: 0.4643308222293854\n",
      "16000/40000 average per-item loss: 0.4813228249549866\n",
      "17000/40000 average per-item loss: 0.4205608069896698\n",
      "18000/40000 average per-item loss: 0.4384056329727173\n",
      "19000/40000 average per-item loss: 0.28498801589012146\n",
      "20000/40000 average per-item loss: 0.35662510991096497\n",
      "21000/40000 average per-item loss: 0.31079089641571045\n",
      "22000/40000 average per-item loss: 0.41265854239463806\n",
      "23000/40000 average per-item loss: 0.36218297481536865\n",
      "24000/40000 average per-item loss: 0.2654404044151306\n",
      "25000/40000 average per-item loss: 0.28120389580726624\n",
      "26000/40000 average per-item loss: 0.3908346891403198\n",
      "27000/40000 average per-item loss: 0.35843247175216675\n",
      "28000/40000 average per-item loss: 0.25871899724006653\n",
      "29000/40000 average per-item loss: 0.42046287655830383\n",
      "30000/40000 average per-item loss: 0.3280676305294037\n",
      "31000/40000 average per-item loss: 0.35520461201667786\n",
      "32000/40000 average per-item loss: 0.35717064142227173\n",
      "33000/40000 average per-item loss: 0.3223314583301544\n",
      "34000/40000 average per-item loss: 0.3665008544921875\n",
      "35000/40000 average per-item loss: 0.3059796988964081\n",
      "36000/40000 average per-item loss: 0.3382478952407837\n",
      "37000/40000 average per-item loss: 0.33468207716941833\n",
      "38000/40000 average per-item loss: 0.47539782524108887\n",
      "39000/40000 average per-item loss: 0.26670560240745544\n"
     ]
    }
   ],
   "source": [
    "multi_class = lang_id.LangID(\n",
    "    input_vocab_n=len(c2i), \n",
    "    embedding_dims=20,\n",
    "    hidden_dims=20,\n",
    "    lstm_layers=2,\n",
    "    output_class_n=5\n",
    ")\n",
    "\n",
    "lang_id.train_model(\n",
    "    model=multi_class, \n",
    "    n_epochs=2,\n",
    "    training_data=multi_text_train,\n",
    "    c2i=c2i, i2c=i2c,\n",
    "    l2i=l2i, i2l=i2l\n",
    ");"
   ]
  },
  {
   "cell_type": "code",
   "execution_count": 99,
   "metadata": {},
   "outputs": [
    {
     "name": "stdout",
     "output_type": "stream",
     "text": [
      "Accuracy: 0.894\n"
     ]
    }
   ],
   "source": [
    "acc_multi, y_hat_multi = lang_id.eval_acc(multi_class, multi_text_test, c2i, i2c, l2i, i2l)\n",
    "\n",
    "print(f\"Accuracy: {acc_multi}\")"
   ]
  },
  {
   "cell_type": "code",
   "execution_count": 100,
   "metadata": {},
   "outputs": [
    {
     "name": "stdout",
     "output_type": "stream",
     "text": [
      "             precision    recall  f1-score   support\n",
      "\n",
      "        deu       0.94      0.95      0.95      2035\n",
      "        eng       0.91      0.94      0.92      1978\n",
      "        fra       0.91      0.91      0.91      2021\n",
      "        ita       0.89      0.80      0.84      1974\n",
      "        spa       0.83      0.88      0.85      1992\n",
      "\n",
      "avg / total       0.89      0.89      0.89     10000\n",
      "\n"
     ]
    }
   ],
   "source": [
    "y_multi = multi_text_test.lang.values\n",
    "print(classification_report(y_multi, y_hat_multi))"
   ]
  },
  {
   "cell_type": "code",
   "execution_count": 101,
   "metadata": {},
   "outputs": [
    {
     "data": {
      "image/png": "[encoded data removed]",
      "text/plain": [
       "<Figure size 432x288 with 2 Axes>"
      ]
     },
     "metadata": {},
     "output_type": "display_data"
    }
   ],
   "source": [
    "cm = confusion_matrix(y_multi, y_hat_multi)\n",
    "reload(lang_id);\n",
    "lang_id.pretty_conf_matrix(cm, ['deu','eng','fra','ita','spa'])"
   ]
  },
  {
   "cell_type": "code",
   "execution_count": 102,
   "metadata": {},
   "outputs": [
    {
     "name": "stdout",
     "output_type": "stream",
     "text": [
      "0/40000 average per-item loss: 0.016674639657139778\n",
      "1000/40000 average per-item loss: 1.6203396320343018\n",
      "2000/40000 average per-item loss: 1.6039543151855469\n",
      "3000/40000 average per-item loss: 1.6101795434951782\n",
      "4000/40000 average per-item loss: 1.6195019483566284\n",
      "5000/40000 average per-item loss: 1.6125173568725586\n",
      "6000/40000 average per-item loss: 1.5810378789901733\n",
      "7000/40000 average per-item loss: 1.566371202468872\n",
      "8000/40000 average per-item loss: 1.5594722032546997\n",
      "9000/40000 average per-item loss: 1.526036262512207\n",
      "10000/40000 average per-item loss: 1.5306261777877808\n",
      "11000/40000 average per-item loss: 1.5281530618667603\n",
      "12000/40000 average per-item loss: 1.4807748794555664\n",
      "13000/40000 average per-item loss: 1.4732457399368286\n",
      "14000/40000 average per-item loss: 1.4470728635787964\n",
      "15000/40000 average per-item loss: 1.4309214353561401\n",
      "16000/40000 average per-item loss: 1.4310083389282227\n",
      "17000/40000 average per-item loss: 1.3167202472686768\n",
      "18000/40000 average per-item loss: 1.345061182975769\n",
      "19000/40000 average per-item loss: 1.3118934631347656\n",
      "20000/40000 average per-item loss: 1.3049980401992798\n",
      "21000/40000 average per-item loss: 1.2133499383926392\n",
      "22000/40000 average per-item loss: 1.2916510105133057\n",
      "23000/40000 average per-item loss: 1.2195079326629639\n",
      "24000/40000 average per-item loss: 1.2471617460250854\n",
      "25000/40000 average per-item loss: 1.1786078214645386\n",
      "26000/40000 average per-item loss: 1.270871639251709\n",
      "27000/40000 average per-item loss: 1.1895571947097778\n",
      "28000/40000 average per-item loss: 1.181175947189331\n",
      "29000/40000 average per-item loss: 1.1660748720169067\n",
      "30000/40000 average per-item loss: 1.0737115144729614\n",
      "31000/40000 average per-item loss: 1.1023598909378052\n",
      "32000/40000 average per-item loss: 1.1535917520523071\n",
      "33000/40000 average per-item loss: 1.0621962547302246\n",
      "34000/40000 average per-item loss: 1.0210037231445312\n",
      "35000/40000 average per-item loss: 1.109289288520813\n",
      "36000/40000 average per-item loss: 1.0295263528823853\n",
      "37000/40000 average per-item loss: 1.1000962257385254\n",
      "38000/40000 average per-item loss: 0.9928942918777466\n",
      "39000/40000 average per-item loss: 0.9163573384284973\n"
     ]
    }
   ],
   "source": [
    "multi_class = lang_id.LangID(\n",
    "    input_vocab_n=len(c2i), \n",
    "    embedding_dims=10,\n",
    "    hidden_dims=10,\n",
    "    lstm_layers=1,\n",
    "    output_class_n=5\n",
    ")\n",
    "\n",
    "lang_id.train_model(\n",
    "    model=multi_class, \n",
    "    n_epochs=1,\n",
    "    training_data=multi_text_train,\n",
    "    c2i=c2i, i2c=i2c,\n",
    "    l2i=l2i, i2l=i2l\n",
    ");"
   ]
  },
  {
   "cell_type": "code",
   "execution_count": 103,
   "metadata": {},
   "outputs": [
    {
     "name": "stdout",
     "output_type": "stream",
     "text": [
      "Accuracy: 0.568\n"
     ]
    }
   ],
   "source": [
    "acc_multi, y_hat_multi = lang_id.eval_acc(multi_class, multi_text_test, c2i, i2c, l2i, i2l)\n",
    "\n",
    "print(f\"Accuracy: {acc_multi}\")"
   ]
  },
  {
   "cell_type": "code",
   "execution_count": 104,
   "metadata": {},
   "outputs": [
    {
     "name": "stdout",
     "output_type": "stream",
     "text": [
      "             precision    recall  f1-score   support\n",
      "\n",
      "        deu       0.55      0.85      0.67      2035\n",
      "        eng       0.44      0.13      0.20      1978\n",
      "        fra       0.60      0.71      0.65      2021\n",
      "        ita       0.58      0.79      0.67      1974\n",
      "        spa       0.59      0.36      0.44      1992\n",
      "\n",
      "avg / total       0.55      0.57      0.53     10000\n",
      "\n"
     ]
    }
   ],
   "source": [
    "y_multi = multi_text_test.lang.values\n",
    "print(classification_report(y_multi, y_hat_multi))"
   ]
  },
  {
   "cell_type": "code",
   "execution_count": 105,
   "metadata": {},
   "outputs": [
    {
     "data": {
      "image/png": "[encoded data removed]",
      "text/plain": [
       "<Figure size 432x288 with 2 Axes>"
      ]
     },
     "metadata": {},
     "output_type": "display_data"
    }
   ],
   "source": [
    "cm = confusion_matrix(y_multi, y_hat_multi)\n",
    "reload(lang_id);\n",
    "lang_id.pretty_conf_matrix(cm, ['deu','eng','fra','ita','spa'])"
   ]
  },
  {
   "cell_type": "code",
   "execution_count": 154,
   "metadata": {},
   "outputs": [
    {
     "name": "stdout",
     "output_type": "stream",
     "text": [
      "0/40000 average per-item loss: 0.0158828254789114\n",
      "1000/40000 average per-item loss: 1.588904619216919\n",
      "2000/40000 average per-item loss: 1.6086348295211792\n",
      "3000/40000 average per-item loss: 1.5812290906906128\n",
      "4000/40000 average per-item loss: 1.5546603202819824\n",
      "5000/40000 average per-item loss: 1.5401180982589722\n",
      "6000/40000 average per-item loss: 1.5042529106140137\n",
      "7000/40000 average per-item loss: 1.506708025932312\n",
      "8000/40000 average per-item loss: 1.4438737630844116\n",
      "9000/40000 average per-item loss: 1.4441027641296387\n",
      "10000/40000 average per-item loss: 1.345941185951233\n",
      "11000/40000 average per-item loss: 1.351986050605774\n",
      "12000/40000 average per-item loss: 1.344778299331665\n",
      "13000/40000 average per-item loss: 1.3795744180679321\n",
      "14000/40000 average per-item loss: 1.2552149295806885\n",
      "15000/40000 average per-item loss: 1.1756713390350342\n",
      "16000/40000 average per-item loss: 1.2751102447509766\n",
      "17000/40000 average per-item loss: 1.0503590106964111\n",
      "18000/40000 average per-item loss: 1.1009142398834229\n",
      "19000/40000 average per-item loss: 1.1596626043319702\n",
      "20000/40000 average per-item loss: 1.1334855556488037\n",
      "21000/40000 average per-item loss: 1.1498351097106934\n",
      "22000/40000 average per-item loss: 1.0095237493515015\n",
      "23000/40000 average per-item loss: 0.994190514087677\n",
      "24000/40000 average per-item loss: 1.0350414514541626\n",
      "25000/40000 average per-item loss: 0.8499912023544312\n",
      "26000/40000 average per-item loss: 0.9593617916107178\n",
      "27000/40000 average per-item loss: 0.7994567155838013\n",
      "28000/40000 average per-item loss: 1.0094919204711914\n",
      "29000/40000 average per-item loss: 0.9344037771224976\n",
      "30000/40000 average per-item loss: 0.9950015544891357\n",
      "31000/40000 average per-item loss: 0.8030905723571777\n",
      "32000/40000 average per-item loss: 0.8170545101165771\n",
      "33000/40000 average per-item loss: 0.6680068969726562\n",
      "34000/40000 average per-item loss: 0.6475618481636047\n",
      "35000/40000 average per-item loss: 0.852800190448761\n",
      "36000/40000 average per-item loss: 0.6313380599021912\n",
      "37000/40000 average per-item loss: 0.8233890533447266\n",
      "38000/40000 average per-item loss: 0.7655655145645142\n",
      "39000/40000 average per-item loss: 0.7613105177879333\n",
      "0/40000 average per-item loss: 0.020083637908101082\n",
      "1000/40000 average per-item loss: 0.767783522605896\n",
      "2000/40000 average per-item loss: 0.7465223670005798\n",
      "3000/40000 average per-item loss: 0.6526117920875549\n",
      "4000/40000 average per-item loss: 0.6155745983123779\n",
      "5000/40000 average per-item loss: 0.6384574770927429\n",
      "6000/40000 average per-item loss: 0.5905706882476807\n",
      "7000/40000 average per-item loss: 0.5708949565887451\n",
      "8000/40000 average per-item loss: 0.5841556787490845\n",
      "9000/40000 average per-item loss: 0.5921429395675659\n",
      "10000/40000 average per-item loss: 0.6367154121398926\n",
      "11000/40000 average per-item loss: 0.5807492136955261\n",
      "12000/40000 average per-item loss: 0.4353298842906952\n",
      "13000/40000 average per-item loss: 0.6146352887153625\n",
      "14000/40000 average per-item loss: 0.581504762172699\n",
      "15000/40000 average per-item loss: 0.6431999802589417\n",
      "16000/40000 average per-item loss: 0.565841555595398\n",
      "17000/40000 average per-item loss: 0.502129077911377\n",
      "18000/40000 average per-item loss: 0.5405675768852234\n",
      "19000/40000 average per-item loss: 0.7471859455108643\n",
      "20000/40000 average per-item loss: 0.40454551577568054\n",
      "21000/40000 average per-item loss: 0.41324299573898315\n",
      "22000/40000 average per-item loss: 0.5456482172012329\n",
      "23000/40000 average per-item loss: 0.4833037555217743\n",
      "24000/40000 average per-item loss: 0.47104591131210327\n",
      "25000/40000 average per-item loss: 0.5108160376548767\n",
      "26000/40000 average per-item loss: 0.5135247707366943\n",
      "27000/40000 average per-item loss: 0.5656893849372864\n",
      "28000/40000 average per-item loss: 0.4992149770259857\n",
      "29000/40000 average per-item loss: 0.4058784246444702\n",
      "30000/40000 average per-item loss: 0.3999248147010803\n",
      "31000/40000 average per-item loss: 0.39312225580215454\n",
      "32000/40000 average per-item loss: 0.26250651478767395\n",
      "33000/40000 average per-item loss: 0.4992794394493103\n",
      "34000/40000 average per-item loss: 0.3574826717376709\n",
      "35000/40000 average per-item loss: 0.4203413426876068\n",
      "36000/40000 average per-item loss: 0.35093674063682556\n",
      "37000/40000 average per-item loss: 0.4992331266403198\n",
      "38000/40000 average per-item loss: 0.411525160074234\n",
      "39000/40000 average per-item loss: 0.4475747346878052\n",
      "0/40000 average per-item loss: 0.01060040108859539\n",
      "1000/40000 average per-item loss: 0.34465572237968445\n",
      "2000/40000 average per-item loss: 0.33768194913864136\n",
      "3000/40000 average per-item loss: 0.3734354078769684\n",
      "4000/40000 average per-item loss: 0.3314405083656311\n",
      "5000/40000 average per-item loss: 0.400218665599823\n",
      "6000/40000 average per-item loss: 0.4300820827484131\n",
      "7000/40000 average per-item loss: 0.31370222568511963\n",
      "8000/40000 average per-item loss: 0.34371402859687805\n",
      "9000/40000 average per-item loss: 0.3315906226634979\n",
      "10000/40000 average per-item loss: 0.40835368633270264\n",
      "11000/40000 average per-item loss: 0.2844274938106537\n",
      "12000/40000 average per-item loss: 0.3478979468345642\n",
      "13000/40000 average per-item loss: 0.4180860221385956\n",
      "14000/40000 average per-item loss: 0.3273680508136749\n",
      "15000/40000 average per-item loss: 0.3682790994644165\n",
      "16000/40000 average per-item loss: 0.3823510408401489\n",
      "17000/40000 average per-item loss: 0.28094482421875\n",
      "18000/40000 average per-item loss: 0.3625897467136383\n",
      "19000/40000 average per-item loss: 0.23856674134731293\n",
      "20000/40000 average per-item loss: 0.3264450430870056\n",
      "21000/40000 average per-item loss: 0.3075297474861145\n",
      "22000/40000 average per-item loss: 0.3856208920478821\n",
      "23000/40000 average per-item loss: 0.4346578121185303\n",
      "24000/40000 average per-item loss: 0.2897352874279022\n",
      "25000/40000 average per-item loss: 0.25975319743156433\n",
      "26000/40000 average per-item loss: 0.4118700921535492\n",
      "27000/40000 average per-item loss: 0.3214809000492096\n",
      "28000/40000 average per-item loss: 0.3416840434074402\n",
      "29000/40000 average per-item loss: 0.3487832546234131\n",
      "30000/40000 average per-item loss: 0.35521066188812256\n",
      "31000/40000 average per-item loss: 0.27514031529426575\n",
      "32000/40000 average per-item loss: 0.26365381479263306\n",
      "33000/40000 average per-item loss: 0.36420902609825134\n",
      "34000/40000 average per-item loss: 0.29889070987701416\n",
      "35000/40000 average per-item loss: 0.3502754867076874\n",
      "36000/40000 average per-item loss: 0.28927046060562134\n",
      "37000/40000 average per-item loss: 0.2918717563152313\n",
      "38000/40000 average per-item loss: 0.2610240578651428\n",
      "39000/40000 average per-item loss: 0.3414713144302368\n",
      "0/40000 average per-item loss: 0.0016242838464677334\n",
      "1000/40000 average per-item loss: 0.19829688966274261\n",
      "2000/40000 average per-item loss: 0.3142926096916199\n",
      "3000/40000 average per-item loss: 0.32298949360847473\n",
      "4000/40000 average per-item loss: 0.3022821545600891\n",
      "5000/40000 average per-item loss: 0.26235294342041016\n",
      "6000/40000 average per-item loss: 0.28743183612823486\n",
      "7000/40000 average per-item loss: 0.31657466292381287\n",
      "8000/40000 average per-item loss: 0.2473011016845703\n",
      "9000/40000 average per-item loss: 0.3308071494102478\n",
      "10000/40000 average per-item loss: 0.2944575548171997\n",
      "11000/40000 average per-item loss: 0.23192451894283295\n",
      "12000/40000 average per-item loss: 0.33346161246299744\n",
      "13000/40000 average per-item loss: 0.22972476482391357\n",
      "14000/40000 average per-item loss: 0.19006836414337158\n",
      "15000/40000 average per-item loss: 0.3255387544631958\n",
      "16000/40000 average per-item loss: 0.32803648710250854\n",
      "17000/40000 average per-item loss: 0.1605881154537201\n",
      "18000/40000 average per-item loss: 0.26975327730178833\n",
      "19000/40000 average per-item loss: 0.17593885958194733\n",
      "20000/40000 average per-item loss: 0.25569775700569153\n",
      "21000/40000 average per-item loss: 0.1692081093788147\n",
      "22000/40000 average per-item loss: 0.2319117784500122\n",
      "23000/40000 average per-item loss: 0.16176678240299225\n",
      "24000/40000 average per-item loss: 0.3531927764415741\n",
      "25000/40000 average per-item loss: 0.26702064275741577\n",
      "26000/40000 average per-item loss: 0.23958785831928253\n",
      "27000/40000 average per-item loss: 0.2033202052116394\n",
      "28000/40000 average per-item loss: 0.3071560263633728\n",
      "29000/40000 average per-item loss: 0.2222616970539093\n",
      "30000/40000 average per-item loss: 0.21312080323696136\n",
      "31000/40000 average per-item loss: 0.22111541032791138\n",
      "32000/40000 average per-item loss: 0.2634362578392029\n"
     ]
    },
    {
     "name": "stdout",
     "output_type": "stream",
     "text": [
      "33000/40000 average per-item loss: 0.26792290806770325\n",
      "34000/40000 average per-item loss: 0.2848656475543976\n",
      "35000/40000 average per-item loss: 0.1681773066520691\n",
      "36000/40000 average per-item loss: 0.23927387595176697\n",
      "37000/40000 average per-item loss: 0.20704707503318787\n",
      "38000/40000 average per-item loss: 0.23254165053367615\n",
      "39000/40000 average per-item loss: 0.2612389028072357\n",
      "0/40000 average per-item loss: 0.0043058632872998714\n",
      "1000/40000 average per-item loss: 0.26192381978034973\n",
      "2000/40000 average per-item loss: 0.24132369458675385\n",
      "3000/40000 average per-item loss: 0.23484307527542114\n",
      "4000/40000 average per-item loss: 0.15261101722717285\n",
      "5000/40000 average per-item loss: 0.2978363037109375\n",
      "6000/40000 average per-item loss: 0.296398788690567\n",
      "7000/40000 average per-item loss: 0.22128215432167053\n",
      "8000/40000 average per-item loss: 0.20676490664482117\n",
      "9000/40000 average per-item loss: 0.24314190447330475\n",
      "10000/40000 average per-item loss: 0.22396086156368256\n",
      "11000/40000 average per-item loss: 0.22706224024295807\n",
      "12000/40000 average per-item loss: 0.182734876871109\n",
      "13000/40000 average per-item loss: 0.25378724932670593\n",
      "14000/40000 average per-item loss: 0.09934690594673157\n",
      "15000/40000 average per-item loss: 0.14922325313091278\n",
      "16000/40000 average per-item loss: 0.1720397174358368\n",
      "17000/40000 average per-item loss: 0.21209053695201874\n",
      "18000/40000 average per-item loss: 0.23479494452476501\n",
      "19000/40000 average per-item loss: 0.2029922902584076\n",
      "20000/40000 average per-item loss: 0.31344544887542725\n",
      "21000/40000 average per-item loss: 0.23180833458900452\n",
      "22000/40000 average per-item loss: 0.13457709550857544\n",
      "23000/40000 average per-item loss: 0.14247898757457733\n",
      "24000/40000 average per-item loss: 0.19463646411895752\n",
      "25000/40000 average per-item loss: 0.2571829557418823\n",
      "26000/40000 average per-item loss: 0.3352063000202179\n",
      "27000/40000 average per-item loss: 0.13999158143997192\n",
      "28000/40000 average per-item loss: 0.16014501452445984\n",
      "29000/40000 average per-item loss: 0.1742711067199707\n",
      "30000/40000 average per-item loss: 0.20206588506698608\n",
      "31000/40000 average per-item loss: 0.16589239239692688\n",
      "32000/40000 average per-item loss: 0.1373826265335083\n",
      "33000/40000 average per-item loss: 0.23539316654205322\n",
      "34000/40000 average per-item loss: 0.21050094068050385\n",
      "35000/40000 average per-item loss: 0.12188880890607834\n",
      "36000/40000 average per-item loss: 0.3137975037097931\n",
      "37000/40000 average per-item loss: 0.19028493762016296\n",
      "38000/40000 average per-item loss: 0.24049541354179382\n",
      "39000/40000 average per-item loss: 0.16677266359329224\n"
     ]
    }
   ],
   "source": [
    "multi_class = lang_id.LangID(\n",
    "    input_vocab_n=len(c2i), \n",
    "    embedding_dims=20,\n",
    "    hidden_dims=20,\n",
    "    lstm_layers=1,\n",
    "    output_class_n=5\n",
    ")\n",
    "\n",
    "lang_id.train_model(\n",
    "    model=multi_class, \n",
    "    n_epochs=5,\n",
    "    training_data=multi_text_train,\n",
    "    c2i=c2i, i2c=i2c,\n",
    "    l2i=l2i, i2l=i2l\n",
    ");"
   ]
  },
  {
   "cell_type": "code",
   "execution_count": 155,
   "metadata": {},
   "outputs": [
    {
     "name": "stdout",
     "output_type": "stream",
     "text": [
      "Accuracy: 0.9268\n"
     ]
    }
   ],
   "source": [
    "acc_multi, y_hat_multi = lang_id.eval_acc(multi_class, multi_text_test, c2i, i2c, l2i, i2l)\n",
    "\n",
    "print(f\"Accuracy: {acc_multi}\")"
   ]
  },
  {
   "cell_type": "code",
   "execution_count": 156,
   "metadata": {},
   "outputs": [
    {
     "name": "stdout",
     "output_type": "stream",
     "text": [
      "             precision    recall  f1-score   support\n",
      "\n",
      "        deu       0.95      0.98      0.96      2016\n",
      "        eng       0.97      0.92      0.94      2035\n",
      "        fra       0.93      0.95      0.94      1974\n",
      "        ita       0.84      0.97      0.90      1998\n",
      "        spa       0.97      0.81      0.88      1977\n",
      "\n",
      "avg / total       0.93      0.93      0.93     10000\n",
      "\n"
     ]
    }
   ],
   "source": [
    "y_multi = multi_text_test.lang.values\n",
    "print(classification_report(y_multi, y_hat_multi))"
   ]
  },
  {
   "cell_type": "code",
   "execution_count": 157,
   "metadata": {},
   "outputs": [
    {
     "data": {
      "image/png": "[encoded data removed]",
      "text/plain": [
       "<Figure size 432x288 with 2 Axes>"
      ]
     },
     "metadata": {},
     "output_type": "display_data"
    }
   ],
   "source": [
    "cm = confusion_matrix(y_multi, y_hat_multi)\n",
    "reload(lang_id);\n",
    "lang_id.pretty_conf_matrix(cm, ['deu','eng','fra','ita','spa'])"
   ]
  },
  {
   "cell_type": "code",
   "execution_count": 110,
   "metadata": {},
   "outputs": [
    {
     "name": "stdout",
     "output_type": "stream",
     "text": [
      "0/40000 average per-item loss: 0.017503399401903152\n",
      "1000/40000 average per-item loss: 1.6128486394882202\n",
      "2000/40000 average per-item loss: 1.6001707315444946\n",
      "3000/40000 average per-item loss: 1.5954718589782715\n",
      "4000/40000 average per-item loss: 1.5788264274597168\n",
      "5000/40000 average per-item loss: 1.5570963621139526\n",
      "6000/40000 average per-item loss: 1.5438754558563232\n",
      "7000/40000 average per-item loss: 1.4608960151672363\n",
      "8000/40000 average per-item loss: 1.4018139839172363\n",
      "9000/40000 average per-item loss: 1.384448528289795\n",
      "10000/40000 average per-item loss: 1.293208360671997\n",
      "11000/40000 average per-item loss: 1.2316993474960327\n",
      "12000/40000 average per-item loss: 1.2748445272445679\n",
      "13000/40000 average per-item loss: 1.3174570798873901\n",
      "14000/40000 average per-item loss: 1.1509307622909546\n",
      "15000/40000 average per-item loss: 1.26630437374115\n",
      "16000/40000 average per-item loss: 1.097721815109253\n",
      "17000/40000 average per-item loss: 1.1390362977981567\n",
      "18000/40000 average per-item loss: 1.255551815032959\n",
      "19000/40000 average per-item loss: 1.0327575206756592\n",
      "20000/40000 average per-item loss: 1.0122170448303223\n",
      "21000/40000 average per-item loss: 1.0396907329559326\n",
      "22000/40000 average per-item loss: 0.9250471591949463\n",
      "23000/40000 average per-item loss: 0.9550854563713074\n",
      "24000/40000 average per-item loss: 0.8900479078292847\n",
      "25000/40000 average per-item loss: 0.9815188050270081\n",
      "26000/40000 average per-item loss: 0.8894903659820557\n",
      "27000/40000 average per-item loss: 0.6831883192062378\n",
      "28000/40000 average per-item loss: 0.8250177502632141\n",
      "29000/40000 average per-item loss: 0.6625975966453552\n",
      "30000/40000 average per-item loss: 0.7233008742332458\n",
      "31000/40000 average per-item loss: 0.6286998987197876\n",
      "32000/40000 average per-item loss: 0.7240707874298096\n",
      "33000/40000 average per-item loss: 0.7124490141868591\n",
      "34000/40000 average per-item loss: 0.8614248037338257\n",
      "35000/40000 average per-item loss: 0.6920888423919678\n",
      "36000/40000 average per-item loss: 0.6387724280357361\n",
      "37000/40000 average per-item loss: 0.6888686418533325\n",
      "38000/40000 average per-item loss: 0.5040091276168823\n",
      "39000/40000 average per-item loss: 0.5789958238601685\n"
     ]
    }
   ],
   "source": [
    "multi_class = lang_id.LangID(\n",
    "    input_vocab_n=len(c2i), \n",
    "    embedding_dims=20,\n",
    "    hidden_dims=20,\n",
    "    lstm_layers=2,\n",
    "    output_class_n=5\n",
    ")\n",
    "\n",
    "lang_id.train_model(\n",
    "    model=multi_class, \n",
    "    n_epochs=1,\n",
    "    training_data=multi_text_train,\n",
    "    c2i=c2i, i2c=i2c,\n",
    "    l2i=l2i, i2l=i2l\n",
    ");"
   ]
  },
  {
   "cell_type": "code",
   "execution_count": 111,
   "metadata": {},
   "outputs": [
    {
     "name": "stdout",
     "output_type": "stream",
     "text": [
      "Accuracy: 0.746\n"
     ]
    }
   ],
   "source": [
    "acc_multi, y_hat_multi = lang_id.eval_acc(multi_class, multi_text_test, c2i, i2c, l2i, i2l)\n",
    "\n",
    "print(f\"Accuracy: {acc_multi}\")"
   ]
  },
  {
   "cell_type": "code",
   "execution_count": 112,
   "metadata": {},
   "outputs": [
    {
     "name": "stdout",
     "output_type": "stream",
     "text": [
      "             precision    recall  f1-score   support\n",
      "\n",
      "        deu       0.87      0.94      0.91      2035\n",
      "        eng       0.91      0.78      0.84      1978\n",
      "        fra       0.77      0.92      0.84      2021\n",
      "        ita       0.58      0.72      0.64      1974\n",
      "        spa       0.59      0.37      0.45      1992\n",
      "\n",
      "avg / total       0.74      0.75      0.74     10000\n",
      "\n"
     ]
    }
   ],
   "source": [
    "y_multi = multi_text_test.lang.values\n",
    "print(classification_report(y_multi, y_hat_multi))"
   ]
  },
  {
   "cell_type": "code",
   "execution_count": 113,
   "metadata": {},
   "outputs": [
    {
     "data": {
      "image/png": "[encoded data removed]",
      "text/plain": [
       "<Figure size 432x288 with 2 Axes>"
      ]
     },
     "metadata": {},
     "output_type": "display_data"
    }
   ],
   "source": [
    "cm = confusion_matrix(y_multi, y_hat_multi)\n",
    "reload(lang_id);\n",
    "lang_id.pretty_conf_matrix(cm, ['deu','eng','fra','ita','spa'])"
   ]
  },
  {
   "cell_type": "code",
   "execution_count": 150,
   "metadata": {},
   "outputs": [
    {
     "name": "stdout",
     "output_type": "stream",
     "text": [
      "0/40000 average per-item loss: 0.016331946477293968\n",
      "1000/40000 average per-item loss: 1.6144919395446777\n",
      "2000/40000 average per-item loss: 1.5998574495315552\n",
      "3000/40000 average per-item loss: 1.5849065780639648\n",
      "4000/40000 average per-item loss: 1.5757333040237427\n",
      "5000/40000 average per-item loss: 1.5408329963684082\n",
      "6000/40000 average per-item loss: 1.4896377325057983\n",
      "7000/40000 average per-item loss: 1.3099180459976196\n",
      "8000/40000 average per-item loss: 1.2803066968917847\n",
      "9000/40000 average per-item loss: 1.2747670412063599\n",
      "10000/40000 average per-item loss: 1.087479591369629\n",
      "11000/40000 average per-item loss: 1.1885241270065308\n",
      "12000/40000 average per-item loss: 1.1698280572891235\n",
      "13000/40000 average per-item loss: 0.9776292443275452\n",
      "14000/40000 average per-item loss: 0.9017823934555054\n",
      "15000/40000 average per-item loss: 1.0527554750442505\n",
      "16000/40000 average per-item loss: 0.9936138987541199\n",
      "17000/40000 average per-item loss: 0.9611386656761169\n",
      "18000/40000 average per-item loss: 0.8374096751213074\n",
      "19000/40000 average per-item loss: 0.772993266582489\n",
      "20000/40000 average per-item loss: 0.8870859742164612\n",
      "21000/40000 average per-item loss: 0.8341520428657532\n",
      "22000/40000 average per-item loss: 0.6882416605949402\n",
      "23000/40000 average per-item loss: 0.7039228081703186\n",
      "24000/40000 average per-item loss: 0.8766536116600037\n",
      "25000/40000 average per-item loss: 0.8826661109924316\n",
      "26000/40000 average per-item loss: 0.7805154919624329\n",
      "27000/40000 average per-item loss: 0.7466899156570435\n",
      "28000/40000 average per-item loss: 0.7070190906524658\n",
      "29000/40000 average per-item loss: 0.722139298915863\n",
      "30000/40000 average per-item loss: 0.6320582032203674\n",
      "31000/40000 average per-item loss: 0.5343244075775146\n",
      "32000/40000 average per-item loss: 0.6131126284599304\n",
      "33000/40000 average per-item loss: 0.6126258969306946\n",
      "34000/40000 average per-item loss: 0.6544315814971924\n",
      "35000/40000 average per-item loss: 0.5168430805206299\n",
      "36000/40000 average per-item loss: 0.5310428142547607\n",
      "37000/40000 average per-item loss: 0.5520382523536682\n",
      "38000/40000 average per-item loss: 0.6575156450271606\n",
      "39000/40000 average per-item loss: 0.5338104367256165\n",
      "0/40000 average per-item loss: 0.010097095742821693\n",
      "1000/40000 average per-item loss: 0.5272122025489807\n",
      "2000/40000 average per-item loss: 0.5107715129852295\n",
      "3000/40000 average per-item loss: 0.5144195556640625\n",
      "4000/40000 average per-item loss: 0.5110363960266113\n",
      "5000/40000 average per-item loss: 0.47867247462272644\n",
      "6000/40000 average per-item loss: 0.4290226995944977\n",
      "7000/40000 average per-item loss: 0.5056661367416382\n",
      "8000/40000 average per-item loss: 0.5630715489387512\n",
      "9000/40000 average per-item loss: 0.4447559714317322\n",
      "10000/40000 average per-item loss: 0.44116532802581787\n",
      "11000/40000 average per-item loss: 0.49607113003730774\n",
      "12000/40000 average per-item loss: 0.35539349913597107\n",
      "13000/40000 average per-item loss: 0.39335957169532776\n",
      "14000/40000 average per-item loss: 0.5168073773384094\n",
      "15000/40000 average per-item loss: 0.4668399393558502\n",
      "16000/40000 average per-item loss: 0.4405404329299927\n",
      "17000/40000 average per-item loss: 0.5593494176864624\n",
      "18000/40000 average per-item loss: 0.5100327134132385\n",
      "19000/40000 average per-item loss: 0.5553367137908936\n",
      "20000/40000 average per-item loss: 0.34512659907341003\n",
      "21000/40000 average per-item loss: 0.37764912843704224\n",
      "22000/40000 average per-item loss: 0.3338989019393921\n",
      "23000/40000 average per-item loss: 0.3142835199832916\n",
      "24000/40000 average per-item loss: 0.44102269411087036\n",
      "25000/40000 average per-item loss: 0.3822685182094574\n",
      "26000/40000 average per-item loss: 0.38620999455451965\n",
      "27000/40000 average per-item loss: 0.30922451615333557\n",
      "28000/40000 average per-item loss: 0.33538323640823364\n",
      "29000/40000 average per-item loss: 0.33146965503692627\n",
      "30000/40000 average per-item loss: 0.28854626417160034\n",
      "31000/40000 average per-item loss: 0.43377232551574707\n",
      "32000/40000 average per-item loss: 0.3233727216720581\n",
      "33000/40000 average per-item loss: 0.38600149750709534\n",
      "34000/40000 average per-item loss: 0.3580406904220581\n",
      "35000/40000 average per-item loss: 0.275345116853714\n",
      "36000/40000 average per-item loss: 0.29566290974617004\n",
      "37000/40000 average per-item loss: 0.3443834185600281\n",
      "38000/40000 average per-item loss: 0.43244242668151855\n",
      "39000/40000 average per-item loss: 0.37153685092926025\n",
      "0/40000 average per-item loss: 0.00026314734714105725\n",
      "1000/40000 average per-item loss: 0.32398977875709534\n",
      "2000/40000 average per-item loss: 0.30074816942214966\n",
      "3000/40000 average per-item loss: 0.26050248742103577\n",
      "4000/40000 average per-item loss: 0.3415936231613159\n",
      "5000/40000 average per-item loss: 0.2860817015171051\n",
      "6000/40000 average per-item loss: 0.2800317406654358\n",
      "7000/40000 average per-item loss: 0.3377015292644501\n",
      "8000/40000 average per-item loss: 0.2975913882255554\n",
      "9000/40000 average per-item loss: 0.24818609654903412\n",
      "10000/40000 average per-item loss: 0.2575201690196991\n",
      "11000/40000 average per-item loss: 0.23640502989292145\n",
      "12000/40000 average per-item loss: 0.3464479446411133\n",
      "13000/40000 average per-item loss: 0.19033962488174438\n",
      "14000/40000 average per-item loss: 0.1949595957994461\n",
      "15000/40000 average per-item loss: 0.2822193205356598\n",
      "16000/40000 average per-item loss: 0.2796768248081207\n",
      "17000/40000 average per-item loss: 0.3362208604812622\n",
      "18000/40000 average per-item loss: 0.25055748224258423\n",
      "19000/40000 average per-item loss: 0.3833810091018677\n",
      "20000/40000 average per-item loss: 0.1254129409790039\n",
      "21000/40000 average per-item loss: 0.20727090537548065\n",
      "22000/40000 average per-item loss: 0.26281625032424927\n",
      "23000/40000 average per-item loss: 0.251827597618103\n",
      "24000/40000 average per-item loss: 0.2786771059036255\n",
      "25000/40000 average per-item loss: 0.19177307188510895\n",
      "26000/40000 average per-item loss: 0.27078932523727417\n",
      "27000/40000 average per-item loss: 0.3305593430995941\n",
      "28000/40000 average per-item loss: 0.16082176566123962\n",
      "29000/40000 average per-item loss: 0.1510891616344452\n",
      "30000/40000 average per-item loss: 0.12202686071395874\n",
      "31000/40000 average per-item loss: 0.18802869319915771\n",
      "32000/40000 average per-item loss: 0.1737942099571228\n",
      "33000/40000 average per-item loss: 0.23116084933280945\n",
      "34000/40000 average per-item loss: 0.2631228268146515\n",
      "35000/40000 average per-item loss: 0.18332847952842712\n",
      "36000/40000 average per-item loss: 0.2175813466310501\n",
      "37000/40000 average per-item loss: 0.15540312230587006\n",
      "38000/40000 average per-item loss: 0.2250298261642456\n",
      "39000/40000 average per-item loss: 0.29406383633613586\n"
     ]
    }
   ],
   "source": [
    "multi_class = lang_id.LangID(\n",
    "    input_vocab_n=len(c2i), \n",
    "    embedding_dims=20,\n",
    "    hidden_dims=24,\n",
    "    lstm_layers=2,\n",
    "    output_class_n=5\n",
    ")\n",
    "\n",
    "lang_id.train_model(\n",
    "    model=multi_class, \n",
    "    n_epochs=3,\n",
    "    training_data=multi_text_train,\n",
    "    c2i=c2i, i2c=i2c,\n",
    "    l2i=l2i, i2l=i2l\n",
    ");"
   ]
  },
  {
   "cell_type": "code",
   "execution_count": 151,
   "metadata": {},
   "outputs": [
    {
     "name": "stdout",
     "output_type": "stream",
     "text": [
      "Accuracy: 0.9232\n"
     ]
    }
   ],
   "source": [
    "acc_multi, y_hat_multi = lang_id.eval_acc(multi_class, multi_text_test, c2i, i2c, l2i, i2l)\n",
    "\n",
    "print(f\"Accuracy: {acc_multi}\")"
   ]
  },
  {
   "cell_type": "code",
   "execution_count": 152,
   "metadata": {},
   "outputs": [
    {
     "name": "stdout",
     "output_type": "stream",
     "text": [
      "             precision    recall  f1-score   support\n",
      "\n",
      "        deu       0.98      0.95      0.96      2016\n",
      "        eng       0.95      0.93      0.94      2035\n",
      "        fra       0.94      0.93      0.94      1974\n",
      "        ita       0.88      0.91      0.90      1998\n",
      "        spa       0.87      0.89      0.88      1977\n",
      "\n",
      "avg / total       0.92      0.92      0.92     10000\n",
      "\n"
     ]
    }
   ],
   "source": [
    "y_multi = multi_text_test.lang.values\n",
    "print(classification_report(y_multi, y_hat_multi))"
   ]
  },
  {
   "cell_type": "code",
   "execution_count": 153,
   "metadata": {},
   "outputs": [
    {
     "data": {
      "image/png": "[encoded data removed]",
      "text/plain": [
       "<Figure size 432x288 with 2 Axes>"
      ]
     },
     "metadata": {},
     "output_type": "display_data"
    }
   ],
   "source": [
    "cm = confusion_matrix(y_multi, y_hat_multi)\n",
    "reload(lang_id);\n",
    "lang_id.pretty_conf_matrix(cm, ['deu','eng','fra','ita','spa'])"
   ]
  },
  {
   "cell_type": "markdown",
   "metadata": {},
   "source": [
    "## Part 3: Language modeling\n",
    "\n",
    "### Getting Started\n",
    "\n",
    "In this part of the assignment, you will build and evaluate a simple LSTM character language model, and then _sample_ from it to generate new text mimicking the training data. The model you will build should follow the general structure outlined in Section 17.1 of the Goldberg text, and use the \"teacher-forcing\" training method outlined in 17.1.1.\n",
    "\n",
    "$$ p(\\mathbf{w}_n | \\mathbf{w}_{1:n-1}) = \\operatorname*{softmax} \\mathbf{o}^{(n-1)} $$\n",
    "\n",
    "$$ o = \\mathbf{h} \\mathbf{W}_o^T + b_o $$\n",
    "\n",
    "$$ \\mathbf{h} = LSTM(\\mathbf{x})$$\n",
    "\n",
    "$$ \\mathbf{x}_{1:n-1} = \\mathbf{E}[w_1], ... , \\mathbf{E}[w_n-1] $$\n",
    "\n",
    "For this part of the assignment, we will be working with a data set of British place names located in `data/towns_clean.txt`."
   ]
  },
  {
   "cell_type": "code",
   "execution_count": 165,
   "metadata": {},
   "outputs": [
    {
     "name": "stdout",
     "output_type": "stream",
     "text": [
      "Pristacott\n",
      "Ellington\n",
      "Green Down\n",
      "Lane End\n",
      "Longdon on Tern\n",
      "Cadham\n",
      "Pennymoor\n",
      "Rock\n",
      "Cloatley\n",
      "Kirkton\n"
     ]
    }
   ],
   "source": [
    "corpus = [l.strip() for l in open('data/towns_clean.txt')]\n",
    "c2i, i2c = vocab.build_vocab(corpus)\n",
    "\n",
    "for t in np.random.choice(corpus, size=10):\n",
    "    print(t)"
   ]
  },
  {
   "cell_type": "markdown",
   "metadata": {},
   "source": [
    "Your network, once trained, will learn to recognize British place names, and will be able to make up new ones.\n",
    "\n",
    "* **Deliverable 3.1:** Implement the `__init__()`, and `forward()` functions in `hw3_utils.lm.NameGenerator`.\n",
    "* **Test:** `nosetests tests/test_lm.py:test_d3_1_setup`\n",
    "\n",
    "Once you've got these methods set up correctly, the following ought to work (in the sense of producing appropriately-sized output):"
   ]
  },
  {
   "cell_type": "code",
   "execution_count": 166,
   "metadata": {},
   "outputs": [],
   "source": [
    "from hw3_utils import lm\n",
    "reload(lm);"
   ]
  },
  {
   "cell_type": "code",
   "execution_count": 167,
   "metadata": {},
   "outputs": [
    {
     "data": {
      "text/plain": [
       "torch.Size([1, 12, 77])"
      ]
     },
     "execution_count": 167,
     "metadata": {},
     "output_type": "execute_result"
    }
   ],
   "source": [
    "model = lm.NameGenerator(\n",
    "    input_vocab_size=len(c2i),\n",
    "    n_embedding_dims=25,\n",
    "    n_hidden_dims=50,\n",
    "    n_lstm_layers=1,\n",
    "    output_vocab_size=len(c2i)\n",
    ")\n",
    "\n",
    "x = vocab.sentence_to_tensor(\"Test input\", c2i, True) # make sure to pad w/ bos/eos symbols\n",
    "y_hat, lstm_hidden_state = model(x, model.init_hidden())\n",
    "y_hat.shape # should be 1x12x77 (1 x len(\"Test input\")+2 x len(c2i))"
   ]
  },
  {
   "cell_type": "markdown",
   "metadata": {},
   "source": [
    "Each position $i$ along the second dimension of $\\hat{y}$ is the model's estimate of $p(x_{i+1} | x_{1:i})$, and is represented as a multinomial probability distribution in log-space (i.e., each of the 78 possible characters is assigned an estimated log-probability of occurring).\n",
    "\n",
    "By multiplying across (or summing across, in log-space) each of those values, we can calculate the model's estimate of the probability of an input sequence (see Jurafsky & Martin, Chapter 3 if you need refresher on how this works). As a convenience method, I have provided `lm.compute_prob`."
   ]
  },
  {
   "cell_type": "code",
   "execution_count": 126,
   "metadata": {
    "scrolled": true
   },
   "outputs": [
    {
     "data": {
      "text/plain": [
       "48.24027633666992"
      ]
     },
     "execution_count": 126,
     "metadata": {},
     "output_type": "execute_result"
    }
   ],
   "source": [
    "lm.compute_prob(model, \"Test input\", c2i)"
   ]
  },
  {
   "cell_type": "code",
   "execution_count": 127,
   "metadata": {},
   "outputs": [
    {
     "data": {
      "text/plain": [
       "47.920406341552734"
      ]
     },
     "execution_count": 127,
     "metadata": {},
     "output_type": "execute_result"
    }
   ],
   "source": [
    "lm.compute_prob(model, \"fdsafsadfa\", c2i)"
   ]
  },
  {
   "cell_type": "code",
   "execution_count": 128,
   "metadata": {},
   "outputs": [
    {
     "name": "stdout",
     "output_type": "stream",
     "text": [
      ".\n",
      "----------------------------------------------------------------------\n",
      "Ran 1 test in 0.045s\n",
      "\n",
      "OK\n"
     ]
    }
   ],
   "source": [
    "!nosetests tests/test_lm.py:test_d3_1_setup"
   ]
  },
  {
   "cell_type": "markdown",
   "metadata": {},
   "source": [
    "This produces _negative log probabilities_. In this case, the model has not yet been trained and so the two sequences are given (very roughly) equivalent probabilities\n",
    "\n",
    "Note that \"out of the box\" `compute_prob()` does not _normalize_ the probabilities by sequence length, and as such longer sequences will have lower probabilities on average than shorter sequences, regardless of how plausible they are to the model. If you want to compare the model's estimate of the probabilities of two sequences of different lengths, you must normalize each by the appropriate sequence's length.\n",
    "\n",
    "Once the model is trained, the estimated probabilities of the two sequences above should be quite different!"
   ]
  },
  {
   "cell_type": "markdown",
   "metadata": {},
   "source": [
    "### Training\n",
    "\n",
    "Note that there are two ways to structure the training of this sort of model.\n",
    "\n",
    "1. One character at a time\n",
    "2. In a quasi batched manner\n",
    "\n",
    "The equations above describe character-at-a-time training- starting from the shortest possible prefix of our sequence $\\mathbf{w}$, $\\mathbf{w}_{1:1}$, and continuing up through successively longer prefixes until reaching $\\mathbf{w}_{1:n-1}$, ask the model to predict the next character, accumulating loss with the negative log-likelihood criterion.\n",
    "\n",
    "In this scenario, if our input training sentence was _\"hello there\"_, we would perform a series of forward passes:\n",
    "\n",
    "$x_1=\"h\"$, $y_1=\"e\"$\n",
    "\n",
    "$x_2=\"he\"$, $y_2=\"l\"$\n",
    "\n",
    "$x_3=\"hel\"$, $y_3=\"l\"$\n",
    "\n",
    "... and so forth, either doing a call to `backward()` after each prefix $x_i$ or waiting until the end of the sequence to do so. \n",
    "\n",
    "This way works just fine, and is more or less how we will go about sampling from the model, but it is often more efficient to do a more batched training operation. Note that in the above equations, $\\mathbf{o}$ will have dimensionality of $(1, n-1, N_{classes})$- in other words, there will be one set of probability estimates for each time point that we have provided the LSTM. PyTorch's `nn.NLLLoss` class can accept input in this shape, and will automatically compute the average loss across the timepoints (and of course will do so a way that keeps the gradients around for correct backpropagation). Training this way can reduce the total number of computations that we need to do in order to train our model.\n",
    "\n",
    "In this scenario, we would perform a _single_ forward and backward pass, with input that looked like so:\n",
    "\n",
    "$x=\"hello\\_ther\"$, $y=\"ello\\_there\"$\n",
    "\n",
    "Note that PyTorch is perfectly happy either way: the various `nn.*` classes all expect to be able to be given input in this minibatched format. In the first training strategy, the \"batch\" size is 1; in the second, it is $n-1$ where $n$ is the length of the training example.\n",
    "\n",
    "The overall process of training this model will be very similar to how we trained the language ID classifier, so use that as a starting point and modify as needed. For starters, train with the following parameters:\n",
    "\n",
    "* Number of character embedding dimensions: 25\n",
    "* Number of LSTM hidden units: 50\n",
    "* Number of LSTM layers: 1\n",
    "\n",
    "Once your model is trained, you can save it to disk using the `torch.save()` function. This will make it available for the unit test to access.\n",
    "\n",
    "* **Deliverable 3.2:** Implement the `train()` function in `hw3_utils.lm`. Save a trained model to a file named `deliverable_3.2.mod`.\n",
    "* **Test:** `nosetests tests/test_lm.py:test_d3_2_training`"
   ]
  },
  {
   "cell_type": "code",
   "execution_count": 129,
   "metadata": {},
   "outputs": [
    {
     "name": "stdout",
     "output_type": "stream",
     "text": [
      "0/48690 sample name:  epoch: 0\n",
      "10000/48690 sample name:  epoch: 0\n",
      "20000/48690 sample name:  epoch: 0\n",
      "30000/48690 sample name:  epoch: 0\n",
      "40000/48690 sample name:  epoch: 0\n",
      "0/48690 sample name:  epoch: 1\n",
      "10000/48690 sample name:  epoch: 1\n",
      "20000/48690 sample name:  epoch: 1\n",
      "30000/48690 sample name:  epoch: 1\n",
      "40000/48690 sample name:  epoch: 1\n"
     ]
    },
    {
     "data": {
      "text/plain": [
       "NameGenerator(\n",
       "  (input_lookup): Embedding(77, 25)\n",
       "  (lstm): LSTM(25, 50, batch_first=True)\n",
       "  (output): Linear(in_features=50, out_features=77, bias=True)\n",
       "  (softmax): LogSoftmax()\n",
       ")"
      ]
     },
     "execution_count": 129,
     "metadata": {},
     "output_type": "execute_result"
    }
   ],
   "source": [
    "lm.train(model, epochs=2, training_data=corpus, c2i=c2i)"
   ]
  },
  {
   "cell_type": "code",
   "execution_count": 130,
   "metadata": {
    "scrolled": true
   },
   "outputs": [
    {
     "data": {
      "text/plain": [
       "76.73487854003906"
      ]
     },
     "execution_count": 130,
     "metadata": {},
     "output_type": "execute_result"
    }
   ],
   "source": [
    "lm.compute_prob(model, \"Test input\", c2i)"
   ]
  },
  {
   "cell_type": "code",
   "execution_count": 131,
   "metadata": {},
   "outputs": [
    {
     "data": {
      "text/plain": [
       "155.21337890625"
      ]
     },
     "execution_count": 131,
     "metadata": {},
     "output_type": "execute_result"
    }
   ],
   "source": [
    "lm.compute_prob(model, \"fdsafsadfa\", c2i)"
   ]
  },
  {
   "cell_type": "markdown",
   "metadata": {},
   "source": [
    "Remember, this is in log-space, so the difference here is substantial. And now let's try giving it an actual town name as input:"
   ]
  },
  {
   "cell_type": "code",
   "execution_count": 132,
   "metadata": {},
   "outputs": [
    {
     "data": {
      "text/plain": [
       "31.324691772460938"
      ]
     },
     "execution_count": 132,
     "metadata": {},
     "output_type": "execute_result"
    }
   ],
   "source": [
    "lm.compute_prob(model, \"Wavertree\", c2i)"
   ]
  },
  {
   "cell_type": "code",
   "execution_count": 135,
   "metadata": {},
   "outputs": [],
   "source": [
    "torch.save(model, \"deliverable_3.2.mod\")"
   ]
  },
  {
   "cell_type": "code",
   "execution_count": 138,
   "metadata": {},
   "outputs": [
    {
     "name": "stdout",
     "output_type": "stream",
     "text": [
      ".\r\n",
      "----------------------------------------------------------------------\r\n",
      "Ran 1 test in 0.064s\r\n",
      "\r\n",
      "OK\r\n"
     ]
    }
   ],
   "source": [
    "!nosetests tests/test_lm.py:test_d3_2_training"
   ]
  },
  {
   "cell_type": "markdown",
   "metadata": {},
   "source": [
    "### Sampling\n",
    "\n",
    "Now that we've got a language model trained, we can sample from it to generate _new_ names. Follow the general procedure outlined in Goldberg 9.5: \n",
    "\n",
    "1. Build an initial history consisting of the `vocab.BOS_SYM` symbol\n",
    "2. Using this history, query the language model, and predict a distribution over next characters\n",
    "3. Sample a character from that distribution\n",
    "4. Concatenate the selected character to make a _new_ history\n",
    "5. Repeat from step 2 until the selected character is `vocab.EOS_SYM` or we hit a maximum length (200 characters, in this assignment).\n",
    "\n",
    "Once you've implemented sampling, you can generate hilarious and adorable new names!\n",
    "\n",
    "* **Deliverable 3.3:** Implement the `sample()` function in `hw3_utils.lm`\n",
    "* **Test:** `nosetests tests/test_lm.py:test_d3_3_sample`\n",
    "\n",
    "_Hint_: The `torch.multinomial()` function samples from a multinomial distribution stored in a `Tensor`, but _it requires real-space probabilities_, not log-space. `Tensor`s have a `.exp()` method that you may need to use."
   ]
  },
  {
   "cell_type": "code",
   "execution_count": null,
   "metadata": {
    "scrolled": true
   },
   "outputs": [],
   "source": [
    "reload(lm);\n",
    "for i in range(10):\n",
    "    print(lm.sample(model, c2i, i2c))"
   ]
  },
  {
   "cell_type": "code",
   "execution_count": 140,
   "metadata": {},
   "outputs": [
    {
     "name": "stdout",
     "output_type": "stream",
     "text": [
      ".\r\n",
      "----------------------------------------------------------------------\r\n",
      "Ran 1 test in 0.158s\r\n",
      "\r\n",
      "OK\r\n"
     ]
    }
   ],
   "source": [
    "!nosetests tests/test_lm.py:test_d3_3_sample"
   ]
  },
  {
   "cell_type": "markdown",
   "metadata": {},
   "source": [
    "### Improving your model\n",
    "\n",
    "These generated names should look more like names of towns than random sequences, but they are a little bit rough compared to the names in the data file. Try modifying your training process to go for additional epochs, and see how that changes your sampled sentences. Also, experiment with different model parameters. What happens if you _decrease_ number of hidden dimensions? What about _increasing_ the dimensionality? How about adding more layers to the LSTM?\n",
    "\n",
    "One useful thing to try: now that the `sample()` function is written, you might try adding some reporting code to your `train()` function: at regular intervals during training (e.g. every 1000 training examples), you could have it print out a few random towns generated from the model at its current state. This way, you can watch the model evolve over time. How many examples does it need to see before it learns that names always start with upper-case letters?\n",
    "\n",
    "* **Deliverable 3.4:** Write up a short summary of your observations and investigations into model behavior, including examples, and put it in a text file called `deliverable_3.4.txt`."
   ]
  },
  {
   "cell_type": "code",
   "execution_count": 170,
   "metadata": {},
   "outputs": [],
   "source": [
    "reload(lm);\n",
    "model = lm.NameGenerator(\n",
    "    input_vocab_size=len(c2i),\n",
    "    n_embedding_dims=25,\n",
    "    n_hidden_dims=50,\n",
    "    n_lstm_layers=3,\n",
    "    output_vocab_size=len(c2i)\n",
    ")"
   ]
  },
  {
   "cell_type": "code",
   "execution_count": 85,
   "metadata": {},
   "outputs": [
    {
     "name": "stdout",
     "output_type": "stream",
     "text": [
      "0/48690 sample name: ùpB45CS3àyImhdè epoch: 0\n",
      "10000/48690 sample name: Trlat epoch: 0\n",
      "20000/48690 sample name: Arnbade epoch: 0\n",
      "30000/48690 sample name: Gobnstno e n epoch: 0\n",
      "40000/48690 sample name: tretahsA sod sab  hskl epoch: 0\n",
      "0/48690 sample name: T epoch: 1\n",
      "10000/48690 sample name: C epoch: 1\n",
      "20000/48690 sample name: Ryrsnttsaodlsleazsshnd epoch: 1\n",
      "30000/48690 sample name: SSN epoch: 1\n",
      "40000/48690 sample name: C epoch: 1\n"
     ]
    },
    {
     "data": {
      "text/plain": [
       "NameGenerator(\n",
       "  (input_lookup): Embedding(77, 25)\n",
       "  (lstm): LSTM(25, 50, num_layers=3, batch_first=True)\n",
       "  (output): Linear(in_features=50, out_features=77, bias=True)\n",
       "  (softmax): LogSoftmax()\n",
       ")"
      ]
     },
     "execution_count": 85,
     "metadata": {},
     "output_type": "execute_result"
    }
   ],
   "source": [
    "lm.train(model, epochs=2, training_data=corpus, c2i=c2i, i2c=i2c)"
   ]
  },
  {
   "cell_type": "code",
   "execution_count": 86,
   "metadata": {},
   "outputs": [],
   "source": [
    "model = lm.NameGenerator(\n",
    "    input_vocab_size=len(c2i),\n",
    "    n_embedding_dims=25,\n",
    "    n_hidden_dims=50,\n",
    "    n_lstm_layers=2,\n",
    "    output_vocab_size=len(c2i)\n",
    ")"
   ]
  },
  {
   "cell_type": "code",
   "execution_count": 87,
   "metadata": {},
   "outputs": [
    {
     "name": "stdout",
     "output_type": "stream",
     "text": [
      "0/48690 sample name: Zhùlr4OgAOZ.uwu'ALróI LùO'JàiRyMwEkCMotyYúàw6Y1p6Yn0x epoch: 0\n",
      "10000/48690 sample name: Trorgdyayel-Ura epoch: 0\n",
      "20000/48690 sample name: Wioraoma epoch: 0\n",
      "30000/48690 sample name: Wals epoch: 0\n",
      "40000/48690 sample name: WOtrp Ha epoch: 0\n",
      "0/48690 sample name: Galelntmoo Dtoe epoch: 1\n",
      "10000/48690 sample name: Bi-d epoch: 1\n",
      "20000/48690 sample name: tvaotvhe epoch: 1\n",
      "30000/48690 sample name: A epoch: 1\n",
      "40000/48690 sample name: egnsyrL epoch: 1\n",
      "0/48690 sample name: Lge epoch: 2\n",
      "10000/48690 sample name: Snnw epoch: 2\n",
      "20000/48690 sample name: Gi epoch: 2\n",
      "30000/48690 sample name: Heew epoch: 2\n",
      "40000/48690 sample name: Lyrnlnyougkkbglosryibn epoch: 2\n",
      "0/48690 sample name: HarloWrol epoch: 3\n",
      "10000/48690 sample name: StfosroolB epoch: 3\n",
      "20000/48690 sample name:  epoch: 3\n",
      "30000/48690 sample name: O ogynHiadn epoch: 3\n",
      "40000/48690 sample name: e epoch: 3\n",
      "0/48690 sample name: Sr epoch: 4\n",
      "10000/48690 sample name: EnLndoA epoch: 4\n",
      "20000/48690 sample name: LAtalesatn oedalt epoch: 4\n",
      "30000/48690 sample name: ColeaohE nvaSroOatsotrl epoch: 4\n",
      "40000/48690 sample name: Mnsisphotnr epoch: 4\n"
     ]
    },
    {
     "data": {
      "text/plain": [
       "NameGenerator(\n",
       "  (input_lookup): Embedding(77, 25)\n",
       "  (lstm): LSTM(25, 50, num_layers=2, batch_first=True)\n",
       "  (output): Linear(in_features=50, out_features=77, bias=True)\n",
       "  (softmax): LogSoftmax()\n",
       ")"
      ]
     },
     "execution_count": 87,
     "metadata": {},
     "output_type": "execute_result"
    }
   ],
   "source": [
    "lm.train(model, epochs=5, training_data=corpus, c2i=c2i, i2c=i2c)"
   ]
  },
  {
   "cell_type": "code",
   "execution_count": 88,
   "metadata": {},
   "outputs": [],
   "source": [
    "model = lm.NameGenerator(\n",
    "    input_vocab_size=len(c2i),\n",
    "    n_embedding_dims=25,\n",
    "    n_hidden_dims=20,\n",
    "    n_lstm_layers=1,\n",
    "    output_vocab_size=len(c2i)\n",
    ")"
   ]
  },
  {
   "cell_type": "code",
   "execution_count": 89,
   "metadata": {},
   "outputs": [
    {
     "name": "stdout",
     "output_type": "stream",
     "text": [
      "0/48690 sample name: Hvmh8DzgèZUm!2hPuACwóu5SGXe4t1Z!jx8iyWJBA-MDd5B àQùkà0BF epoch: 0\n",
      "10000/48690 sample name: Loe H epoch: 0\n",
      "20000/48690 sample name: Chealllbardr epoch: 0\n",
      "30000/48690 sample name: Cocard Sard epoch: 0\n",
      "40000/48690 sample name: H Wefoktt epoch: 0\n",
      "0/48690 sample name: Thodeerefos uston epoch: 1\n",
      "10000/48690 sample name: Menalobocktoxoongborswouste epoch: 1\n",
      "20000/48690 sample name: Nrhaselndly epoch: 1\n",
      "30000/48690 sample name: We epoch: 1\n",
      "40000/48690 sample name: Guiote epoch: 1\n"
     ]
    },
    {
     "data": {
      "text/plain": [
       "NameGenerator(\n",
       "  (input_lookup): Embedding(77, 25)\n",
       "  (lstm): LSTM(25, 20, batch_first=True)\n",
       "  (output): Linear(in_features=20, out_features=77, bias=True)\n",
       "  (softmax): LogSoftmax()\n",
       ")"
      ]
     },
     "execution_count": 89,
     "metadata": {},
     "output_type": "execute_result"
    }
   ],
   "source": [
    "lm.train(model, epochs=2, training_data=corpus, c2i=c2i, i2c=i2c)"
   ]
  },
  {
   "cell_type": "code",
   "execution_count": 141,
   "metadata": {},
   "outputs": [],
   "source": [
    "model = lm.NameGenerator(\n",
    "    input_vocab_size=len(c2i),\n",
    "    n_embedding_dims=50,\n",
    "    n_hidden_dims=50,\n",
    "    n_lstm_layers=1,\n",
    "    output_vocab_size=len(c2i)\n",
    ")"
   ]
  },
  {
   "cell_type": "code",
   "execution_count": 142,
   "metadata": {},
   "outputs": [
    {
     "name": "stdout",
     "output_type": "stream",
     "text": [
      "0/48690 sample name: 8prDxUzòR&FW!hwGxmEf6C3bbùU!kgM,G'ZVó floD7KàHjVWp8rOA3LWnY5nS1QoTàRbhbóhE68wèRnGvWFj2fCLzP7òtOozrPqEócRTo,-g RE9MkA E4yphB3ú&QaPùZps3jaMvaúybhR8nux JgpVN1tAX-amwlFà0 hT,om6!lKUP' epoch: 0\n",
      "10000/48690 sample name: Wighmwalel epoch: 0\n",
      "20000/48690 sample name: Braishuretonwdw Bulgrey epoch: 0\n",
      "30000/48690 sample name: Cleldoulf epoch: 0\n",
      "40000/48690 sample name: Ford'shdrth epoch: 0\n",
      "0/48690 sample name: Fumowney epoch: 1\n",
      "10000/48690 sample name: Pan epoch: 1\n",
      "20000/48690 sample name: Doneilllis epoch: 1\n",
      "30000/48690 sample name: Cratawascawatowillend epoch: 1\n",
      "40000/48690 sample name: Cos epoch: 1\n"
     ]
    },
    {
     "data": {
      "text/plain": [
       "NameGenerator(\n",
       "  (input_lookup): Embedding(77, 50)\n",
       "  (lstm): LSTM(50, 50, batch_first=True)\n",
       "  (output): Linear(in_features=50, out_features=77, bias=True)\n",
       "  (softmax): LogSoftmax()\n",
       ")"
      ]
     },
     "execution_count": 142,
     "metadata": {},
     "output_type": "execute_result"
    }
   ],
   "source": [
    "lm.train(model, epochs=2, training_data=corpus, c2i=c2i, i2c=i2c)"
   ]
  },
  {
   "cell_type": "code",
   "execution_count": 145,
   "metadata": {},
   "outputs": [],
   "source": [
    "model = lm.NameGenerator(\n",
    "    input_vocab_size=len(c2i),\n",
    "    n_embedding_dims=50,\n",
    "    n_hidden_dims=50,\n",
    "    n_lstm_layers=2,\n",
    "    output_vocab_size=len(c2i)\n",
    ")"
   ]
  },
  {
   "cell_type": "code",
   "execution_count": 146,
   "metadata": {},
   "outputs": [
    {
     "name": "stdout",
     "output_type": "stream",
     "text": [
      "0/48690 sample name: !WrbUqpT&aSxùbkozEV'G qX0O2y4DkggV9Vè3A!EENMm,P'L9dàxZZkàxYn8,TBE9TId1 epoch: 0\n",
      "10000/48690 sample name: Bootat epoch: 0\n",
      "20000/48690 sample name: Mewldysb Horbhotieloyht epoch: 0\n",
      "30000/48690 sample name: Ws epoch: 0\n",
      "40000/48690 sample name: Hitdcaeata'onthionoceilaelheohfrfdoywa epoch: 0\n",
      "0/48690 sample name: Bantaka Bii Bounon epoch: 1\n",
      "10000/48690 sample name: Ci epoch: 1\n",
      "20000/48690 sample name: Hiurauueyode epoch: 1\n",
      "30000/48690 sample name: f epoch: 1\n",
      "40000/48690 sample name: Knemas re epoch: 1\n",
      "0/48690 sample name: Bronsraynnlg  epoch: 2\n",
      "10000/48690 sample name: VhyHhraosd epoch: 2\n",
      "20000/48690 sample name: Cowmhhedoenm epoch: 2\n",
      "30000/48690 sample name: L epoch: 2\n",
      "40000/48690 sample name: Sish epoch: 2\n"
     ]
    },
    {
     "data": {
      "text/plain": [
       "NameGenerator(\n",
       "  (input_lookup): Embedding(77, 50)\n",
       "  (lstm): LSTM(50, 50, num_layers=2, batch_first=True)\n",
       "  (output): Linear(in_features=50, out_features=77, bias=True)\n",
       "  (softmax): LogSoftmax()\n",
       ")"
      ]
     },
     "execution_count": 146,
     "metadata": {},
     "output_type": "execute_result"
    }
   ],
   "source": [
    "lm.train(model, epochs=3, training_data=corpus, c2i=c2i, i2c=i2c)"
   ]
  },
  {
   "cell_type": "code",
   "execution_count": 177,
   "metadata": {},
   "outputs": [],
   "source": [
    "reload(lm);\n",
    "model = lm.NameGenerator(\n",
    "    input_vocab_size=len(c2i),\n",
    "    n_embedding_dims=20,\n",
    "    n_hidden_dims=20,\n",
    "    n_lstm_layers=2,\n",
    "    output_vocab_size=len(c2i)\n",
    ")"
   ]
  },
  {
   "cell_type": "code",
   "execution_count": 178,
   "metadata": {},
   "outputs": [
    {
     "name": "stdout",
     "output_type": "stream",
     "text": [
      "0/48690 sample name: vqUqbedLsDzFS3!p epoch: 0\n",
      "10000/48690 sample name: elnl epoch: 0\n",
      "20000/48690 sample name: frydrtltrenh epoch: 0\n",
      "30000/48690 sample name: vetgegCawGecl epoch: 0\n",
      "40000/48690 sample name:  epoch: 0\n",
      "0/48690 sample name: G oe epoch: 1\n",
      "10000/48690 sample name: ètaoaf epoch: 1\n",
      "20000/48690 sample name: Weptyenosrynevheaiytinonctdyet wdkhdoihnrrerosgaohktssynahnieranoshnehwtknnitnsreotnrudtB'ethtoesnno epoch: 1\n",
      "30000/48690 sample name: Meorl epoch: 1\n",
      "40000/48690 sample name: NKloea epoch: 1\n",
      "0/48690 sample name: SrLataBReaureeteeaahr epoch: 2\n",
      "10000/48690 sample name: S epoch: 2\n",
      "20000/48690 sample name: Lbtshbg epoch: 2\n",
      "30000/48690 sample name: Ermltee epoch: 2\n",
      "40000/48690 sample name: Bila epoch: 2\n",
      "0/48690 sample name: B egf epoch: 3\n",
      "10000/48690 sample name: CaBorueeCSr epoch: 3\n",
      "20000/48690 sample name: Derdierbginhohesh epoch: 3\n",
      "30000/48690 sample name: Rnryhagecldeso epoch: 3\n",
      "40000/48690 sample name: Ctkoalsssnnym epoch: 3\n",
      "0/48690 sample name: DaD epoch: 4\n",
      "10000/48690 sample name: WiotlLtoalu ounollkaftn epoch: 4\n",
      "20000/48690 sample name: Bra epoch: 4\n",
      "30000/48690 sample name: LaGu epoch: 4\n",
      "40000/48690 sample name: Doe epoch: 4\n"
     ]
    },
    {
     "data": {
      "text/plain": [
       "NameGenerator(\n",
       "  (input_lookup): Embedding(77, 20)\n",
       "  (lstm): LSTM(20, 20, num_layers=2, batch_first=True)\n",
       "  (output): Linear(in_features=20, out_features=77, bias=True)\n",
       "  (softmax): LogSoftmax()\n",
       ")"
      ]
     },
     "execution_count": 178,
     "metadata": {},
     "output_type": "execute_result"
    }
   ],
   "source": [
    "lm.train(model, epochs=5, training_data=corpus, c2i=c2i, i2c=i2c)"
   ]
  },
  {
   "cell_type": "code",
   "execution_count": 185,
   "metadata": {},
   "outputs": [
    {
     "name": "stdout",
     "output_type": "stream",
     "text": [
      "Oeehac\n",
      "Hoaaregge\n",
      "Snhernon\n",
      "Bo\n",
      "Hle'hrHgrae\n"
     ]
    }
   ],
   "source": [
    "for i in range(5):\n",
    "    print(lm.sample(model, c2i, i2c))"
   ]
  },
  {
   "cell_type": "code",
   "execution_count": null,
   "metadata": {},
   "outputs": [],
   "source": []
  }
 ],
 "metadata": {
  "kernelspec": {
   "display_name": "Python 3",
   "language": "python",
   "name": "python3"
  },
  "language_info": {
   "codemirror_mode": {
    "name": "ipython",
    "version": 3
   },
   "file_extension": ".py",
   "mimetype": "text/x-python",
   "name": "python",
   "nbconvert_exporter": "python",
   "pygments_lexer": "ipython3",
   "version": "3.6.4"
  }
 },
 "nbformat": 4,
 "nbformat_minor": 2
}
