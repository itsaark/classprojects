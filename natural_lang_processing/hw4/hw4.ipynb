{
 "cells": [
  {
   "cell_type": "markdown",
   "metadata": {},
   "source": [
    "# Homework 4: Sentence Segmentation\n",
    "\n",
    "Sentence segmentation is a crucial, yet under-appreciated, part of any text processing pipeline. In any real-world setting, text will not come to you pre-chunked into sentences, and if your pipeline involves any sentence-level analysis (parsing, translation, entity & co-reference extraction, etc.) the first thing you'll need to do will be split things up into sentences. This is a deceptively challenging problem, as punctuation can be used in multiple ways. Consider the following sentence (borrowed from Kyle Gorman's [excellent discussion of the subject](http://www.wellformedness.com/blog/simpler-sentence-boundary-detection/)): \n",
    "\n",
    "> _\"Rolls-Royce Motor Cars Inc. said it expects its U.S. sales to remain steady at about 1,200 cars in 1990.\"_ \n",
    "\n",
    "This sentence features several periods, but only one of them (the last one) represents a valid sentence break. Sentences can also have embedded clauses or quotation marks, some of which may superficially look like a sentence boundary: \n",
    "\n",
    "> _He says the big questions–“Do you really need this much money to put up these investments? Have you told investors what is happening in your sector? What about your track record?–“aren’t asked of companies coming to market._\n",
    "\n",
    "There are many ways to approach this particular problem; it can be approached using rules, which themselves may be encoded as regular expressions, or (more usefully) it can be modeled as a machine learning problem. Specifically, as a binary classification problem, where candidate sentence boundaries (i.e., punctuation marks from the closed class of English punctuation that can represent a sentence boundary) are either _positive_ examples (actual sentence boundaries) or _false_ (not sentence boundaries). \n",
    "\n",
    "In this assignment, you will develop and test your own sentence boundary detection algorithm. This assignment is shorter than our previous assignments, and is also much more open-ended. By this point in the class, you have been exposed to several different families of technique for text classification and analysis, and have hopefully begun to build up some intuitions. For this assignment, you can choose whatever methods you like: log-linear models, rule-based methods, some sort of neural network, it's up to you!"
   ]
  },
  {
   "cell_type": "markdown",
   "metadata": {},
   "source": [
    "## 0. Setup & data exploration"
   ]
  },
  {
   "cell_type": "code",
   "execution_count": 167,
   "metadata": {},
   "outputs": [],
   "source": [
    "from importlib import reload\n",
    "from sklearn.metrics import classification_report, accuracy_score"
   ]
  },
  {
   "cell_type": "code",
   "execution_count": 168,
   "metadata": {},
   "outputs": [],
   "source": [
    "from hw4_utils import data\n",
    "from hw4_utils import classifier"
   ]
  },
  {
   "cell_type": "markdown",
   "metadata": {},
   "source": [
    "We've provided a version of the WSJ section of the Penn Treebank to use for training and evaluation purposes. See `data/wsj_sbd/README.md` for a description of where this data came from and how it was assembled.\n",
    "\n",
    "The `hw4_utils.data` module has a useful method for reading in data (`file_as_string`) and another utility function to extract candidate boundaries. Let's use these to explore our data a little bit."
   ]
  },
  {
   "cell_type": "code",
   "execution_count": 169,
   "metadata": {},
   "outputs": [],
   "source": [
    "dev = data.file_as_string(\"data/wsj_sbd/dev.txt\")\n",
    "train = data.file_as_string(\"data/wsj_sbd/train.txt\")\n",
    "test = data.file_as_string(\"data/wsj_sbd/test.txt\")"
   ]
  },
  {
   "cell_type": "code",
   "execution_count": 170,
   "metadata": {},
   "outputs": [
    {
     "data": {
      "text/plain": [
       "'Pierre Vinken, 61 years old, will join the board as a nonexecutive director Nov. 29.\\nMr. Vinken is chairm'"
      ]
     },
     "execution_count": 170,
     "metadata": {},
     "output_type": "execute_result"
    }
   ],
   "source": [
    "dev[:105]"
   ]
  },
  {
   "cell_type": "markdown",
   "metadata": {},
   "source": [
    "Each of these is a string containing the text, with one input sentence per line. Note that newline characters are still present, which will be important as this will provide us with our ground truth.\n",
    "\n",
    "Remember, we _only_ will use the `test` split for our final evaluation. For data exploration, feature engineering, and for tuning hyperparameters, use the `dev` split.\n",
    "\n",
    "The first and most important thing to find out when doing classification is what your class probabilities are, so let's look into that. The `load_candidates()` function in the `hw4_utils.data` module will read an input data split, identify candidate boundaries, and extract information about the candidates context that we may want to use for feature engineering. One of the attributes it will extract is whether or not the candidate is actually a true sentence break (`is_true_break`). Obviously, this would only be useful at training time, as in the \"real world\" we wouldn't know the answer. :-)\n",
    "\n",
    "We will use `load_candidates()` to answer our question about class balance:"
   ]
  },
  {
   "cell_type": "code",
   "execution_count": 171,
   "metadata": {},
   "outputs": [
    {
     "data": {
      "text/plain": [
       "Counter({False: 1766, True: 5769})"
      ]
     },
     "execution_count": 171,
     "metadata": {},
     "output_type": "execute_result"
    }
   ],
   "source": [
    "from collections import Counter\n",
    "\n",
    "Counter([c.is_true_break for c in data.load_candidates(dev)])"
   ]
  },
  {
   "cell_type": "markdown",
   "metadata": {},
   "source": [
    "As is often the case, our classes are quite imbalanced! Let's load in our ground truth labels:"
   ]
  },
  {
   "cell_type": "code",
   "execution_count": 172,
   "metadata": {},
   "outputs": [],
   "source": [
    "y_dev = [o.is_true_break for o in data.load_candidates(dev)]"
   ]
  },
  {
   "cell_type": "markdown",
   "metadata": {},
   "source": [
    "What else can we find out about our candidate breaks?"
   ]
  },
  {
   "cell_type": "code",
   "execution_count": 173,
   "metadata": {},
   "outputs": [
    {
     "name": "stdout",
     "output_type": "stream",
     "text": [
      "[Observation(left_token='Nov', left_raw='d as a nonexecutive director Nov', punctuation_mark='.', right_token='29', right_raw='29. Mr. Vinken is chairman of El', is_true_break=False, end_offset=81, orig_obs='d as a nonexecutive director Nov. 29. Mr. Vinken is chairman of El')]\n"
     ]
    }
   ],
   "source": [
    "candidates = list(data.load_candidates(dev[:10000])) # for now, just get candidates from the first 10k characters\n",
    "first_can = candidates[6]\n",
    "print(candidates[:1])"
   ]
  },
  {
   "cell_type": "code",
   "execution_count": 174,
   "metadata": {},
   "outputs": [
    {
     "name": "stdout",
     "output_type": "stream",
     "text": [
      "original context:   decades later, researchers said. Lorillard Inc., the unit of New \n",
      "punctuation mark:  .\n",
      "token to the left:  said\n",
      "token to the right:  Lorillard\n",
      "token to the right:  678\n"
     ]
    }
   ],
   "source": [
    "print(\"original context: \",first_can.orig_obs)\n",
    "print(\"punctuation mark: \", first_can.punctuation_mark)\n",
    "print(\"token to the left: \", first_can.left_token)\n",
    "print(\"token to the right: \", first_can.right_token)\n",
    "print(\"token to the right: \", first_can.end_offset)"
   ]
  },
  {
   "cell_type": "markdown",
   "metadata": {},
   "source": [
    "Take a look at the the `Observation` namedtuple in `hw4_utils.data` for more details about the various attributes that you can find out about each possible sentence boundary."
   ]
  },
  {
   "cell_type": "markdown",
   "metadata": {},
   "source": [
    "## 1. Baselines\n",
    "\n",
    "We will begin by looking at three different baselines. First, we will "
   ]
  },
  {
   "cell_type": "markdown",
   "metadata": {},
   "source": [
    "### Baseline #1: Majority class\n",
    "\n",
    "Since our data are quite imbalanced, what if we always treat every candidate boundary as though it was a true boundary?"
   ]
  },
  {
   "cell_type": "code",
   "execution_count": 175,
   "metadata": {},
   "outputs": [
    {
     "name": "stdout",
     "output_type": "stream",
     "text": [
      "             precision    recall  f1-score   support\n",
      "\n",
      "      False       0.00      0.00      0.00      1766\n",
      "       True       0.77      1.00      0.87      5769\n",
      "\n",
      "avg / total       0.59      0.77      0.66      7535\n",
      "\n"
     ]
    },
    {
     "name": "stderr",
     "output_type": "stream",
     "text": [
      "/anaconda3/lib/python3.6/site-packages/sklearn/metrics/classification.py:1135: UndefinedMetricWarning: Precision and F-score are ill-defined and being set to 0.0 in labels with no predicted samples.\n",
      "  'precision', 'predicted', average, warn_for)\n"
     ]
    }
   ],
   "source": [
    "y_hat_baseline = [classifier.baseline_classifier(o) for o in data.load_candidates(data.file_as_string(\"data/wsj_sbd/dev.txt\"))]\n",
    "print(classification_report(y_dev, y_hat_baseline))"
   ]
  },
  {
   "cell_type": "markdown",
   "metadata": {},
   "source": [
    "### Baseline #2: Next-token capitalization\n",
    "\n",
    "What if we say that a candidate is a boundary if the following token is capitalized?"
   ]
  },
  {
   "cell_type": "code",
   "execution_count": 176,
   "metadata": {},
   "outputs": [
    {
     "name": "stdout",
     "output_type": "stream",
     "text": [
      "             precision    recall  f1-score   support\n",
      "\n",
      "      False       0.60      0.40      0.48      1766\n",
      "       True       0.83      0.92      0.87      5769\n",
      "\n",
      "avg / total       0.78      0.80      0.78      7535\n",
      "\n"
     ]
    }
   ],
   "source": [
    "y_hat_next_tok_cap = [classifier.next_tok_capitalized_baseline(o) for o in data.load_candidates(data.file_as_string(\"data/wsj_sbd/dev.txt\"))]\n",
    "print(classification_report(y_dev, y_hat_next_tok_cap))"
   ]
  },
  {
   "cell_type": "markdown",
   "metadata": {},
   "source": [
    "### Baseline #3: Punkt\n",
    "\n",
    "Using the [NLTK implementation](http://www.nltk.org/_modules/nltk/tokenize/punkt.html) of [Punkt (Kiss & Strunk, 2006)](https://www.mitpressjournals.org/doi/pdf/10.1162/coli.2006.32.4.485):\n",
    "\n",
    "(Note: You'll need to have downloaded the NLTK pre-trained Punkt model for this baseline to work)"
   ]
  },
  {
   "cell_type": "code",
   "execution_count": 177,
   "metadata": {},
   "outputs": [
    {
     "name": "stdout",
     "output_type": "stream",
     "text": [
      "             precision    recall  f1-score   support\n",
      "\n",
      "      False       0.92      0.43      0.59      1766\n",
      "       True       0.85      0.99      0.91      5769\n",
      "\n",
      "avg / total       0.87      0.86      0.84      7535\n",
      "\n"
     ]
    }
   ],
   "source": [
    "y_hat_punkt = [classifier.punkt_baseline(o) for o in data.load_candidates(data.file_as_string(\"data/wsj_sbd/dev.txt\"))]\n",
    "print(classification_report(y_dev, y_hat_punkt))"
   ]
  },
  {
   "cell_type": "markdown",
   "metadata": {},
   "source": [
    "### Conclusion\n",
    "\n",
    "None of these are especially inspiring in their performance... can you do better?"
   ]
  },
  {
   "cell_type": "markdown",
   "metadata": {},
   "source": [
    "## 2. Your turn!\n",
    "\n",
    "### Part 1: Now it's your turn.\n",
    "\n",
    "Your mission, in this assignment, is to implement at least two additional approaches. The approaches must be different in terms of the features you choose to use, classification approach, or both, but beyond that limitation you are free to do whatever you like as long as it is your own work (i.e., do not download and use an already-existing sentence boundary detector tool). You may, however, replicate an existing algorithm, though please be very careful not about re-using other people's code. \n",
    "\n",
    "For a discussion of features that may prove useful, and of other approaches to this task that you may wish to replicate or build off of, consult the bibliography discussed in [Gorman (2014)](http://www.wellformedness.com/blog/simpler-sentence-boundary-detection/); note that the specific sentence boundary detector described on that page uses a small set of highly useful features, but you will want to go beyond simply replicating his system.\n",
    "\n",
    "***Deliverable***: The code for your ≥ two additional classifiers, along with a brief writeup (≈1 page) of what you built and why you chose those specific approaches and features. \n",
    "\n",
    "### Part 2: Evaluation & Error analysis\n",
    "\n",
    "After building and describing your additional classifiers, evaluate their performance against the `test` partition of the data as shown above. Write a brief summary of their relative performance, and include an _error analysis_. Examine cases where your classifiers failed to predict correctly, or disagreed with one another, and see if you can identify any patterns that might explain where they were going awry.\n",
    "\n",
    "***Deliverable***: Your written summary, as well as any relevant data tables."
   ]
  },
  {
   "cell_type": "code",
   "execution_count": 216,
   "metadata": {},
   "outputs": [],
   "source": [
    "import pandas as pd\n",
    "import numpy as np\n",
    "import sklearn\n",
    "import matplotlib\n",
    "import matplotlib.pyplot as plt\n",
    "from sklearn.model_selection import train_test_split\n",
    "from sklearn.metrics import recall_score, roc_curve, auc, precision_score\n",
    "from sklearn.svm import LinearSVC\n",
    "from sklearn.naive_bayes import GaussianNB\n",
    "from sklearn import preprocessing, svm\n",
    "import nltk\n",
    "%matplotlib inline"
   ]
  },
  {
   "cell_type": "code",
   "execution_count": 262,
   "metadata": {},
   "outputs": [
    {
     "data": {
      "text/html": [
       "<div>\n",
       "<style scoped>\n",
       "    .dataframe tbody tr th:only-of-type {\n",
       "        vertical-align: middle;\n",
       "    }\n",
       "\n",
       "    .dataframe tbody tr th {\n",
       "        vertical-align: top;\n",
       "    }\n",
       "\n",
       "    .dataframe thead th {\n",
       "        text-align: right;\n",
       "    }\n",
       "</style>\n",
       "<table border=\"1\" class=\"dataframe\">\n",
       "  <thead>\n",
       "    <tr style=\"text-align: right;\">\n",
       "      <th></th>\n",
       "      <th>LOL</th>\n",
       "      <th>IRU</th>\n",
       "      <th>LP</th>\n",
       "      <th>POL</th>\n",
       "      <th>POR</th>\n",
       "    </tr>\n",
       "  </thead>\n",
       "  <tbody>\n",
       "    <tr>\n",
       "      <th>0</th>\n",
       "      <td>9</td>\n",
       "      <td>True</td>\n",
       "      <td>False</td>\n",
       "      <td>NN</td>\n",
       "      <td>NNP</td>\n",
       "    </tr>\n",
       "    <tr>\n",
       "      <th>1</th>\n",
       "      <td>4</td>\n",
       "      <td>True</td>\n",
       "      <td>False</td>\n",
       "      <td>NN</td>\n",
       "      <td>DT</td>\n",
       "    </tr>\n",
       "    <tr>\n",
       "      <th>2</th>\n",
       "      <td>5</td>\n",
       "      <td>True</td>\n",
       "      <td>False</td>\n",
       "      <td>NN</td>\n",
       "      <td>DT</td>\n",
       "    </tr>\n",
       "    <tr>\n",
       "      <th>3</th>\n",
       "      <td>8</td>\n",
       "      <td>True</td>\n",
       "      <td>False</td>\n",
       "      <td>NN</td>\n",
       "      <td>DT</td>\n",
       "    </tr>\n",
       "    <tr>\n",
       "      <th>4</th>\n",
       "      <td>4</td>\n",
       "      <td>True</td>\n",
       "      <td>False</td>\n",
       "      <td>NN</td>\n",
       "      <td>CC</td>\n",
       "    </tr>\n",
       "  </tbody>\n",
       "</table>\n",
       "</div>"
      ],
      "text/plain": [
       "   LOL   IRU     LP POL  POR\n",
       "0    9  True  False  NN  NNP\n",
       "1    4  True  False  NN   DT\n",
       "2    5  True  False  NN   DT\n",
       "3    8  True  False  NN   DT\n",
       "4    4  True  False  NN   CC"
      ]
     },
     "execution_count": 262,
     "metadata": {},
     "output_type": "execute_result"
    }
   ],
   "source": [
    "#Features: length of L(LOL),is R uppercase, L contains period(LP), POS of L(POL), POS of R(POR)\n",
    "from hw4_utils import data\n",
    "from hw4_utils import classifier\n",
    "\n",
    "y_train = [o.is_true_break for o in data.load_candidates(train)]\n",
    "X_train = list(data.load_candidates(train))\n",
    "\n",
    "X_dev = list(data.load_candidates(dev))\n",
    "\n",
    "X_test = list(data.load_candidates(test))\n",
    "\n",
    "data = []\n",
    "\n",
    "def is_first_up(word):\n",
    "    if word.isalpha():\n",
    "        return word[0].isupper()\n",
    "    return False\n",
    "\n",
    "def cont_period(word):\n",
    "    if \".\" in word:\n",
    "        return True\n",
    "    return False\n",
    "\n",
    "def is_ellipse(word):\n",
    "    count = 0\n",
    "    for c in word:\n",
    "        if c == \".\":\n",
    "            count += 1\n",
    "        else:\n",
    "            if count >= 1:\n",
    "                return bool(count)\n",
    "            else:\n",
    "                count = 0\n",
    "    return bool(count)\n",
    "train_set_tags = Counter()\n",
    "\n",
    "for o in X_train:\n",
    "    example = []\n",
    "    example.append(len(o.left_token))\n",
    "    example.append(is_first_up(o.right_token))\n",
    "    example.append(cont_period(o.left_token))\n",
    "    example.append(nltk.pos_tag([o.left_token])[0][1])\n",
    "    example.append(nltk.pos_tag([o.right_token])[0][1])\n",
    "    data.append(example)\n",
    "    \n",
    "for o in X_dev:\n",
    "    example = []\n",
    "    example.append(len(o.left_token))\n",
    "    example.append(is_first_up(o.right_token))\n",
    "    example.append(cont_period(o.left_token))\n",
    "    example.append(nltk.pos_tag([o.left_token])[0][1])\n",
    "    example.append(nltk.pos_tag([o.right_token])[0][1])\n",
    "    data.append(example)\n",
    "    \n",
    "for o in X_test:\n",
    "    example = []\n",
    "    example.append(len(o.left_token))\n",
    "    example.append(is_first_up(o.right_token))\n",
    "    example.append(cont_period(o.left_token))\n",
    "    example.append(nltk.pos_tag([o.left_token])[0][1])\n",
    "    example.append(nltk.pos_tag([o.right_token])[0][1])\n",
    "    data.append(example)\n",
    "\n",
    "    \n",
    "df = pd.DataFrame(data,columns=['LOL','IRU','LP','POL','POR'])\n",
    "df.head()\n",
    "\n",
    "#print(train_set_tags)"
   ]
  },
  {
   "cell_type": "code",
   "execution_count": 263,
   "metadata": {},
   "outputs": [],
   "source": [
    "labelencoder = preprocessing.LabelEncoder()\n",
    "df.iloc[:,1] = labelencoder.fit_transform(df.iloc[:,1])\n",
    "df.iloc[:,2] = labelencoder.fit_transform(df.iloc[:,2])\n",
    "df.iloc[:,3] = labelencoder.fit_transform(df.iloc[:,3])\n",
    "df.iloc[:,4] = labelencoder.fit_transform(df.iloc[:,4])\n",
    "\n",
    "onehotencoder = preprocessing.OneHotEncoder(categorical_features = [1,2,3,4])\n",
    "data = onehotencoder.fit_transform(df).toarray()"
   ]
  },
  {
   "cell_type": "code",
   "execution_count": 264,
   "metadata": {},
   "outputs": [],
   "source": [
    "X_train = data[:len(y_train),:]\n",
    "X_dev = data[len(y_train):len(y_train)+len(y_dev),:]"
   ]
  },
  {
   "cell_type": "code",
   "execution_count": 265,
   "metadata": {},
   "outputs": [
    {
     "name": "stdout",
     "output_type": "stream",
     "text": [
      "             precision    recall  f1-score   support\n",
      "\n",
      "      False       0.93      0.95      0.94      1766\n",
      "       True       0.99      0.98      0.98      5769\n",
      "\n",
      "avg / total       0.97      0.97      0.97      7535\n",
      "\n"
     ]
    }
   ],
   "source": [
    "X_train_scaled = preprocessing.scale(X_train)\n",
    "scaler = preprocessing.StandardScaler().fit(X_train)\n",
    "X_dev_scaled = scaler.transform(X_dev)\n",
    "\n",
    "clf = LinearSVC()\n",
    "clf.fit(X_train_scaled, y_train)\n",
    "y_svm = clf.predict(X_dev_scaled)\n",
    "print(classification_report(y_dev, y_svm))"
   ]
  },
  {
   "cell_type": "markdown",
   "metadata": {},
   "source": [
    "#### Error analysis"
   ]
  },
  {
   "cell_type": "code",
   "execution_count": 266,
   "metadata": {},
   "outputs": [
    {
     "name": "stdout",
     "output_type": "stream",
     "text": [
      "xample, rose to 8.04% from 7.90%. Despite recent declines in yield has been classified as  False and should be  True\n",
      " currently yielding well over 9%. Dreyfus World-Wide Dollar, the t has been classified as  False and should be  True\n",
      "d to an average 8.53% from 8.56%. J.P. Bolduc, vice chairman of W. has been classified as  False and should be  True\n",
      "s Operations to Finmeccanica S.p. A. for $295 million. Finmeccanic has been classified as  True and should be  False\n",
      "s were at $50.38 billion, up 19%. Newsweek, trying to keep pace wi has been classified as  False and should be  True\n",
      "of 4,393,237, a decrease of 7.3%. Newsweek's circulation for the f has been classified as  False and should be  True\n",
      "t from the same period last year. U.S. News' circulation in the sa has been classified as  False and should be  True\n",
      "me time was 2,303,328, down 2.6%. New England Electric System bowe has been classified as  False and should be  True\n",
      "nterest rate on the refund at 9%. Commonwealth Edison now faces an has been classified as  False and should be  True\n",
      "previous month, inched down 0.4%. Sales of passenger cars grew 22% has been classified as  False and should be  True\n",
      "be paid $240,000. Besides Messrs. Cray and Barnum, other senior ma has been classified as  True and should be  False\n",
      "ual property by next spring. Mrs. Hills said many of the 25 countr has been classified as  True and should be  False\n",
      "g their best products there. Mrs. Hills lauded South Korea for cre has been classified as  True and should be  False\n",
      "s well as to literary works, Mrs. Hills said. These three countrie has been classified as  True and should be  False\n",
      "fforts to craft a new patent law. Mrs. Hills said that the U.S. is has been classified as  False and should be  True\n",
      "s to craft a new patent law. Mrs. Hills said that the U.S. is stil has been classified as  True and should be  False\n",
      " The 1988 trade act requires Mrs. Hills to issue another review of has been classified as  True and should be  False\n",
      "untries by April 30. So far, Mrs. Hills hasn't deemed any cases ba has been classified as  True and should be  False\n",
      "special 301 provision of the act. Argentina said it will ask credi has been classified as  False and should be  True\n",
      "om new fields free of excise tax. R.P. Scherer Corp. said it compl has been classified as  False and should be  True\n",
      " other investors outside the U.S..\" Such devices have boosted Japane has been classified as  False and should be  True\n",
      " 18% and the Spain Fund fell 16%. And most country funds were clob has been classified as  False and should be  True\n",
      "viet bonds to be sold in the U.S.. However, after two meetings with has been classified as  False and should be  True\n",
      "ry orders would have fallen 2.1%. In a separate report, the depart has been classified as  False and should be  True\n",
      "ing forward to pick up the slack?\" he asked. \"I draw a blank.\" By m has been classified as  True and should be  False\n",
      "e orders, backlogs declined 0.3%. In its construction spending rep has been classified as  False and should be  True\n",
      "t one-third in Japan and the U.S.. More than three in five said the has been classified as  False and should be  True\n",
      "s to die the way he wants to die. Video Tip: Before seeing \"Sidewa has been classified as  False and should be  True\n",
      " candidates. \"Who's really lying?\" asks a female voice. \"Florio's l has been classified as  True and should be  False\n",
      "y don't take it seriously at all.\" Paul Sandifer, director of testi has been classified as  False and should be  True\n",
      "\"Do I have much sympathy for her?\" Mr. Watson asks. \"Not really. I  has been classified as  True and should be  False\n",
      " they are common classroom tools. Macmillan/McGraw says \"well over has been classified as  False and should be  True\n",
      "f Scoring High, says that Messrs. Kaminski and Mehrens are ignorin has been classified as  True and should be  False\n",
      "as a publication of Random House. McGraw-Hill was outraged. In a 1 has been classified as  False and should be  True\n",
      "part of Macmillan/McGraw. Messrs. Brownell and Kean say they are u has been classified as  True and should be  False\n",
      ", its ADRs have jumped about 78%. After troubled Heritage Media pr has been classified as  False and should be  True\n",
      " have increased their pay by 50%. Judge Ramirez, 44, said it is un has been classified as  False and should be  True\n",
      "ional ballplayers or accountants... and nobody blinks an eye. When y has been classified as  True and should be  False\n",
      "media firm run by former CBS Inc. President John Backe. Price Comm has been classified as  True and should be  False\n",
      "ual yield. Guaranteed minimum 6%. LSI Logic Corp. reported a surpr has been classified as  False and should be  True\n",
      "sday's Tokyo close of 143.08 yen. Douglas Madison, a corporate tra has been classified as  False and should be  True\n",
      "go, according to A.C. Nielsen Co. Mr. Gillespie at Viacom says the has been classified as  False and should be  True\n",
      "because they once took out an ad. Ad Notes.... Interpublic Group s has been classified as  False and should be  True\n",
      " of which it recently bought 49%. It said that volume makes it the has been classified as  False and should be  True\n",
      "ed, \"Is that wholesale or retail?\" he re-thought the matter. Offeri has been classified as  True and should be  False\n",
      "ink it's well below a 50% chance. Integra-A Hotel & Restaurant Co. has been classified as  False and should be  True\n",
      "ch in turn owns two-thirds of NL. NL is officially making the offe has been classified as  False and should be  True\n",
      "unfettered investment in the U.S.. Where they disagree is on the su has been classified as  False and should be  True\n",
      "ent in Free State is \"very small... less than $4 million,\" Mr. Wakui has been classified as  True and should be  False\n",
      "return on investment of 1% to 2%.\" Mr. Klauser says Mitsui has 75 U has been classified as  False and should be  True\n",
      "and accessories for computers. 1. Buy a new Chevrolet. 2. Take a H has been classified as  True and should be  False\n",
      "uters. 1. Buy a new Chevrolet. 2. Take a Hawaiian vacation. 3. Sen has been classified as  True and should be  False\n",
      ". 2. Take a Hawaiian vacation. 3. Send your child to a university. has been classified as  True and should be  False\n",
      "nd your child to a university. 4. Buy a diamond necklace. 5. Make  has been classified as  True and should be  False\n",
      "ty. 4. Buy a diamond necklace. 5. Make a lasting difference in the has been classified as  True and should be  False\n",
      "mal close of trading at 3:15 p.m. With the limit in effect, member has been classified as  False and should be  True\n",
      "ld \"reopen the wound.\" But C.J.B. Marshall, vicar of a nearby chur has been classified as  True and should be  False\n",
      "sing their payouts more than 10%. But don't breathe too easy: Thos has been classified as  False and should be  True\n",
      "are generally between 9% and 14%. Many people believe the growth i has been classified as  False and should be  True\n",
      " recently afflicted the Sino-U.S. relationship. Mr. Nixon, the mos has been classified as  True and should be  False\n",
      "oney worship' among young people... caused the problem.\" He is just  has been classified as  True and should be  False\n",
      " had no listing for either party. J.L. Henry & Co., Miami, and a p has been classified as  False and should be  True\n",
      "a principal of the firm, Henry I. Otero of Miami, were jointly fin has been classified as  True and should be  False\n",
      "association with any NASD member. J.L. Henry hasn't any Miami tele has been classified as  False and should be  True\n",
      "Oct. 13 stock plunge in New York. U.S. stock-index futures aren't  has been classified as  False and should be  True\n",
      "ares with estimates that the U.S. \"derivatives\" market is perhaps  has been classified as  True and should be  False\n",
      "The formula has paid off, so far. Georgia-Pacific's sales climbed  has been classified as  False and should be  True\n",
      " sidewalk and the road. Tray Bon? PORTING POTABLES just got easier has been classified as  False and should be  True\n",
      "hen all you need is one good one?' '' he says. \"They got us thinkin has been classified as  True and should be  False\n",
      "s prison cell shortage, says \"no.\" Grain elevators built in the 192 has been classified as  False and should be  True\n",
      "research. A study by Tulane Prof. James Wright says homelessness i has been classified as  True and should be  False\n",
      "ohnson Foundation Princeton, N.J. To quote the highly regarded dir has been classified as  False and should be  True\n",
      "y. Ruth K. Nelson Cullowhee, N.C. ROGERS COMMUNICATIONS Inc. said  has been classified as  False and should be  True\n",
      "ill probably be set at around 8%. He declined to discuss other ter has been classified as  False and should be  True\n",
      "med at preventing Texas Air Corp. Chairman Frank Lorenzo from atte has been classified as  True and should be  False\n",
      "andizes its own people every day. Government press releases, speec has been classified as  False and should be  True\n",
      "only\" -- eliminated from the law. Section 501 of the United States has been classified as  False and should be  True\n",
      "s not a trivial issue. \"You have... raised important questions which has been classified as  True and should be  False\n",
      "t the answers to these questions?\" a man wrote me a couple of years has been classified as  True and should be  False\n",
      "l Street reacted favorably to Mr. McGovern's departure and its imp has been classified as  True and should be  False\n",
      "Prudential-Bache in New York. Mr. McGovern was widely seen as sale has been classified as  True and should be  False\n",
      "mpany's next chief executive. Mr. McGovern, 63, had been under int has been classified as  True and should be  False\n",
      "ient. Campbell officials said Mr. McGovern wasn't available yester has been classified as  True and should be  False\n",
      "ting last week in London said Mr. McGovern was fired. Mr. McGovern has been classified as  True and should be  False\n",
      " said Mr. McGovern was fired. Mr. McGovern himself had said repeat has been classified as  True and should be  False\n",
      "s I get fired.\" Campbell said Mr. McGovern had withdrawn his name  has been classified as  True and should be  False\n",
      "for Nov. 17. For fiscal 1989, Mr. McGovern received a salary of $8 has been classified as  True and should be  False\n",
      "other fringe benefits. During Mr. McGovern's nine-year term as pre has been classified as  True and should be  False\n"
     ]
    },
    {
     "name": "stdout",
     "output_type": "stream",
     "text": [
      "re. Source: Fulton Prebon (U.S.A.) Inc. DISCOUNT RATE: 7%. The char has been classified as  True and should be  False\n",
      "ents for delivery within 30 days. 9.82%, standard conventional fix has been classified as  False and should be  True\n",
      " LYNCH READY ASSETS TRUST: 8.64%. Annualized average rate of retur has been classified as  False and should be  True\n",
      "etimes you just go with your gut.\" Mr. Bernstein said he will stay  has been classified as  False and should be  True\n",
      "tments as provided by Article II. Article II places on the preside has been classified as  False and should be  True\n",
      "ss appointments under Article II. Section 605 also imposes unconst has been classified as  False and should be  True\n",
      " 1, Buick sales have plunged 33%. For American Express, the promot has been classified as  False and should be  True\n",
      "ew card holders realize this, Mr. Riese says. Until now, however,  has been classified as  True and should be  False\n",
      "sn't carry any finance rates. Mr. Riese says American Express cons has been classified as  True and should be  False\n",
      "sing the North Dakota income tax. Ballot watchers say attention al has been classified as  False and should be  True\n",
      "alth Care Corp., Piscataway, N.J. In Syracuse, N.Y., DyDee Service has been classified as  False and should be  True\n",
      "multi-crystal samples. William C. Walbrecher Jr., an executive at  has been classified as  True and should be  False\n",
      "priced at 99 1/4 to yield 7.272%. Serial bonds are priced to yield has been classified as  False and should be  True\n",
      "are priced at 99 to yield 7.458%. Serial bonds are priced at par t has been classified as  False and should be  True\n",
      "self, and rejected it 59% to 41%. In San Francisco, its backers co has been classified as  False and should be  True\n",
      "top-selling nameplate in the U.S.. Under the so-called Team Taurus  has been classified as  False and should be  True\n",
      "awyers take a big cut either way. DES daughters and other victims  has been classified as  False and should be  True\n",
      "partment stores as Lord & Taylor. N.V. DSM said net income in the  has been classified as  False and should be  True\n",
      "tions of an imminent bid by Ford. B.A.T Industries, which is being has been classified as  False and should be  True\n",
      ", 7.3% said they would buy a car. Home purchase plans increased to has been classified as  False and should be  True\n",
      "in the unemployment rate to 5.4%. In a surprise announcement, the  has been classified as  False and should be  True\n",
      "showed a negative return of 1.5%. Moody's said those returns compa has been classified as  False and should be  True\n",
      "raise the coupon to more than 7%. It is generally expected to be t has been classified as  False and should be  True\n",
      "changed at 95.09 to yield 5.435%. -- In Britain, the benchmark 11  has been classified as  False and should be  True\n",
      " 9/32 to 103 3/8 to yield 11.10%. Standard & Poor's Corp. lowered  has been classified as  False and should be  True\n",
      " a unit of France's Michelin S.A. Michelin officials couldn't imme has been classified as  False and should be  True\n",
      "w headquarters in Charlotte, N.C. Mr. Russell, who co-founded the  has been classified as  False and should be  True\n",
      "ional 150 points on the same day. DOT System -- The \"Designated Or has been classified as  False and should be  True\n",
      "ve a failed labor-management bid. Mr. Steinberg, he suggested, cou has been classified as  False and should be  True\n",
      "ing oil helped push up crude oil. West Texas Intermediate crude fo has been classified as  False and should be  True\n",
      "ake in Younkers to less than 50%. Tony Lama Co. said that Equus In has been classified as  False and should be  True\n",
      "y could become a takeover target. Prudential-Bache Securities boos has been classified as  False and should be  True\n",
      "4, has a stake of just under 10%. Great Northern Nekoosa, which su has been classified as  False and should be  True\n",
      "r rose about 41% from a year ago. Freeport-McMoRan Inc. said it wi has been classified as  False and should be  True\n",
      "res of a yet-to-be-formed entity. Freeport-McMoRan Energy Partners has been classified as  False and should be  True\n",
      "buy the shares of POP Radio Corp. it doesn't already own in a stoc has been classified as  True and should be  False\n",
      " already is derived from the U.S.. Carnival Cruise Lines Inc. said  has been classified as  False and should be  True\n",
      "iled to ease strains in Sino-U.S. ties caused by China's crackdown has been classified as  True and should be  False\n",
      "o the former president about U.S. \"interference\" in China's domest has been classified as  True and should be  False\n",
      "lion yen from 263.07 billion yen. Net income surged 31% to 7.63 bi has been classified as  False and should be  True\n",
      "illion yen from 5.82 billion yen. Per-share net rose to 7.84 yen f has been classified as  False and should be  True\n",
      "t rose to 7.84 yen from 6.53 yen. Brisk domestic demand due to inc has been classified as  False and should be  True\n",
      "lion yen from 126.15 billion yen. Demand from Europe and Southeast has been classified as  False and should be  True\n",
      ", overseas sales edged down 2.8%. Komatsu predicted that for the f has been classified as  False and should be  True\n",
      "ting preclinical studies with it. Interleukin-3 may help in treati has been classified as  False and should be  True\n",
      "ood fit with its own Lurgi G.m.b. H. plant engineering unit, the c has been classified as  True and should be  False\n",
      "s retirement benefits 10% to 20%. In addition, Upjohn is offering  has been classified as  False and should be  True\n",
      " equal to six months of base pay. Chairman Theodore Cooper called  has been classified as  False and should be  True\n",
      "rookery the first day on the job. Wedtech's scammers simply bribed has been classified as  False and should be  True\n",
      "aised by the Wedtech scandal. Mr. Stern was chairman and chief exe has been classified as  True and should be  False\n",
      "ld also show a reading above 50%. NCR Corp. unveiled two models of has been classified as  False and should be  True\n",
      "Inc., whose profit plummeted 70%. In New York Stock Exchange compo has been classified as  False and should be  True\n",
      "er than some other steelmakers' . Charles Bradford, an analyst wit has been classified as  False and should be  True\n",
      " year sold 1,214 cars in the U.S. Howard Mosher, president and chi has been classified as  False and should be  True\n",
      "5. A record date hasn't been set. Bell, based in Los Angeles, make has been classified as  False and should be  True\n",
      "cotton seed producers in the U.S.. On a commercial scale, the steri has been classified as  False and should be  True\n",
      "rance in Texas to try out for Mr. Weaver's team. \"It doesn't repla has been classified as  True and should be  False\n",
      "ky\" stuff from pitchers, says Mr. Weaver, the manager. Expect brus has been classified as  True and should be  False\n",
      " in Aiken, S.C., and Augusta, Ga. Alltel, which provides local tel has been classified as  False and should be  True\n",
      "re. Source: Fulton Prebon (U.S.A.) Inc. DISCOUNT RATE: 7%. The char has been classified as  True and should be  False\n",
      "ents for delivery within 30 days. 9.78%, standard conventional fix has been classified as  False and should be  True\n",
      " LYNCH READY ASSETS TRUST: 8.63%. Annualized average rate of retur has been classified as  False and should be  True\n",
      "ducing industries increased 0.1%. Separately, Statistics Canada re has been classified as  False and should be  True\n",
      "eventual stake of just under 30%. But the government's action, whi has been classified as  False and should be  True\n",
      "ing for the highest takeover bid. Jaguar's own defenses against a  has been classified as  False and should be  True\n",
      "n shareholdings of more than 15%. Jaguar shares closed at 869 penc has been classified as  False and should be  True\n",
      "h issue rose to 8.05% from 7.77%. Typically, banks offer CD yields has been classified as  False and should be  True\n",
      "ny of those maturities was 8.61%. Still, on average, the major Cal has been classified as  False and should be  True\n",
      "ere on six-month issues is 8.32%. I had to reach back to French 10 has been classified as  False and should be  True\n",
      " balloonists). Back in the U.S.A. this kind of chi-chi airborne ac has been classified as  True and should be  False\n",
      " picnic basket. \"What's he doing?\" hissed my companion, who was the has been classified as  True and should be  False\n",
      "t if you miss 50 tanks somewhere?\" asks Rep. Norman Dicks (D., Wash has been classified as  True and should be  False\n",
      " about one-third that of the U.S.. And combining Fraser & Neave's o has been classified as  False and should be  True\n",
      "its indirect control of Fiat S.p. A. and will admit Prince Karim A has been classified as  True and should be  False\n",
      "nt's capital, while IFI owns 23%. As a result of the transaction,  has been classified as  False and should be  True\n",
      "its IFI shares to Mediobanca S.p. A. Mediobanca said during the we has been classified as  True and should be  False\n",
      " IFI shares to Mediobanca S.p. A. Mediobanca said during the weeke has been classified as  False and should be  True\n",
      "nerally for a worker's first job. Mr. Bush had been holding out fo has been classified as  False and should be  True\n",
      "bids ranged from 8.38% to 8.395%. Citicorp also said that the aver has been classified as  False and should be  True\n",
      "operating system created by AT&T. Using Gnu-Emacs, the spy could s has been classified as  False and should be  True\n",
      "ssion Corp. and Trunkline Gas Co. Texas Eastern Transmission will  has been classified as  False and should be  True\n",
      "prit probably took money from Ms. Shere's wallet and discarded all has been classified as  True and should be  False\n",
      " of the theft. For one thing, Ms. Shere can draw on her cookbook,  has been classified as  True and should be  False\n",
      "r, sympathetic fans have sent Ms. Shere copies of her recipes clip has been classified as  True and should be  False\n",
      "munity express disbelief that Ms. Shere kept only one copy of such has been classified as  True and should be  False\n",
      "habits affect butter texture. Ms. Shere has offered a $500 reward  has been classified as  True and should be  False\n",
      "an didn't know Mr. Wakeman's age. James R. Lees, 51, vice presiden has been classified as  False and should be  True\n",
      " of repaying the money,\" said Mr. Green. Eventually, Mr. Green tes has been classified as  True and should be  False\n",
      "\" said Mr. Green. Eventually, Mr. Green testified, he began duckin has been classified as  True and should be  False\n",
      "e judge when he visited. When Mr. Green won a $240,000 verdict in  has been classified as  True and should be  False\n",
      "d him an additional $100,000. Mr. Green thought little of it, he t has been classified as  True and should be  False\n",
      "hink I ought to get a commission... or part of your fee in this case has been classified as  True and should be  False\n",
      "or part of your fee in this case?\" Mr. Green said the judge asked h has been classified as  True and should be  False\n",
      "rt of your fee in this case?\" Mr. Green said the judge asked him.  has been classified as  True and should be  False\n",
      "he judge asked him. Appalled, Mr. Green never paid the money, he t has been classified as  True and should be  False\n",
      "Kicki said he will respond to Mr. Green's allegation at his trial. has been classified as  True and should be  False\n",
      " had dealings with the judge, Mr. Green declined to be interviewed has been classified as  True and should be  False\n",
      "s priced at par to yield 12 7/8%. Rated single-B-1 by Moody's Inve has been classified as  False and should be  True\n",
      "Moody's and single-B-plus by S&P. $75.1 million, two-part offering has been classified as  False and should be  True\n",
      "d 7.649% with a coupon of 7 1/2%. Interest on the bonds will be tr has been classified as  False and should be  True\n",
      "ated triple-A by Moody's and S&P. $500 million of Remic mortgage s has been classified as  False and should be  True\n",
      "at 101 1/4, via Daiwa Europe Ltd. 10 billion yen of 6% bonds due N has been classified as  False and should be  True\n",
      "id it acquired Laboratorium Prof. Dr. Berthold, a German maker of  has been classified as  True and should be  False\n"
     ]
    },
    {
     "name": "stdout",
     "output_type": "stream",
     "text": [
      "ays an official of the Japan-U.S. Business Council. But to Mitsubi has been classified as  True and should be  False\n",
      "or 30 years and six trillion yen. Time Warner Inc. and Sony Corp.  has been classified as  False and should be  True\n",
      "er senior vice president Jacob F. \"Jake\" Horton was the mastermind has been classified as  True and should be  False\n",
      " II Inc. and Hemmer & Yates Corp. -- to make payments to various p has been classified as  True and should be  False\n",
      "ual sales gains of more than 10%. To increase their share of that  has been classified as  False and should be  True\n",
      " products, including Tide and Mr. Clean, in Canada, but doesn't pl has been classified as  True and should be  False\n",
      "'t plan to bring them to the U.S.. Marketers believe most Americans has been classified as  False and should be  True\n",
      "be less there than meets the eye. Mr. Moon planned to convert mill has been classified as  False and should be  True\n",
      "cation Church members in the U.S. Mr. Moon's support for a Waterga has been classified as  False and should be  True\n",
      "he scope of this financial drain. Start-up costs for the Washingto has been classified as  False and should be  True\n",
      "al is expected to begin in March. U.S. law requires criminal defen has been classified as  False and should be  True\n",
      " of probation. State Senator J.E. \"Buster\" Brown, a Republican who has been classified as  True and should be  False\n",
      "d act as a deterrant to drug use. Richard Avena, executive directo has been classified as  False and should be  True\n",
      "ccord and made it a midsized car. Nissan instead has kept its new  has been classified as  False and should be  True\n",
      "ppable. As expected, Warner Bros. Records said it agreed to form a has been classified as  True and should be  False\n",
      "ffs on Soviet exports to the U.S.. In an unusually candid article a has been classified as  False and should be  True\n",
      " beyond his control and resulted... in riots and disturbances\" and l has been classified as  True and should be  False\n",
      "ces under a bill entered by Reps. Chandler (R., Wash.) and Andrews has been classified as  True and should be  False\n",
      "n free checking violates the law. HUGO FELLED vast timberlands. So has been classified as  False and should be  True\n",
      " said, `Why don't you come to us?' '' Mr. Spielvogel said. Mr. Ache has been classified as  True and should be  False\n",
      "ften worked out to less than 15%. More recently, he negotiated \"in has been classified as  False and should be  True\n",
      "backed Cambodian leader} Hun Sen. Is the trouble over? Can Sihanou has been classified as  False and should be  True\n",
      " we can expect China to stop aid. Let's put it bluntly. The Chines has been classified as  False and should be  True\n",
      "here does that first stimulus go?\" exclaims SUNY neurologist Paul M has been classified as  True and should be  False\n"
     ]
    }
   ],
   "source": [
    "from hw4_utils import data\n",
    "from hw4_utils import classifier\n",
    "for i,o in enumerate(data.load_candidates(dev)):\n",
    "  if y_svm[i] != y_dev[i]:\n",
    "    print(o.orig_obs, 'has been classified as ', y_svm[i], 'and should be ', y_dev[i])"
   ]
  },
  {
   "cell_type": "code",
   "execution_count": null,
   "metadata": {},
   "outputs": [],
   "source": []
  },
  {
   "cell_type": "code",
   "execution_count": null,
   "metadata": {},
   "outputs": [],
   "source": []
  },
  {
   "cell_type": "code",
   "execution_count": 232,
   "metadata": {},
   "outputs": [],
   "source": [
    "import string\n",
    "def has_verb(s):\n",
    "    for t in list(nltk.pos_tag(s.split())):\n",
    "        w,pos = t\n",
    "        if pos == \"VB\":\n",
    "            return True\n",
    "    return False\n",
    "\n",
    "def is_left_punct(w):\n",
    "    if w in string.punctuation:\n",
    "        return True\n",
    "    return False\n",
    "\n",
    "def is_right_num(w):\n",
    "    try:\n",
    "        float(w)\n",
    "        return True\n",
    "    except ValueError:\n",
    "        return False\n",
    "    \n",
    "# New features: Left raw has verb(LOV), Right raw has verb(ROV), Is Left Punct(ILP), Is Right Number(IRN), is L uppercase(ILU)"
   ]
  },
  {
   "cell_type": "markdown",
   "metadata": {},
   "source": [
    "##### Experiment 2"
   ]
  },
  {
   "cell_type": "code",
   "execution_count": 284,
   "metadata": {},
   "outputs": [
    {
     "data": {
      "text/html": [
       "<div>\n",
       "<style scoped>\n",
       "    .dataframe tbody tr th:only-of-type {\n",
       "        vertical-align: middle;\n",
       "    }\n",
       "\n",
       "    .dataframe tbody tr th {\n",
       "        vertical-align: top;\n",
       "    }\n",
       "\n",
       "    .dataframe thead th {\n",
       "        text-align: right;\n",
       "    }\n",
       "</style>\n",
       "<table border=\"1\" class=\"dataframe\">\n",
       "  <thead>\n",
       "    <tr style=\"text-align: right;\">\n",
       "      <th></th>\n",
       "      <th>LOL</th>\n",
       "      <th>IRU</th>\n",
       "      <th>LP</th>\n",
       "      <th>POL</th>\n",
       "      <th>POR</th>\n",
       "      <th>LOV</th>\n",
       "      <th>ROV</th>\n",
       "      <th>ILP</th>\n",
       "      <th>IRN</th>\n",
       "      <th>ILU</th>\n",
       "    </tr>\n",
       "  </thead>\n",
       "  <tbody>\n",
       "    <tr>\n",
       "      <th>0</th>\n",
       "      <td>9</td>\n",
       "      <td>True</td>\n",
       "      <td>False</td>\n",
       "      <td>NN</td>\n",
       "      <td>NNP</td>\n",
       "      <td>False</td>\n",
       "      <td>False</td>\n",
       "      <td>False</td>\n",
       "      <td>False</td>\n",
       "      <td>False</td>\n",
       "    </tr>\n",
       "    <tr>\n",
       "      <th>1</th>\n",
       "      <td>4</td>\n",
       "      <td>True</td>\n",
       "      <td>False</td>\n",
       "      <td>NN</td>\n",
       "      <td>DT</td>\n",
       "      <td>False</td>\n",
       "      <td>False</td>\n",
       "      <td>False</td>\n",
       "      <td>False</td>\n",
       "      <td>False</td>\n",
       "    </tr>\n",
       "    <tr>\n",
       "      <th>2</th>\n",
       "      <td>5</td>\n",
       "      <td>True</td>\n",
       "      <td>False</td>\n",
       "      <td>NN</td>\n",
       "      <td>DT</td>\n",
       "      <td>False</td>\n",
       "      <td>True</td>\n",
       "      <td>False</td>\n",
       "      <td>False</td>\n",
       "      <td>False</td>\n",
       "    </tr>\n",
       "    <tr>\n",
       "      <th>3</th>\n",
       "      <td>8</td>\n",
       "      <td>True</td>\n",
       "      <td>False</td>\n",
       "      <td>NN</td>\n",
       "      <td>DT</td>\n",
       "      <td>False</td>\n",
       "      <td>False</td>\n",
       "      <td>False</td>\n",
       "      <td>False</td>\n",
       "      <td>False</td>\n",
       "    </tr>\n",
       "    <tr>\n",
       "      <th>4</th>\n",
       "      <td>4</td>\n",
       "      <td>True</td>\n",
       "      <td>False</td>\n",
       "      <td>NN</td>\n",
       "      <td>CC</td>\n",
       "      <td>False</td>\n",
       "      <td>False</td>\n",
       "      <td>False</td>\n",
       "      <td>False</td>\n",
       "      <td>False</td>\n",
       "    </tr>\n",
       "  </tbody>\n",
       "</table>\n",
       "</div>"
      ],
      "text/plain": [
       "   LOL   IRU     LP POL  POR    LOV    ROV    ILP    IRN    ILU\n",
       "0    9  True  False  NN  NNP  False  False  False  False  False\n",
       "1    4  True  False  NN   DT  False  False  False  False  False\n",
       "2    5  True  False  NN   DT  False   True  False  False  False\n",
       "3    8  True  False  NN   DT  False  False  False  False  False\n",
       "4    4  True  False  NN   CC  False  False  False  False  False"
      ]
     },
     "execution_count": 284,
     "metadata": {},
     "output_type": "execute_result"
    }
   ],
   "source": [
    "from hw4_utils import data\n",
    "from hw4_utils import classifier\n",
    "\n",
    "y_train = [o.is_true_break for o in data.load_candidates(train)]\n",
    "X_train = list(data.load_candidates(train))\n",
    "\n",
    "X_dev = list(data.load_candidates(dev))\n",
    "\n",
    "X_test = list(data.load_candidates(test))\n",
    "\n",
    "data = []\n",
    "\n",
    "for o in X_train:\n",
    "    example = []\n",
    "    example.append(len(o.left_token))\n",
    "    example.append(is_first_up(o.right_token))\n",
    "    example.append(cont_period(o.left_token))\n",
    "    example.append(nltk.pos_tag([o.left_token])[0][1])\n",
    "    example.append(nltk.pos_tag([o.right_token])[0][1])\n",
    "    example.append(has_verb(o.left_raw))\n",
    "    example.append(has_verb(o.right_raw))\n",
    "    example.append(is_left_punct(o.left_token))\n",
    "    example.append(is_right_num(o.right_token))\n",
    "    example.append(is_first_up(o.left_token))\n",
    "    data.append(example)\n",
    "    \n",
    "for o in X_dev:\n",
    "    example = []\n",
    "    example.append(len(o.left_token))\n",
    "    example.append(is_first_up(o.right_token))\n",
    "    example.append(cont_period(o.left_token))\n",
    "    example.append(nltk.pos_tag([o.left_token])[0][1])\n",
    "    example.append(nltk.pos_tag([o.right_token])[0][1])\n",
    "    example.append(has_verb(o.left_raw))\n",
    "    example.append(has_verb(o.right_raw))\n",
    "    example.append(is_left_punct(o.left_token))\n",
    "    example.append(is_right_num(o.right_token))\n",
    "    example.append(is_first_up(o.left_token))\n",
    "    data.append(example)\n",
    "    \n",
    "for o in X_test:\n",
    "    example = []\n",
    "    example.append(len(o.left_token))\n",
    "    example.append(is_first_up(o.right_token))\n",
    "    example.append(cont_period(o.left_token))\n",
    "    example.append(nltk.pos_tag([o.left_token])[0][1])\n",
    "    example.append(nltk.pos_tag([o.right_token])[0][1])\n",
    "    example.append(has_verb(o.left_raw))\n",
    "    example.append(has_verb(o.right_raw))\n",
    "    example.append(is_left_punct(o.left_token))\n",
    "    example.append(is_right_num(o.right_token))\n",
    "    example.append(is_first_up(o.left_token))\n",
    "    data.append(example)\n",
    "\n",
    "    \n",
    "df = pd.DataFrame(data,columns=['LOL','IRU','LP','POL','POR', 'LOV','ROV','ILP','IRN','ILU'])\n",
    "df.head()"
   ]
  },
  {
   "cell_type": "code",
   "execution_count": 285,
   "metadata": {},
   "outputs": [],
   "source": [
    "labelencoder = preprocessing.LabelEncoder()\n",
    "df.iloc[:,1] = labelencoder.fit_transform(df.iloc[:,1])\n",
    "df.iloc[:,2] = labelencoder.fit_transform(df.iloc[:,2])\n",
    "df.iloc[:,3] = labelencoder.fit_transform(df.iloc[:,3])\n",
    "df.iloc[:,4] = labelencoder.fit_transform(df.iloc[:,4])\n",
    "df.iloc[:,5] = labelencoder.fit_transform(df.iloc[:,5])\n",
    "df.iloc[:,6] = labelencoder.fit_transform(df.iloc[:,6])\n",
    "df.iloc[:,7] = labelencoder.fit_transform(df.iloc[:,7])\n",
    "df.iloc[:,8] = labelencoder.fit_transform(df.iloc[:,8])\n",
    "\n",
    "onehotencoder = preprocessing.OneHotEncoder(categorical_features = [1,2,3,4,5,6,7,8])\n",
    "data = onehotencoder.fit_transform(df).toarray()"
   ]
  },
  {
   "cell_type": "code",
   "execution_count": 286,
   "metadata": {},
   "outputs": [],
   "source": [
    "X_train = data[:len(y_train),:]\n",
    "X_dev = data[len(y_train):len(y_train)+len(y_dev),:]\n",
    "X_test = data[len(y_train)+len(y_dev):,:]"
   ]
  },
  {
   "cell_type": "code",
   "execution_count": 276,
   "metadata": {},
   "outputs": [
    {
     "name": "stdout",
     "output_type": "stream",
     "text": [
      "             precision    recall  f1-score   support\n",
      "\n",
      "      False       0.96      0.98      0.97      1766\n",
      "       True       0.99      0.99      0.99      5769\n",
      "\n",
      "avg / total       0.98      0.98      0.98      7535\n",
      "\n"
     ]
    }
   ],
   "source": [
    "X_train_scaled = preprocessing.scale(X_train)\n",
    "scaler = preprocessing.StandardScaler().fit(X_train)\n",
    "X_dev_scaled = scaler.transform(X_dev)\n",
    "\n",
    "clf = LinearSVC()\n",
    "clf.fit(X_train_scaled, y_train)\n",
    "y_svm = clf.predict(X_dev_scaled)\n",
    "print(classification_report(y_dev, y_svm))"
   ]
  },
  {
   "cell_type": "code",
   "execution_count": 277,
   "metadata": {},
   "outputs": [
    {
     "name": "stdout",
     "output_type": "stream",
     "text": [
      "             precision    recall  f1-score   support\n",
      "\n",
      "      False       0.98      0.96      0.97      1766\n",
      "       True       0.99      1.00      0.99      5769\n",
      "\n",
      "avg / total       0.99      0.99      0.99      7535\n",
      "\n"
     ]
    }
   ],
   "source": [
    "clf = svm.SVC(kernel='rbf',gamma=1,C=1)\n",
    "clf.fit(X_train_scaled, y_train)\n",
    "y_svm = clf.predict(X_dev_scaled)\n",
    "print(classification_report(y_dev, y_svm))"
   ]
  },
  {
   "cell_type": "markdown",
   "metadata": {},
   "source": [
    "#### Error analysis"
   ]
  },
  {
   "cell_type": "code",
   "execution_count": 246,
   "metadata": {},
   "outputs": [
    {
     "name": "stdout",
     "output_type": "stream",
     "text": [
      "s Operations to Finmeccanica S.p. A. for $295 million. Finmeccanic classified as  True should be  False\n",
      "e said. \"That attracts attention... it was just another one of the r classified as  False should be  True\n",
      "be paid $240,000. Besides Messrs. Cray and Barnum, other senior ma classified as  True should be  False\n",
      "eveloped the disk drives for PCs. Dennis Hayes and Dale Heathering classified as  False should be  True\n",
      "me $38.3 billion world-wide. F.H. Faulding & Co., an Australian ph classified as  True should be  False\n",
      "imex Inc. for changes in the U.S. Generalized System of Preference classified as  True should be  False\n",
      " other investors outside the U.S..\" Such devices have boosted Japane classified as  False should be  True\n",
      "ional Monetary Fund. The U.S.S.R. belongs to neither organization. classified as  True should be  False\n",
      "Jim Courter. \"Remember Pinocchio?\" says a female voice. \"Consider J classified as  True should be  False\n",
      " candidates. \"Who's really lying?\" asks a female voice. \"Florio's l classified as  True should be  False\n",
      "\"Do I have much sympathy for her?\" Mr. Watson asks. \"Not really. I  classified as  True should be  False\n",
      "f Scoring High, says that Messrs. Kaminski and Mehrens are ignorin classified as  True should be  False\n",
      "as a publication of Random House. McGraw-Hill was outraged. In a 1 classified as  False should be  True\n",
      "part of Macmillan/McGraw. Messrs. Brownell and Kean say they are u classified as  True should be  False\n",
      "ional ballplayers or accountants... and nobody blinks an eye. When y classified as  True should be  False\n",
      "Mr. Trudeau's attorney, Norman K. Samnick, said the harassment con classified as  True should be  False\n",
      "media firm run by former CBS Inc. President John Backe. Price Comm classified as  True should be  False\n",
      "because they once took out an ad. Ad Notes.... Interpublic Group s classified as  False should be  True\n",
      "ed, \"Is that wholesale or retail?\" he re-thought the matter. Offeri classified as  True should be  False\n",
      "h day that Congress fails to act... will cause additional disruption classified as  True should be  False\n",
      "ch in turn owns two-thirds of NL. NL is officially making the offe classified as  False should be  True\n",
      "ent in Free State is \"very small... less than $4 million,\" Mr. Wakui classified as  True should be  False\n",
      "ntitled, \"The Bells in Your Care.\" Says Mr. Baldwin, \"We recognize  classified as  False should be  True\n",
      " recently afflicted the Sino-U.S. relationship. Mr. Nixon, the mos classified as  True should be  False\n",
      "oney worship' among young people... caused the problem.\" He is just  classified as  True should be  False\n",
      "e call to his office. Crane & Co. Securities Inc., of Mount Clemen classified as  True should be  False\n",
      "es Park, N.J., $15,000; Robert C. Najarian, Brooklyn Park, Minn.,  classified as  True should be  False\n",
      " San Francisco, $25,000; Rabia M. Zayed, San Francisco, $50,000. T classified as  True should be  False\n",
      " two-week suspension; Randolph K. Pace, New York, $10,000 fine and classified as  True should be  False\n",
      "Oct. 13 stock plunge in New York. U.S. stock-index futures aren't  classified as  False should be  True\n",
      " to be that the cash market here... is big enough and liquid enough  classified as  True should be  False\n",
      "ares with estimates that the U.S. \"derivatives\" market is perhaps  classified as  True should be  False\n",
      " sidewalk and the road. Tray Bon? PORTING POTABLES just got easier classified as  False should be  True\n",
      "hen all you need is one good one?' '' he says. \"They got us thinkin classified as  True should be  False\n",
      "ld increase dramatically. Ruth K. Nelson Cullowhee, N.C. ROGERS CO classified as  True should be  False\n",
      "y. Ruth K. Nelson Cullowhee, N.C. ROGERS COMMUNICATIONS Inc. said  classified as  False should be  True\n",
      "med at preventing Texas Air Corp. Chairman Frank Lorenzo from atte classified as  True should be  False\n",
      "s not a trivial issue. \"You have... raised important questions which classified as  True should be  False\n",
      "tments as provided by Article II. Article II places on the preside classified as  False should be  True\n",
      "ss appointments under Article II. Section 605 also imposes unconst classified as  False should be  True\n",
      " the Senate had ratified SALT II. If a veto is unworkable because  classified as  False should be  True\n",
      "h General Motors Acceptance Corp. couldn't put their down payment  classified as  True should be  False\n",
      "ter, the chairman of Contel Corp. who is rallying other CEOs to th classified as  True should be  False\n",
      "multi-crystal samples. William C. Walbrecher Jr., an executive at  classified as  True should be  False\n",
      "timate result came in Hymowitz v. Lilly, where the highest New Yor classified as  True should be  False\n",
      "tions of an imminent bid by Ford. B.A.T Industries, which is being classified as  False should be  True\n",
      " a unit of France's Michelin S.A. Michelin officials couldn't imme classified as  False should be  True\n",
      "c. said its president, Michael K. Russell, will resign rather than classified as  True should be  False\n",
      "w headquarters in Charlotte, N.C. Mr. Russell, who co-founded the  classified as  False should be  True\n",
      "ing the more-advanced Intel Corp. 386 microprocessor, with four me classified as  True should be  False\n",
      " already is derived from the U.S.. Carnival Cruise Lines Inc. said  classified as  False should be  True\n",
      "iled to ease strains in Sino-U.S. ties caused by China's crackdown classified as  True should be  False\n",
      "o the former president about U.S. \"interference\" in China's domest classified as  True should be  False\n",
      "ion is scheduled to close Monday. Guber/Peters has been locked in  classified as  False should be  True\n",
      " year sold 1,214 cars in the U.S. Howard Mosher, president and chi classified as  False should be  True\n",
      " will join die-hard fans like Mr. de Castro and pack the stands to classified as  True should be  False\n",
      "rance in Texas to try out for Mr. Weaver's team. \"It doesn't repla classified as  True should be  False\n",
      "ky\" stuff from pitchers, says Mr. Weaver, the manager. Expect brus classified as  True should be  False\n",
      " in Aiken, S.C., and Augusta, Ga. Alltel, which provides local tel classified as  False should be  True\n",
      "6,000 from the previous sale Oct. Seats currently are quoted at $4 classified as  False should be  True\n",
      "l Motors Corp. and Ford Motor Co. have been trying to amass 15% st classified as  True should be  False\n",
      " picnic basket. \"What's he doing?\" hissed my companion, who was the classified as  True should be  False\n",
      "t if you miss 50 tanks somewhere?\" asks Rep. Norman Dicks (D., Wash classified as  True should be  False\n",
      "its indirect control of Fiat S.p. A. and will admit Prince Karim A classified as  True should be  False\n",
      " indirect control of Fiat S.p. A. and will admit Prince Karim Aga  classified as  True should be  False\n",
      "its IFI shares to Mediobanca S.p. A. Mediobanca said during the we classified as  True should be  False\n",
      " IFI shares to Mediobanca S.p. A. Mediobanca said during the weeke classified as  False should be  True\n",
      "operating system created by AT&T. Using Gnu-Emacs, the spy could s classified as  False should be  True\n",
      " of the theft. For one thing, Ms. Shere can draw on her cookbook,  classified as  True should be  False\n",
      "banks and the bar association...?\" wrote a columnist for the Tribun classified as  True should be  False\n",
      "hink I ought to get a commission... or part of your fee in this case classified as  True should be  False\n",
      "or part of your fee in this case?\" Mr. Green said the judge asked h classified as  True should be  False\n",
      "nds (Houston Lighting & Power Co. Project), due Oct. 1, 2019, were classified as  True should be  False\n",
      "id it acquired Laboratorium Prof. Dr. Berthold, a German maker of  classified as  True should be  False\n",
      "ays an official of the Japan-U.S. Business Council. But to Mitsubi classified as  True should be  False\n",
      " and Jon Peters. The Warner Bros. studio and Sony signaled they ar classified as  True should be  False\n",
      "s exclusively at the Warner Bros. studio. The two sides in the leg classified as  True should be  False\n",
      "ons. In a statement, Southern Co. President Edward L. Addison said classified as  True should be  False\n",
      "er senior vice president Jacob F. \"Jake\" Horton was the mastermind classified as  True should be  False\n",
      "'t plan to bring them to the U.S.. Marketers believe most Americans classified as  False should be  True\n",
      "cation Church members in the U.S. Mr. Moon's support for a Waterga classified as  False should be  True\n",
      "is going back to Korea and Japan.\" (Europe had proved even less hos classified as  False should be  True\n",
      "al is expected to begin in March. U.S. law requires criminal defen classified as  False should be  True\n",
      "phone calls seeking comment. U.S.. AND BRITISH LAW FIRMS announce r classified as  True should be  False\n",
      " capital markets, according to A. Bruce Schimberg, Sidley's senior classified as  True should be  False\n",
      " of probation. State Senator J.E. \"Buster\" Brown, a Republican who classified as  True should be  False\n",
      "ng, sales, design, research, etc. -- that report separately back t classified as  True should be  False\n",
      "ppable. As expected, Warner Bros. Records said it agreed to form a classified as  True should be  False\n",
      " beyond his control and resulted... in riots and disturbances\" and l classified as  True should be  False\n"
     ]
    },
    {
     "name": "stdout",
     "output_type": "stream",
     "text": [
      "ces under a bill entered by Reps. Chandler (R., Wash.) and Andrews classified as  True should be  False\n",
      " said, `Why don't you come to us?' '' Mr. Spielvogel said. Mr. Ache classified as  True should be  False\n",
      "backed Cambodian leader} Hun Sen. Is the trouble over? Can Sihanou classified as  False should be  True\n",
      "here does that first stimulus go?\" exclaims SUNY neurologist Paul M classified as  True should be  False\n"
     ]
    }
   ],
   "source": [
    "from hw4_utils import data\n",
    "from hw4_utils import classifier\n",
    "for i,o in enumerate(data.load_candidates(dev)):\n",
    "  if y_svm[i] != y_dev[i]:\n",
    "    print(o.orig_obs, 'classified as ', y_svm[i], 'should be ', y_dev[i])"
   ]
  },
  {
   "cell_type": "code",
   "execution_count": 287,
   "metadata": {},
   "outputs": [
    {
     "data": {
      "text/plain": [
       "SVC(C=2, cache_size=200, class_weight=None, coef0=0.0,\n",
       "  decision_function_shape='ovr', degree=3, gamma=1.5, kernel='rbf',\n",
       "  max_iter=-1, probability=False, random_state=None, shrinking=True,\n",
       "  tol=0.001, verbose=False)"
      ]
     },
     "execution_count": 287,
     "metadata": {},
     "output_type": "execute_result"
    }
   ],
   "source": [
    "clf = svm.SVC(kernel='rbf',gamma=1.5,C=2)\n",
    "clf.fit(X_train_scaled, y_train)"
   ]
  },
  {
   "cell_type": "code",
   "execution_count": 288,
   "metadata": {},
   "outputs": [
    {
     "name": "stdout",
     "output_type": "stream",
     "text": [
      "             precision    recall  f1-score   support\n",
      "\n",
      "      False       0.99      0.97      0.98      2205\n",
      "       True       0.99      1.00      0.99      7531\n",
      "\n",
      "avg / total       0.99      0.99      0.99      9736\n",
      "\n"
     ]
    }
   ],
   "source": [
    "from hw4_utils import data\n",
    "from hw4_utils import classifier\n",
    "\n",
    "X_test_scaled = scaler.transform(X_test)\n",
    "y_svm = clf.predict(X_test_scaled)\n",
    "y_test = [o.is_true_break for o in data.load_candidates(test)]\n",
    "print(classification_report(y_test, y_svm))"
   ]
  },
  {
   "cell_type": "code",
   "execution_count": null,
   "metadata": {},
   "outputs": [],
   "source": []
  }
 ],
 "metadata": {
  "kernelspec": {
   "display_name": "Python 3",
   "language": "python",
   "name": "python3"
  },
  "language_info": {
   "codemirror_mode": {
    "name": "ipython",
    "version": 3
   },
   "file_extension": ".py",
   "mimetype": "text/x-python",
   "name": "python",
   "nbconvert_exporter": "python",
   "pygments_lexer": "ipython3",
   "version": "3.6.4"
  }
 },
 "nbformat": 4,
 "nbformat_minor": 2
}
